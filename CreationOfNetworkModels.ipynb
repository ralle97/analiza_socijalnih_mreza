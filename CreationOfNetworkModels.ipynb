{
 "cells": [
  {
   "cell_type": "code",
   "execution_count": 89,
   "id": "041d5a58",
   "metadata": {},
   "outputs": [],
   "source": [
    "import networkx as nx\n",
    "from networkx.algorithms import community as com\n",
    "import pickle\n",
    "import pandas as pd\n",
    "import matplotlib.pyplot as plt\n",
    "import numpy as np\n",
    "import powerlaw as pl\n",
    "from collections import Counter\n",
    "from operator import itemgetter"
   ]
  },
  {
   "cell_type": "code",
   "execution_count": 2,
   "id": "bc65a0e9",
   "metadata": {},
   "outputs": [],
   "source": [
    "#%run StatisticalDataAnalysis.ipynb"
   ]
  },
  {
   "cell_type": "code",
   "execution_count": 3,
   "id": "7a351527",
   "metadata": {},
   "outputs": [],
   "source": [
    "#subDF = pd.DataFrame(data=subDict)\n",
    "\n",
    "#with open(\"data/subredditsData\", \"wb+\") as file:\n",
    "#    pickle.dump(subDF, file)"
   ]
  },
  {
   "cell_type": "code",
   "execution_count": 4,
   "id": "5ad81a96",
   "metadata": {},
   "outputs": [],
   "source": [
    "#usersDF = pd.DataFrame(data=usersDict)\n",
    "\n",
    "#with open(\"data/usersData\", \"wb+\") as file:\n",
    "#    pickle.dump(usersDF, file)"
   ]
  },
  {
   "cell_type": "code",
   "execution_count": 5,
   "id": "ddd71542",
   "metadata": {},
   "outputs": [],
   "source": [
    "#submissionsDF = pd.DataFrame(data=submissionDict)\n",
    "\n",
    "#with open(\"data/submissionsData\", \"wb+\") as file:\n",
    "#    pickle.dump(submissionsDF, file)"
   ]
  },
  {
   "cell_type": "code",
   "execution_count": 6,
   "id": "2fcc463c",
   "metadata": {},
   "outputs": [],
   "source": [
    "with open(\"data/subredditsData\", 'rb') as file:\n",
    "    subDF = pickle.load(file)"
   ]
  },
  {
   "cell_type": "code",
   "execution_count": 7,
   "id": "b3e1847e",
   "metadata": {},
   "outputs": [],
   "source": [
    "with open(\"data/usersData\", 'rb') as file:\n",
    "    usersDF = pickle.load(file)"
   ]
  },
  {
   "cell_type": "code",
   "execution_count": 8,
   "id": "9174486c",
   "metadata": {},
   "outputs": [],
   "source": [
    "with open(\"data/submissionsData\", 'rb') as file:\n",
    "    submissionsDF = pickle.load(file)"
   ]
  },
  {
   "cell_type": "code",
   "execution_count": 9,
   "id": "f8db9cea",
   "metadata": {},
   "outputs": [],
   "source": [
    "#for index in subDF:\n",
    "#    subDF[index]['users'] = list(filter(lambda a: a != '[deleted]', subDF[index]['users']))"
   ]
  },
  {
   "cell_type": "code",
   "execution_count": 10,
   "id": "2626b999",
   "metadata": {},
   "outputs": [],
   "source": [
    "subreddits = set()\n",
    "for _, item in subDF.iteritems():\n",
    "    subreddits.add(item['subreddit'])"
   ]
  },
  {
   "cell_type": "code",
   "execution_count": 11,
   "id": "ebda6512",
   "metadata": {},
   "outputs": [],
   "source": [
    "SNet = nx.Graph()\n",
    "SNet.add_nodes_from(subreddits)"
   ]
  },
  {
   "cell_type": "code",
   "execution_count": 12,
   "id": "0c14a745",
   "metadata": {},
   "outputs": [],
   "source": [
    "for _, item in usersDF.iteritems():\n",
    "    if len(item['subreddit_ids']) > 1:\n",
    "        for i in range(0, len(item['subreddit_ids']) - 1):\n",
    "            for j in range(i + 1, len(item['subreddit_ids'])):\n",
    "                if (subDF[item['subreddit_ids'][i]]['subreddit'], subDF[item['subreddit_ids'][j]]['subreddit']) in SNet.edges:\n",
    "                    SNet.edges[subDF[item['subreddit_ids'][i]]['subreddit'], subDF[item['subreddit_ids'][j]]['subreddit']]['weight'] += 1\n",
    "                else:\n",
    "                    SNet.add_edge(subDF[item['subreddit_ids'][i]]['subreddit'], subDF[item['subreddit_ids'][j]]['subreddit'], weight=1)"
   ]
  },
  {
   "cell_type": "code",
   "execution_count": 13,
   "id": "54c1cd46",
   "metadata": {},
   "outputs": [],
   "source": [
    "#print(usersDF.iat[2, 1])"
   ]
  },
  {
   "cell_type": "code",
   "execution_count": 14,
   "id": "0b6bde9b",
   "metadata": {},
   "outputs": [],
   "source": [
    "#for _, item in usersDF.iteritems():\n",
    "#    print(item['subreddit_ids'])"
   ]
  },
  {
   "cell_type": "code",
   "execution_count": 15,
   "id": "45e2631e",
   "metadata": {},
   "outputs": [],
   "source": [
    "outputPath = \"models/SNet_count_aggregation.gml\"\n",
    "\n",
    "nx.write_gml(SNet, outputPath)"
   ]
  },
  {
   "cell_type": "code",
   "execution_count": 16,
   "id": "1495047b",
   "metadata": {},
   "outputs": [],
   "source": [
    "SNetTSubreddits = ['reddit.com', 'pics', 'worldnews', 'programming', 'business', 'politics', 'obama', 'science',\n",
    "                   'technology', 'WTF', 'AskReddit', 'netsec', 'philosophy', 'videos', 'offbeat', 'funny', 'entertainment',\n",
    "                   'linux', 'geek', 'gaming', 'comics', 'gadgets', 'nsfw', 'news', 'environment', 'atheism', 'canada',\n",
    "                   'math', 'Economics', 'scifi', 'bestof', 'cogsci', 'joel', 'Health', 'guns', 'photography', 'software',\n",
    "                   'history', 'ideas']"
   ]
  },
  {
   "cell_type": "code",
   "execution_count": 17,
   "id": "55f0154c",
   "metadata": {},
   "outputs": [],
   "source": [
    "#for id, item in subDF.items():\n",
    "#    print(item['subreddit'])"
   ]
  },
  {
   "cell_type": "code",
   "execution_count": 18,
   "id": "c2fb1e3b",
   "metadata": {},
   "outputs": [],
   "source": [
    "SNetT = nx.Graph()\n",
    "SNetT.add_nodes_from(SNetTSubreddits)"
   ]
  },
  {
   "cell_type": "code",
   "execution_count": 19,
   "id": "5dea55b0",
   "metadata": {},
   "outputs": [],
   "source": [
    "for _, item in usersDF.iteritems():\n",
    "    if len(item['subreddit_ids']) > 1:\n",
    "        for i in range(0, len(item['subreddit_ids']) - 1):\n",
    "            for j in range(i + 1, len(item['subreddit_ids'])):\n",
    "                if subDF[item['subreddit_ids'][i]]['subreddit'] in SNetTSubreddits and subDF[item['subreddit_ids'][j]]['subreddit'] in SNetTSubreddits:\n",
    "                    if (subDF[item['subreddit_ids'][i]]['subreddit'], subDF[item['subreddit_ids'][j]]['subreddit']) in SNetT.edges:\n",
    "                        SNetT.edges[subDF[item['subreddit_ids'][i]]['subreddit'], subDF[item['subreddit_ids'][j]]['subreddit']]['weight'] += 1\n",
    "                    else:\n",
    "                        SNetT.add_edge(subDF[item['subreddit_ids'][i]]['subreddit'], subDF[item['subreddit_ids'][j]]['subreddit'], weight=1)"
   ]
  },
  {
   "cell_type": "code",
   "execution_count": 20,
   "id": "68b173f1",
   "metadata": {},
   "outputs": [],
   "source": [
    "outputPath = \"models/SNetT_count_aggregation.gml\"\n",
    "\n",
    "nx.write_gml(SNetT, outputPath)"
   ]
  },
  {
   "cell_type": "code",
   "execution_count": 26,
   "id": "449cfb4f",
   "metadata": {},
   "outputs": [],
   "source": [
    "SNetClean = SNet\n",
    "weightToCut = 4\n",
    "\n",
    "edgesToCut = list(edge[:2] for edge in list(filter(lambda edge: edge[2] < weightToCut, (e for e in SNetClean.edges.data('weight')))))\n",
    "SNetClean.remove_edges_from(edgesToCut)\n",
    "\n",
    "SNetClean.remove_nodes_from(list(nx.isolates(SNetClean)))"
   ]
  },
  {
   "cell_type": "code",
   "execution_count": 27,
   "id": "d81a6127",
   "metadata": {},
   "outputs": [],
   "source": [
    "outputPath = \"models/SNet_count_aggregation_clean.gml\"\n",
    "\n",
    "nx.write_gml(SNetClean, outputPath)"
   ]
  },
  {
   "cell_type": "code",
   "execution_count": 52,
   "id": "ed1e9047",
   "metadata": {},
   "outputs": [
    {
     "name": "stdout",
     "output_type": "stream",
     "text": [
      "('reddit.com', 0.9298440979955456)\n",
      "('pics', 0.8351893095768373)\n",
      "('politics', 0.8296213808463251)\n",
      "('science', 0.809576837416481)\n",
      "('technology', 0.809576837416481)\n",
      "('funny', 0.8006681514476615)\n",
      "('worldnews', 0.7951002227171492)\n",
      "('WTF', 0.7761692650334076)\n",
      "('entertainment', 0.7483296213808462)\n",
      "('programming', 0.7483296213808462)\n"
     ]
    }
   ],
   "source": [
    "#print(nx.degree_centrality(SNet))\n",
    "#print(nx.eigenvector_centrality(SNet))\n",
    "#print(nx.closeness_centrality(SNet))\n",
    "#print(nx.betweenness_centrality(SNet))\n",
    "#print(nx.average_clustering(SNet))"
   ]
  },
  {
   "cell_type": "code",
   "execution_count": 57,
   "id": "7612eb2a",
   "metadata": {},
   "outputs": [
    {
     "name": "stdout",
     "output_type": "stream",
     "text": [
      "SNet\n",
      "\n",
      "\n",
      "Top10 by degree centrality:\n",
      "reddit.com - 0.9298440979955456\n",
      "pics - 0.8351893095768373\n",
      "politics - 0.8296213808463251\n",
      "science - 0.809576837416481\n",
      "technology - 0.809576837416481\n",
      "funny - 0.8006681514476615\n",
      "worldnews - 0.7951002227171492\n",
      "WTF - 0.7761692650334076\n",
      "entertainment - 0.7483296213808462\n",
      "programming - 0.7483296213808462\n",
      "\n",
      "Top10 by eigenvector centrality:\n",
      "reddit.com - 0.09642333862900651\n",
      "politics - 0.09578903179566962\n",
      "pics - 0.09577867984820042\n",
      "science - 0.09555061596590253\n",
      "technology - 0.0955174025041317\n",
      "funny - 0.09543619830622588\n",
      "worldnews - 0.09525603994885815\n",
      "WTF - 0.09479597060658125\n",
      "entertainment - 0.09432638643713814\n",
      "business - 0.09379940162405244\n",
      "\n",
      "Top10 by closeness centrality:\n",
      "reddit.com - 0.9331988041158501\n",
      "pics - 0.8514328136599852\n",
      "politics - 0.8378673424020472\n",
      "technology - 0.8331821568900135\n",
      "funny - 0.8270161464782464\n",
      "science - 0.8247273564049672\n",
      "worldnews - 0.8232085214944608\n",
      "WTF - 0.8097866434266164\n",
      "entertainment - 0.7925571403749863\n",
      "programming - 0.7925571403749863\n",
      "\n",
      "Top10 by betweenness centrality:\n",
      "reddit.com - 0.18961698838939076\n",
      "pics - 0.06578494514416311\n",
      "politics - 0.058038031389974216\n",
      "programming - 0.051241308218391006\n",
      "technology - 0.04877669154741681\n",
      "science - 0.04618256864170929\n",
      "WTF - 0.045907995944372684\n",
      "funny - 0.045840902307619134\n",
      "worldnews - 0.04545237117831337\n",
      "entertainment - 0.035252123823492416\n",
      "\n",
      "0.8449317408549903\n"
     ]
    }
   ],
   "source": [
    "print(\"SNet\\n\")\n",
    "print(\"\\nTop10 by degree centrality:\")\n",
    "for elem in sorted(nx.degree_centrality(SNet).items(), key = lambda item: item[1], reverse=True)[:10]:\n",
    "    print(str(elem[0]) + \" - \" + str(elem[1]))\n",
    "print(\"\\nTop10 by eigenvector centrality:\")\n",
    "for elem in sorted(nx.eigenvector_centrality(SNet).items(), key = lambda item: item[1], reverse=True)[:10]:\n",
    "    print(str(elem[0]) + \" - \" + str(elem[1]))\n",
    "print(\"\\nTop10 by closeness centrality:\")\n",
    "for elem in sorted(nx.closeness_centrality(SNet).items(), key = lambda item: item[1], reverse=True)[:10]:\n",
    "    print(str(elem[0]) + \" - \" + str(elem[1]))\n",
    "print(\"\\nTop10 by betweenness centrality:\")\n",
    "for elem in sorted(nx.betweenness_centrality(SNet).items(), key = lambda item: item[1], reverse=True)[:10]:\n",
    "    print(str(elem[0]) + \" - \" + str(elem[1]))\n",
    "print()\n",
    "print(nx.average_clustering(SNet))"
   ]
  },
  {
   "cell_type": "code",
   "execution_count": 58,
   "id": "dc1d9a36",
   "metadata": {},
   "outputs": [
    {
     "name": "stdout",
     "output_type": "stream",
     "text": [
      "SNetT\n",
      "\n",
      "\n",
      "Top10 by degree centrality:\n",
      "reddit.com - 1.0\n",
      "pics - 1.0\n",
      "worldnews - 1.0\n",
      "programming - 1.0\n",
      "business - 1.0\n",
      "politics - 1.0\n",
      "obama - 1.0\n",
      "science - 1.0\n",
      "technology - 1.0\n",
      "WTF - 1.0\n",
      "\n",
      "Top10 by eigenvector centrality:\n",
      "reddit.com - 0.16012815380508713\n",
      "pics - 0.16012815380508713\n",
      "worldnews - 0.16012815380508713\n",
      "programming - 0.16012815380508713\n",
      "business - 0.16012815380508713\n",
      "politics - 0.16012815380508713\n",
      "obama - 0.16012815380508713\n",
      "science - 0.16012815380508713\n",
      "technology - 0.16012815380508713\n",
      "WTF - 0.16012815380508713\n",
      "\n",
      "Top10 by closeness centrality:\n",
      "reddit.com - 1.0\n",
      "pics - 1.0\n",
      "worldnews - 1.0\n",
      "programming - 1.0\n",
      "business - 1.0\n",
      "politics - 1.0\n",
      "obama - 1.0\n",
      "science - 1.0\n",
      "technology - 1.0\n",
      "WTF - 1.0\n",
      "\n",
      "Top10 by betweenness centrality:\n",
      "reddit.com - 0.0\n",
      "pics - 0.0\n",
      "worldnews - 0.0\n",
      "programming - 0.0\n",
      "business - 0.0\n",
      "politics - 0.0\n",
      "obama - 0.0\n",
      "science - 0.0\n",
      "technology - 0.0\n",
      "WTF - 0.0\n",
      "\n",
      "1.0\n"
     ]
    }
   ],
   "source": [
    "print(\"SNetT\\n\")\n",
    "print(\"\\nTop10 by degree centrality:\")\n",
    "for elem in sorted(nx.degree_centrality(SNetT).items(), key = lambda item: item[1], reverse=True)[:10]:\n",
    "    print(str(elem[0]) + \" - \" + str(elem[1]))\n",
    "print(\"\\nTop10 by eigenvector centrality:\")\n",
    "for elem in sorted(nx.eigenvector_centrality(SNetT).items(), key = lambda item: item[1], reverse=True)[:10]:\n",
    "    print(str(elem[0]) + \" - \" + str(elem[1]))\n",
    "print(\"\\nTop10 by closeness centrality:\")\n",
    "for elem in sorted(nx.closeness_centrality(SNetT).items(), key = lambda item: item[1], reverse=True)[:10]:\n",
    "    print(str(elem[0]) + \" - \" + str(elem[1]))\n",
    "print(\"\\nTop10 by betweenness centrality:\")\n",
    "for elem in sorted(nx.betweenness_centrality(SNetT).items(), key = lambda item: item[1], reverse=True)[:10]:\n",
    "    print(str(elem[0]) + \" - \" + str(elem[1]))\n",
    "print()\n",
    "print(nx.average_clustering(SNetT))"
   ]
  },
  {
   "cell_type": "code",
   "execution_count": 59,
   "id": "12c7a74f",
   "metadata": {},
   "outputs": [
    {
     "name": "stdout",
     "output_type": "stream",
     "text": [
      "SNetClean\n",
      "\n",
      "\n",
      "Top10 by degree centrality:\n",
      "reddit.com - 0.9298440979955456\n",
      "pics - 0.8351893095768373\n",
      "politics - 0.8296213808463251\n",
      "science - 0.809576837416481\n",
      "technology - 0.809576837416481\n",
      "funny - 0.8006681514476615\n",
      "worldnews - 0.7951002227171492\n",
      "WTF - 0.7761692650334076\n",
      "entertainment - 0.7483296213808462\n",
      "programming - 0.7483296213808462\n",
      "\n",
      "Top10 by eigenvector centrality:\n",
      "reddit.com - 0.09642333862900651\n",
      "politics - 0.09578903179566962\n",
      "pics - 0.09577867984820042\n",
      "science - 0.09555061596590253\n",
      "technology - 0.0955174025041317\n",
      "funny - 0.09543619830622588\n",
      "worldnews - 0.09525603994885815\n",
      "WTF - 0.09479597060658125\n",
      "entertainment - 0.09432638643713814\n",
      "business - 0.09379940162405244\n",
      "\n",
      "Top10 by closeness centrality:\n",
      "reddit.com - 0.9331988041158501\n",
      "pics - 0.8514328136599852\n",
      "politics - 0.8378673424020472\n",
      "technology - 0.8331821568900135\n",
      "funny - 0.8270161464782464\n",
      "science - 0.8247273564049672\n",
      "worldnews - 0.8232085214944608\n",
      "WTF - 0.8097866434266164\n",
      "entertainment - 0.7925571403749863\n",
      "programming - 0.7925571403749863\n",
      "\n",
      "Top10 by betweenness centrality:\n",
      "reddit.com - 0.18961698838939076\n",
      "pics - 0.06578494514416311\n",
      "politics - 0.058038031389974216\n",
      "programming - 0.051241308218391006\n",
      "technology - 0.04877669154741681\n",
      "science - 0.04618256864170929\n",
      "WTF - 0.045907995944372684\n",
      "funny - 0.045840902307619134\n",
      "worldnews - 0.04545237117831337\n",
      "entertainment - 0.035252123823492416\n",
      "\n",
      "0.8449317408549903\n"
     ]
    }
   ],
   "source": [
    "print(\"SNetClean\\n\")\n",
    "print(\"\\nTop10 by degree centrality:\")\n",
    "for elem in sorted(nx.degree_centrality(SNetClean).items(), key = lambda item: item[1], reverse=True)[:10]:\n",
    "    print(str(elem[0]) + \" - \" + str(elem[1]))\n",
    "print(\"\\nTop10 by eigenvector centrality:\")\n",
    "for elem in sorted(nx.eigenvector_centrality(SNetClean).items(), key = lambda item: item[1], reverse=True)[:10]:\n",
    "    print(str(elem[0]) + \" - \" + str(elem[1]))\n",
    "print(\"\\nTop10 by closeness centrality:\")\n",
    "for elem in sorted(nx.closeness_centrality(SNetClean).items(), key = lambda item: item[1], reverse=True)[:10]:\n",
    "    print(str(elem[0]) + \" - \" + str(elem[1]))\n",
    "print(\"\\nTop10 by betweenness centrality:\")\n",
    "for elem in sorted(nx.betweenness_centrality(SNetClean).items(), key = lambda item: item[1], reverse=True)[:10]:\n",
    "    print(str(elem[0]) + \" - \" + str(elem[1]))\n",
    "print()\n",
    "print(nx.average_clustering(SNetClean))"
   ]
  },
  {
   "cell_type": "code",
   "execution_count": 86,
   "id": "39b9e64c",
   "metadata": {},
   "outputs": [
    {
     "name": "stdout",
     "output_type": "stream",
     "text": [
      "\n",
      "*** SNet greedy modularity communities:\n",
      "\n",
      "629\n",
      "frozenset({'justwow', 'funny', 'tf2', 'dickoftheyear', 'ru', 'offensive', 'trippy', 'dostuff', 'goodoldays', 'wackynews', 'WikiDashboard', 'onlinejournalism', 'philadelphia', 'security', 'NonAustrianEconomics', 'agile', 'Gothic', 'FixedGearBicycle', 'gaming', 'InternetMarketing', '2008is1929', 'pcgaming', 'actlocally', 'worldnews', 'cuilsucks', 'artofpickup', 'datacompression', 'BagLovers', 'rails', 'jobpostings', 'nachos', 'ko', 'sport', 'GlobalistNews', 'bitch_n_complain', 'spanishlanguagenerds', 'germany', 'dvd', 'ireland', 'economics2', 'penis', 'hacks', 'haiku', 'CARTOON', 'Economics', 'cycling', 'China', 'ResistTyranny', 'featurerequest', 'impoliteconversation', 'test', 'cocoa', 'neopagan', 'Bondage', 'onlinegames', 'visualization', 'Tcl', 'seduction', 'celebrity', 'UpperCanada', 'Magic', 'nederlands', 'KiNov', 'prowrestling', 'Omorashi', 'MusicVideos', 'nl', 'FantasticContraption', 'dotnet', 'tedtalks', 'bollywood', 'Autos', 'pics', 'biology', 'aodag', 'sportscars', 'mediareddit', 'J2EE', 'linux', 'techbookreviews', 'geospatial', '2600', 'functional', 'shoebush', 'finance2', 'promos', 'Entertainment_Gossip', 'Fishing', 'nethack', 'sysor', 'Blogging', 'news', 'FootballCentral', 'SwampSparrowSucks', 'mises', 'TrueHorrorStories', 'C_Programming', 'NewAgeReligion', 'lexlinguae', 'mypussyhurts', 'Vegetarianism', 'bestof', 'LazyHour', 'vegan', 'teeshirtart', 'Realty', 'comedy', 'Cplusplus', 'engineering', 'bdsm', 'HorribleIdea', 'punthreads', 'Hardcore', 'loldogs', 'gambling', 'russian', 'Brooklyn', 'pakistan', 'ChileRemix', 'HowToDIY', 'reddit.com', 'fr', 'fiction', 'aviation', 'Cappuccino', 'oldlive', 'emacs', 'foreignpolicy', 'memetics', 'wine', 'monocle', 'zine', 'no', 'Capitalism', 'Music', 'request', 'aggieliberal', 'Scotland', 'chicago', 'Dr_Horrible', 'nuclear', 'mccainsgaffeoftheday', 'dating', 'RUI', 'features', 'breakglass', 'Jazz', 'warpiggs', 'Atlanta', 'Cleveland', 'web_infrastructure', 'activism', 'blackhatseo', 'soccer', 'culturalstudies', 'TurkeyBacon', 'graphicnovels', 'sceptics', 'latinoamerica', 'foodart', 'tr', 'Hunting', 'Android', 'language', 'Mushrooms', 'asm', 'environment', 'voteup', 'OpenEd', 'whedon', 'redheads', 'es', 'Baroque', 'code', 'joos', 'progressive', 'norge', 'SocialNews', 'schadenfreude', 'longtext', 'mixes', 'triangle', 'Wordpress', 'smokefree2009', 'scala', 'trolling', 'RamaOne', 'nsfwvideos', 'wireless', 'd_language', 'PSP', 'nsw', 'rap', 'Futurism', 'likereddit', 'Ambientalmente', 'caregiving', 'athiest', 'italy', 'haskell_proposals', 'dotfiles', 'religiousdebate', 'Debate', 'igr', 'norulesMMA', 'lonely', 'discussions', 'EnAmerique', 'PhilosophyCorner', 'Objectivism', 'floss', 'Breakfast', 'webtools', 'mobile', 'cool', 'Spore', 'AnnikRubens', 'pandorastations', 'sandbox', 'finance', 'Stargate', 'ogijun', 'bloggerdal', 'karma', 'JamsBio', 'futurenews', 'Africa', 'ideasfortheadmins', 'yahoo', 'Gifts', 'hip_hop', 'vid', 'Tugimp', 'confessions', 'deutschland', 'EeePC', 'Zombie', 'dogs', 'FinanceNews', 'Charity', 'app', 'insomnia', 'nonprofit', 'death_metal', 'spiritual', 'magicTCG', 'nsfw', 'jobs', 'fail', 'artistic', 'DADA', 'computers', 'ajax', 'potus08', 'Colorado', 'france', 'redditAnswers', 'alcohol', 'AdultChildren', 'Seattle', 'windows', 'WomenOfColor', 'muxtape', 'oppositeday', 'personals', 'podcasts', 'baseball', 'WeAreTheFilmMakers', 'Amateur', 'VoteUpIf', 'git', 'polls', 'magick', 'notreallynews', 'Turkey', 'ralphnader', 'intelligent', 'olympics', 'housing', 'classy', 'Switzerland', 'parent', 'photoshop', 'brasil', 'networking', 'Catholicism', 'flash', 'redditbay', 'Infos', 'telescopes', 'xTRUMANx', 'MapleLinks', 'just4callie', 'Discussion', 'ipv6', 'wallpapers', 'vids', 'asia', 'Outdoors', 'spammers', 'sv', 'grammar', 'myth', 'milf', 'rape', 'prolog', 'justforkids', 'Warcraft', 'panda', 'agi', 'timetravel', '2008Olympics', 'nin', 'hockey', 'shell', 'MusicFail', 'redditcompetition', 'bitch', 'taoism', 'greentea', 'Quebec', 'LegalTeens', 'shortstories', 'moonhoax', 'BCCResearch', 'TeamFortress2', 'stocks', 'virtualization', 'Annoying', 'LiberalHippies', 'WorldWidePolitics', 'blackculture', 'p2ptech', 'Dissent', 'indierock', 'starcraft', 'McCain', 'meetup', 'Weird_Science', 'videos', 'CommonLaw', 'poker', 'semanticweb', 'christmas', 'wedding', 'vegas', 'washingtondc', 'formulaone', 'antiterrorism', 'climate', 'cheats', 'homeschool', 'tritit', 'USPE12', 'FoodBlog', 'Apocalypse', 'Shortfilms', 'inspirational', 'typography', 'Pizza', 'ExDiggers', 'computergraphics', 'business', 'PutinforPresident', 'FIlm', 'braga', 'tattoos', 'operabrowser', 'puzzles', 'AsesoresInversiones', 'fakenews', 'Michigan', 'bulgaria', 'drunk', 'lego', 'Marxism', 'Pantsless', 'popper', 'darwin', 'spoilers', 'trt', 'entertainment', 'Kerala', 'AntiHillary', 'startrek', 'tacos', 'nanotech', 'MediaBias', 'poetscorner', 'offbeat', 'Judaism', 'technology', 'Lovecraft', 'lost', 'mixtape', 'wii', 'alaska', 'merb', 'redsox', 'forum', 'Mullets', 'yro', 'obama', 'pwnage', 'AskReddit', 'belgium', 'Twitter', 'piercing', 'Basketball', 'ocaml', 'longvideos', 'Gunners', 'SEC', 'MitchHedberg', 'Islamofascism', 'Omemo', 'SonyPS3', 'California', 'Games', 'Badass', 'ASPNET', 'iran', 'todayilearned', 'gadgets', 'redditanonoymous', 'punk', 'ForumReddit', 'stripclubs', 'complaints', 'propaganda', 'Iceland', 'INTP', 'geyik', 'scene', 'Database', 'photographers', 'water', 'kyonounnsei', 'PhotoBlog', 'boston', 'AmericanHistory', 'broccoli', 'MoosePatrol', 'yardsale', 'Austin', 'Dietandhealth', 'poll', 'newzealand', 'Charitable', 'voluptuous', 'Slut', 'florida', 'racism', 'unix', 'smart', 'encryption', 'russia', 'StarWars', 'undead', 'xbox360', 'Equus', 'genetic_algorithms', 'cannabis', 'SEO', 'softwaredevelopment', 'motherapproves', 'macprogramming', 'fsm', 'Heavymetal', 'scripting', 'theology', 'choppers', 'argentina', 'search', 'Webometrics', 'YoDawg', 'hardbodies', 'unhappy', 'pl', 'skateboarding', 'MMORPG', 'urbanplanning', 'codeprojects', 'GreenProducts', 'java', 'baduk', 'riaa', 'antiwar', 'ZinioBest', 'it', 'facebook', 'religionseriously', 'bioinformatics', 'stories', 'bittersweet', 'Gays', 'comicbooks', 'smalltalk', 'catswithbacon', 'Fish', 'newyork', 'plasma', 'Celtic', 'fallacy', 'Tasers', 'science', 'motorcycles', 'WorldHistory', 'blog', 'sdcc1', 'oregon', 'texas', 'aynrandreddits', 'wow', 'management', 'CanadaVotes2008', 'bayarea', 'Webmaster', 'work', 'Entrepreneur', 'Libraries', 'lyrics', 'lifestyle', 'AmericanEconomy', 'Internet', '_Descary', 'men', 'electronicmusic', 'vim', 'chess', 'BluesMusic', 'geek', 'Conserve', 'britpolitics', 'hiphop', 'TestMySite', 'Cheese', 'diabetes', 'Attenborough', 'blogger', 'LaTeX', 'profile', 'god', 'mexico', 'politics', 'Social__Media', 'chrome', 'eggs', 'electronics', 'comics', 'atheism', 'gender', 'Homebrewing', 'bitteroldmen', 'Archaeology', 'humor', 'outrage', 'IntellectualReddit', 'hotmanflesh', 'ITnews', 'subreddit_complaints', 'audio', 'Desktop_Wallpaper', 'TimeTravellers', 'WTF', 'weed', 'newspapers', 'whine', 'cars', 'greece', 'science2', 'statistics', 'Fantasy', 'GlobalEconomy', 'Cricket', 'freelance', 'gay', 'breadpig', 'Sex_Offender_Issues', 'types', 'fsharp', 'LSD', 'Kucinich', 'programming', 'spirituality', 'MMJ', 'gaynsfw', 'espanol', 'womenofreddit', 'Vote_up_if', 'sanfrancisco', 'manchester', 'sl', 'onlycode', 'badmusic', 'porn', 'disability', 'sustainability', 'oversightings', 'Health', 'ciencia', 'samokrutka', 'medicine', 'korea', 'pittsburgh', 'autism', 'Clojure', 'ja', 'iPhoneDev', 'quotes', 'politicstoo', 'secondlife', 'usability', 'gnu', 'wenyude', 'left4dead', 'Pirate', 'ANTISHARIA', 'hacking', 'matheducation', 'awesomereddit', 'businessnews', 'scheme', 'SuperSwedishGirls', 'de', 'arguments', 'chemistry', 'karaoke', 'transit'})\n",
      "\n",
      "260\n",
      "frozenset({'SuicideWatch', 'zh', 'dailywtf', 'pssnaked', 'self', 'gardening', 'europe', 'snobs', 'windowshots', 'scientology', 'LosAngeles', 'PHP', 'l33t', 'bash', 'marketing', 'howto', 'hackers', 'wikipedia', 'auto', 'anime', 'japan', 'WebNews', 'opensource', 'things', 'AnimalRights', 'askcheez', 'mac', 'MensRights', 'animation', 'askXKCD', 'worldpolitics', 'psychology', 'Metal', 'education', 'guns', 'testtest', 'digg', 'social_bookmarking', 'microsoft', 'lamengao', 'television', 'Josie', 'war', 'cnbeta', 'ukpolitics', 'Libertarian', 'Cooking', 'books', 'love', 'apple', 'travel', 'conspiracy', 'USPE08', 'Unanimous', 'torrents', 'space', 'area51', 'usa', 'Pets', 'investing', 'django', 'Animals', 'food', 'bicycling', 'joel', 'Paranormal', 'lolcats', 'cimigo', 'Frugal', 'osx', 'lgbt', 'furry', 'SewerHorse', 'lectures', 'newreddits', 'ruby', 'occult', 'iphone', 'idea', 'PS3', 'compsci', 'wackyworld', 'AmericanGovernment', 'ZenHabits', 'productivity', 'redditchan', 'government', 'Coffee', 'PalinProblem', 'redditdev', 'worstof', 'Bacon', 'literature', 'bugs', 'youtube', 'Drugs', 'beer', 'blogs', 'Python', 'Anthropology', 'lists', 'Conservative', 'AmericanPolitics', 'sex', 'bestofcraigslist', 'meta', 'Anarchism', 'ask', 'BSD', 'fashion', 'XYON', 'BlackOps', 'gossip', 'euro', 'haskell', 'ComputerSecurity', 'software', 'WebGames', 'singularity', 'math', 'architecture', 'history', 'lol', 'movies', 'video', 'crime', 'Fitness', 'xkcd', 'scientific', 'totosoft', 'lullaby', 'Design', 'giveaways', 'askJeph', 'india', 'england', 'conspiracies', 'yourweek', 'cogsci', 'startups', '4chan', 'cpp', 'Marijuana', 'egalitarian', 'Astronomy', 'Transhuman', 'hardware', 'epicthread', 'erlang', 'rpg', 'Ubuntu', 'Documentaries', 'Green', 'fascinating', 'UFOs', 'Physics', 'WeAreTheMusicMakers', 'Kaede_Rukawa', 'ArtCrit', 'netsec', 'ohwhataworld', 'law', 'Israel', 'Art', 'astro', 'ourex', 'Chinese', 'zen', 'Pictures', 'WhiteMenGoneWild', '911truth', 'women', 'happy', 'browsers', 'ReverseEngineering', 'gonewild', 'zombies', '5edwin', 'contraptions', 'geopolitics', 'ideas', 'islam', 'celebrities', 'Military', 'SinoBeta', 'Jokes', 'feminisms', 'musicians', 'evolution', 'nyc', 'web_design', 'scifi', 'socialism', 'socialmedia', 'linguistics', 'webcomics', 'ads', 'DIY', 'sociology', 'PoliticalHumor', 'writing', 'antibacon', 'skeptic', 'hurts_my_eyes', 'photography', 'Graffiti', 'veg', 'energy', 'Poetry', 'recipes', 'independent', 'collapse', 'WorldWideNews', 'dior_lei', 'selfhelp', 'cute', 'doctorwho', 'Buddhism', 'Sexy', 'Liberty', 'pic', 'australia', 'Christianity', 'Parenting', 'nature', 'economy', 'freemusic', 'bookclub', 'robotics', 'sports', 'culture', 'Guitar', 'media', 'unitedkingdom', 'perl', 'Freethought', 'interestingasfuck', 'BestGamesEver', 'worldnews2', 'MMA', 'javascript', 'Boobies', 'kde', 'lisp', 'colorreddit', 'ass', 'philosophy', 'Survival', 'ronpaul', 'aww', 'Socialize', 'hrw', 'canada', 'religion', 'tech', 'firefox', 'Cryptogon', 'craigslist', 'lovereddit', 'google'})\n",
      "\n",
      "4\n",
      "frozenset({'d1g', 'arabic', '7mooode', 'arabicblogs'})\n",
      "\n",
      "2\n",
      "frozenset({'hu', 'turkalo'})\n",
      "\n",
      "2\n",
      "frozenset({'Gamer', 'Webbook'})\n",
      "\n",
      "2\n",
      "frozenset({'3cs', 'portugal'})\n",
      "\n",
      "*** SNet Girvan-Newman communities:\n"
     ]
    },
    {
     "name": "stdout",
     "output_type": "stream",
     "text": [
      "\n",
      "893\n",
      "['2008Olympics', '2008is1929', '2600', '4chan', '5edwin', '911truth', 'ANTISHARIA', 'ASPNET', 'AdultChildren', 'Africa', 'Amateur', 'Ambientalmente', 'AmericanEconomy', 'AmericanGovernment', 'AmericanHistory', 'AmericanPolitics', 'Anarchism', 'Android', 'AnimalRights', 'Animals', 'AnnikRubens', 'Annoying', 'Anthropology', 'AntiHillary', 'Apocalypse', 'Archaeology', 'Art', 'ArtCrit', 'AsesoresInversiones', 'AskReddit', 'Astronomy', 'Atlanta', 'Attenborough', 'Austin', 'Autos', 'BCCResearch', 'BSD', 'Bacon', 'Badass', 'BagLovers', 'Baroque', 'Basketball', 'BestGamesEver', 'BlackOps', 'Blogging', 'BluesMusic', 'Bondage', 'Boobies', 'Breakfast', 'Brooklyn', 'Buddhism', 'CARTOON', 'C_Programming', 'California', 'CanadaVotes2008', 'Capitalism', 'Cappuccino', 'Catholicism', 'Celtic', 'Charitable', 'Charity', 'Cheese', 'ChileRemix', 'China', 'Chinese', 'Christianity', 'Cleveland', 'Clojure', 'Coffee', 'Colorado', 'CommonLaw', 'ComputerSecurity', 'Conservative', 'Conserve', 'Cooking', 'Cplusplus', 'Cricket', 'Cryptogon', 'DADA', 'DIY', 'Database', 'Debate', 'Design', 'Desktop_Wallpaper', 'Dietandhealth', 'Discussion', 'Dissent', 'Documentaries', 'Dr_Horrible', 'Drugs', 'Economics', 'EeePC', 'EnAmerique', 'Entertainment_Gossip', 'Entrepreneur', 'Equus', 'ExDiggers', 'FIlm', 'FantasticContraption', 'Fantasy', 'FinanceNews', 'Fish', 'Fishing', 'Fitness', 'FixedGearBicycle', 'FoodBlog', 'FootballCentral', 'ForumReddit', 'Freethought', 'Frugal', 'Futurism', 'Gamer', 'Games', 'Gays', 'Gifts', 'GlobalEconomy', 'GlobalistNews', 'Gothic', 'Graffiti', 'Green', 'GreenProducts', 'Guitar', 'Gunners', 'Hardcore', 'Health', 'Heavymetal', 'Homebrewing', 'HorribleIdea', 'HowToDIY', 'Hunting', 'INTP', 'ITnews', 'Iceland', 'Infos', 'IntellectualReddit', 'Internet', 'InternetMarketing', 'Islamofascism', 'Israel', 'J2EE', 'JamsBio', 'Jazz', 'Jokes', 'Josie', 'Judaism', 'Kaede_Rukawa', 'Kerala', 'KiNov', 'Kucinich', 'LSD', 'LaTeX', 'LazyHour', 'LegalTeens', 'LiberalHippies', 'Libertarian', 'Liberty', 'Libraries', 'LosAngeles', 'Lovecraft', 'MMA', 'MMJ', 'MMORPG', 'Magic', 'MapleLinks', 'Marijuana', 'Marxism', 'McCain', 'MediaBias', 'MensRights', 'Metal', 'Michigan', 'Military', 'MitchHedberg', 'MoosePatrol', 'Mullets', 'Mushrooms', 'Music', 'MusicFail', 'MusicVideos', 'NewAgeReligion', 'NonAustrianEconomics', 'Objectivism', 'Omemo', 'Omorashi', 'OpenEd', 'Outdoors', 'PHP', 'PS3', 'PSP', 'PalinProblem', 'Pantsless', 'Paranormal', 'Parenting', 'Pets', 'PhilosophyCorner', 'PhotoBlog', 'Physics', 'Pictures', 'Pirate', 'Pizza', 'Poetry', 'PoliticalHumor', 'PutinforPresident', 'Python', 'Quebec', 'RUI', 'RamaOne', 'Realty', 'ResistTyranny', 'ReverseEngineering', 'SEC', 'SEO', 'Scotland', 'Seattle', 'SewerHorse', 'Sex_Offender_Issues', 'Sexy', 'Shortfilms', 'SinoBeta', 'Slut', 'SocialNews', 'Social__Media', 'Socialize', 'SonyPS3', 'Spore', 'StarWars', 'Stargate', 'SuicideWatch', 'SuperSwedishGirls', 'Survival', 'SwampSparrowSucks', 'Switzerland', 'Tasers', 'Tcl', 'TeamFortress2', 'TestMySite', 'TimeTravellers', 'Transhuman', 'TrueHorrorStories', 'Tugimp', 'Turkey', 'TurkeyBacon', 'Twitter', 'UFOs', 'USPE08', 'USPE12', 'Ubuntu', 'Unanimous', 'UpperCanada', 'Vegetarianism', 'VoteUpIf', 'Vote_up_if', 'WTF', 'Warcraft', 'WeAreTheFilmMakers', 'WeAreTheMusicMakers', 'WebGames', 'WebNews', 'Webbook', 'Webmaster', 'Webometrics', 'Weird_Science', 'WhiteMenGoneWild', 'WikiDashboard', 'WomenOfColor', 'Wordpress', 'WorldHistory', 'WorldWideNews', 'WorldWidePolitics', 'XYON', 'YoDawg', 'ZenHabits', 'ZinioBest', 'Zombie', '_Descary', 'activism', 'actlocally', 'ads', 'aggieliberal', 'agi', 'agile', 'ajax', 'alaska', 'alcohol', 'animation', 'anime', 'antibacon', 'antiterrorism', 'antiwar', 'aodag', 'app', 'apple', 'architecture', 'area51', 'argentina', 'arguments', 'artistic', 'artofpickup', 'asia', 'ask', 'askJeph', 'askXKCD', 'askcheez', 'asm', 'ass', 'astro', 'atheism', 'athiest', 'audio', 'australia', 'autism', 'auto', 'aviation', 'awesomereddit', 'aww', 'aynrandreddits', 'badmusic', 'baduk', 'baseball', 'bash', 'bayarea', 'bdsm', 'beer', 'belgium', 'bestof', 'bestofcraigslist', 'bicycling', 'bioinformatics', 'biology', 'bitch', 'bitch_n_complain', 'bitteroldmen', 'bittersweet', 'blackculture', 'blackhatseo', 'blog', 'blogger', 'bloggerdal', 'blogs', 'bollywood', 'bookclub', 'books', 'boston', 'braga', 'brasil', 'breadpig', 'breakglass', 'britpolitics', 'broccoli', 'browsers', 'bugs', 'bulgaria', 'business', 'businessnews', 'canada', 'cannabis', 'caregiving', 'cars', 'catswithbacon', 'celebrities', 'celebrity', 'cheats', 'chemistry', 'chess', 'chicago', 'choppers', 'christmas', 'chrome', 'ciencia', 'cimigo', 'classy', 'climate', 'cnbeta', 'cocoa', 'code', 'codeprojects', 'cogsci', 'collapse', 'colorreddit', 'comedy', 'comicbooks', 'comics', 'complaints', 'compsci', 'computergraphics', 'computers', 'confessions', 'conspiracies', 'conspiracy', 'contraptions', 'cool', 'cpp', 'craigslist', 'crime', 'cuilsucks', 'culturalstudies', 'culture', 'cute', 'cycling', 'd_language', 'dailywtf', 'darwin', 'datacompression', 'dating', 'de', 'death_metal', 'deutschland', 'diabetes', 'dickoftheyear', 'digg', 'dior_lei', 'disability', 'discussions', 'django', 'doctorwho', 'dogs', 'dostuff', 'dotfiles', 'dotnet', 'drunk', 'dvd', 'economics2', 'economy', 'education', 'egalitarian', 'eggs', 'electronicmusic', 'electronics', 'emacs', 'encryption', 'energy', 'engineering', 'england', 'entertainment', 'environment', 'epicthread', 'erlang', 'es', 'espanol', 'euro', 'europe', 'evolution', 'facebook', 'fail', 'fakenews', 'fallacy', 'fascinating', 'fashion', 'featurerequest', 'features', 'feminisms', 'fiction', 'finance', 'finance2', 'firefox', 'flash', 'florida', 'floss', 'food', 'foodart', 'foreignpolicy', 'formulaone', 'forum', 'fr', 'france', 'freelance', 'freemusic', 'fsharp', 'fsm', 'functional', 'funny', 'furry', 'futurenews', 'gadgets', 'gambling', 'gaming', 'gardening', 'gay', 'gaynsfw', 'geek', 'gender', 'genetic_algorithms', 'geopolitics', 'geospatial', 'germany', 'geyik', 'git', 'giveaways', 'gnu', 'god', 'gonewild', 'goodoldays', 'google', 'gossip', 'government', 'grammar', 'graphicnovels', 'greece', 'greentea', 'guns', 'hackers', 'hacking', 'hacks', 'haiku', 'happy', 'hardbodies', 'hardware', 'haskell', 'haskell_proposals', 'hip_hop', 'hiphop', 'history', 'hockey', 'homeschool', 'hotmanflesh', 'housing', 'howto', 'hrw', 'hu', 'humor', 'hurts_my_eyes', 'iPhoneDev', 'idea', 'ideas', 'ideasfortheadmins', 'igr', 'impoliteconversation', 'independent', 'india', 'indierock', 'insomnia', 'inspirational', 'intelligent', 'interestingasfuck', 'investing', 'iphone', 'ipv6', 'iran', 'ireland', 'islam', 'it', 'italy', 'ja', 'japan', 'java', 'javascript', 'jobpostings', 'jobs', 'joel', 'joos', 'just4callie', 'justforkids', 'justwow', 'karaoke', 'karma', 'kde', 'ko', 'korea', 'kyonounnsei', 'l33t', 'lamengao', 'language', 'latinoamerica', 'law', 'lectures', 'left4dead', 'lego', 'lexlinguae', 'lgbt', 'lifestyle', 'likereddit', 'linguistics', 'linux', 'lisp', 'lists', 'literature', 'lol', 'lolcats', 'loldogs', 'lonely', 'longtext', 'longvideos', 'lost', 'love', 'lovereddit', 'lullaby', 'lyrics', 'mac', 'macprogramming', 'magicTCG', 'magick', 'management', 'manchester', 'marketing', 'math', 'matheducation', 'mccainsgaffeoftheday', 'media', 'mediareddit', 'medicine', 'meetup', 'memetics', 'men', 'merb', 'meta', 'mexico', 'microsoft', 'milf', 'mises', 'mixes', 'mixtape', 'mobile', 'monocle', 'moonhoax', 'motherapproves', 'motorcycles', 'movies', 'musicians', 'muxtape', 'mypussyhurts', 'myth', 'nachos', 'nanotech', 'nature', 'nederlands', 'neopagan', 'nethack', 'netsec', 'networking', 'newreddits', 'news', 'newspapers', 'newyork', 'newzealand', 'nin', 'nl', 'no', 'nonprofit', 'norge', 'norulesMMA', 'notreallynews', 'nsfw', 'nsfwvideos', 'nsw', 'nuclear', 'nyc', 'obama', 'ocaml', 'occult', 'offbeat', 'offensive', 'ogijun', 'ohwhataworld', 'oldlive', 'olympics', 'onlinegames', 'onlinejournalism', 'onlycode', 'opensource', 'operabrowser', 'oppositeday', 'oregon', 'osx', 'ourex', 'outrage', 'oversightings', 'p2ptech', 'pakistan', 'panda', 'pandorastations', 'parent', 'pcgaming', 'penis', 'perl', 'personals', 'philadelphia', 'philosophy', 'photographers', 'photography', 'photoshop', 'pic', 'pics', 'piercing', 'pittsburgh', 'pl', 'plasma', 'podcasts', 'poetscorner', 'poker', 'politics', 'politicstoo', 'poll', 'polls', 'popper', 'porn', 'potus08', 'productivity', 'profile', 'programming', 'progressive', 'prolog', 'promos', 'propaganda', 'prowrestling', 'pssnaked', 'psychology', 'punk', 'punthreads', 'puzzles', 'pwnage', 'quotes', 'racism', 'rails', 'ralphnader', 'rap', 'rape', 'recipes', 'reddit.com', 'redditAnswers', 'redditanonoymous', 'redditbay', 'redditchan', 'redditcompetition', 'redditdev', 'redheads', 'redsox', 'religion', 'religionseriously', 'religiousdebate', 'request', 'riaa', 'robotics', 'ronpaul', 'rpg', 'ru', 'ruby', 'russia', 'russian', 'samokrutka', 'sandbox', 'sanfrancisco', 'scala', 'scene', 'sceptics', 'schadenfreude', 'scheme', 'science', 'science2', 'scientific', 'scientology', 'scifi', 'scripting', 'sdcc1', 'search', 'secondlife', 'security', 'seduction', 'self', 'selfhelp', 'semanticweb', 'sex', 'shell', 'shoebush', 'shortstories', 'singularity', 'skateboarding', 'skeptic', 'sl', 'smalltalk', 'smart', 'smokefree2009', 'snobs', 'soccer', 'social_bookmarking', 'socialism', 'socialmedia', 'sociology', 'software', 'softwaredevelopment', 'space', 'spammers', 'spanishlanguagenerds', 'spiritual', 'spirituality', 'spoilers', 'sport', 'sports', 'sportscars', 'starcraft', 'startrek', 'startups', 'statistics', 'stocks', 'stories', 'stripclubs', 'subreddit_complaints', 'sustainability', 'sv', 'sysor', 'tacos', 'taoism', 'tattoos', 'tech', 'techbookreviews', 'technology', 'tedtalks', 'teeshirtart', 'telescopes', 'television', 'test', 'testtest', 'texas', 'tf2', 'theology', 'things', 'timetravel', 'todayilearned', 'torrents', 'totosoft', 'tr', 'transit', 'travel', 'triangle', 'trippy', 'tritit', 'trolling', 'trt', 'turkalo', 'types', 'typography', 'ukpolitics', 'undead', 'unhappy', 'unitedkingdom', 'unix', 'urbanplanning', 'usa', 'usability', 'veg', 'vegan', 'vegas', 'vid', 'video', 'videos', 'vids', 'vim', 'virtualization', 'visualization', 'voluptuous', 'voteup', 'wackynews', 'wackyworld', 'wallpapers', 'war', 'warpiggs', 'washingtondc', 'water', 'web_design', 'web_infrastructure', 'webcomics', 'webtools', 'wedding', 'weed', 'wenyude', 'whedon', 'whine', 'wii', 'wikipedia', 'windows', 'windowshots', 'wine', 'wireless', 'women', 'womenofreddit', 'work', 'worldnews', 'worldnews2', 'worldpolitics', 'worstof', 'wow', 'writing', 'xTRUMANx', 'xbox360', 'xkcd', 'yahoo', 'yardsale', 'yourweek', 'youtube', 'yro', 'zen', 'zh', 'zine', 'zombies']\n",
      "\n",
      "4\n",
      "['7mooode', 'arabic', 'arabicblogs', 'd1g']\n",
      "\n",
      "2\n",
      "['3cs', 'portugal']\n",
      "\n",
      "*** SNet label propagation communities:\n",
      "\n",
      "883\n",
      "{'SuicideWatch', 'justwow', 'zh', 'dailywtf', 'funny', 'tf2', 'dickoftheyear', 'ru', 'trippy', 'offensive', 'self', 'europe', 'dostuff', 'goodoldays', 'snobs', 'wackynews', 'WikiDashboard', 'windowshots', 'onlinejournalism', 'security', 'scientology', 'NonAustrianEconomics', 'agile', 'philadelphia', 'Gothic', 'FixedGearBicycle', 'PHP', 'gaming', 'hackers', 'InternetMarketing', '2008is1929', 'actlocally', 'pcgaming', 'wikipedia', 'worldnews', 'cuilsucks', 'artofpickup', 'WebNews', 'datacompression', 'things', 'BagLovers', 'rails', 'jobpostings', 'nachos', 'AnimalRights', 'ko', 'GlobalistNews', 'sport', 'bitch_n_complain', 'spanishlanguagenerds', 'germany', 'animation', 'dvd', 'ireland', 'economics2', 'penis', 'hacks', 'psychology', 'haiku', 'CARTOON', 'Economics', 'education', 'guns', 'cycling', 'China', 'ResistTyranny', 'lamengao', 'television', 'featurerequest', 'Josie', 'impoliteconversation', 'test', 'cocoa', 'neopagan', 'ukpolitics', 'Bondage', 'onlinegames', 'love', 'visualization', 'Tcl', 'conspiracy', 'seduction', 'celebrity', 'Unanimous', 'UpperCanada', 'Magic', 'nederlands', 'usa', 'Pets', 'KiNov', 'prowrestling', 'MusicVideos', 'Omorashi', 'nl', 'FantasticContraption', 'Animals', 'dotnet', 'tedtalks', 'food', 'bollywood', 'bicycling', 'Autos', 'pics', 'biology', 'aodag', 'Paranormal', 'lolcats', 'sportscars', 'mediareddit', 'lgbt', 'J2EE', 'linux', 'lectures', 'techbookreviews', 'newreddits', 'geospatial', '2600', 'functional', 'PS3', 'shoebush', 'finance2', 'promos', 'Entertainment_Gossip', 'Fishing', 'nethack', 'sysor', 'Blogging', 'compsci', 'news', 'FootballCentral', 'SwampSparrowSucks', 'mises', 'TrueHorrorStories', 'C_Programming', 'NewAgeReligion', 'AmericanGovernment', 'lexlinguae', 'Vegetarianism', 'government', 'bestof', 'LazyHour', 'mypussyhurts', 'Coffee', 'teeshirtart', 'vegan', 'Realty', 'redditdev', 'comedy', 'Cplusplus', 'literature', 'bugs', 'youtube', 'engineering', 'bdsm', 'HorribleIdea', 'punthreads', 'beer', 'Hardcore', 'loldogs', 'gambling', 'russian', 'blogs', 'Brooklyn', 'pakistan', 'lists', 'Anthropology', 'Conservative', 'fr', 'HowToDIY', 'ChileRemix', 'reddit.com', 'fiction', 'Cappuccino', 'aviation', 'oldlive', 'sex', 'emacs', 'foreignpolicy', 'memetics', 'wine', 'fashion', 'monocle', 'zine', 'no', 'gossip', 'euro', 'haskell', 'Capitalism', 'software', 'WebGames', 'Music', 'request', 'math', 'architecture', 'lol', 'history', 'aggieliberal', 'video', 'crime', 'xkcd', 'Fitness', 'Scotland', 'chicago', 'Dr_Horrible', 'nuclear', 'mccainsgaffeoftheday', 'dating', 'RUI', 'features', 'giveaways', 'breakglass', 'askJeph', 'Jazz', 'warpiggs', 'web_infrastructure', 'Atlanta', 'Cleveland', 'activism', 'blackhatseo', 'startups', 'cpp', 'egalitarian', 'Transhuman', 'soccer', 'culturalstudies', 'TurkeyBacon', 'graphicnovels', 'hardware', 'sceptics', 'epicthread', 'rpg', 'foodart', 'latinoamerica', 'tr', 'Hunting', 'Android', 'language', 'Mushrooms', 'environment', 'asm', 'voteup', 'UFOs', 'Physics', 'WeAreTheMusicMakers', 'OpenEd', 'whedon', 'redheads', 'ohwhataworld', 'Israel', 'Art', 'es', 'zen', 'Baroque', 'Pictures', 'code', 'joos', '911truth', 'progressive', 'norge', 'SocialNews', 'schadenfreude', 'longtext', 'happy', 'zombies', 'mixes', 'geopolitics', 'triangle', 'Wordpress', 'smokefree2009', 'trolling', 'scala', 'RamaOne', 'nsfwvideos', 'wireless', 'd_language', 'PSP', 'nsw', 'rap', 'Futurism', 'musicians', 'feminisms', 'likereddit', 'evolution', 'nyc', 'Ambientalmente', 'caregiving', 'socialism', 'scifi', 'italy', 'religiousdebate', 'haskell_proposals', 'dotfiles', 'athiest', 'Debate', 'igr', 'norulesMMA', 'linguistics', 'webcomics', 'lonely', 'discussions', 'EnAmerique', 'Objectivism', 'PhilosophyCorner', 'Breakfast', 'webtools', 'mobile', 'floss', 'ads', 'cool', 'Spore', 'AnnikRubens', 'pandorastations', 'sandbox', 'finance', 'Stargate', 'sociology', 'PoliticalHumor', 'writing', 'ogijun', 'bloggerdal', 'karma', 'hurts_my_eyes', 'veg', 'JamsBio', 'futurenews', 'Africa', 'ideasfortheadmins', 'Poetry', 'yahoo', 'Gifts', 'hip_hop', 'vid', 'recipes', 'Tugimp', 'confessions', 'independent', 'deutschland', 'collapse', 'EeePC', 'FinanceNews', 'Charity', 'dogs', 'WorldWideNews', 'insomnia', 'Zombie', 'app', 'nonprofit', 'death_metal', 'spiritual', 'nsfw', 'magicTCG', 'jobs', 'fail', 'artistic', 'DADA', 'computers', 'Buddhism', 'ajax', 'potus08', 'Sexy', 'france', 'Colorado', 'redditAnswers', 'pic', 'Christianity', 'alcohol', 'Seattle', 'AdultChildren', 'nature', 'windows', 'WomenOfColor', 'economy', 'muxtape', 'oppositeday', 'freemusic', 'personals', 'sports', 'podcasts', 'baseball', 'Guitar', 'WeAreTheFilmMakers', 'Amateur', 'VoteUpIf', 'magick', 'git', 'polls', 'perl', 'notreallynews', 'Turkey', 'interestingasfuck', 'BestGamesEver', 'Freethought', 'worldnews2', 'intelligent', 'ralphnader', 'javascript', 'olympics', 'Boobies', 'classy', 'Switzerland', 'housing', 'parent', 'photoshop', 'brasil', 'philosophy', 'ass', 'Catholicism', 'networking', 'redditbay', 'flash', 'ronpaul', 'aww', 'Infos', 'telescopes', 'xTRUMANx', 'Socialize', 'MapleLinks', 'religion', 'firefox', 'Cryptogon', 'Discussion', 'craigslist', 'ipv6', 'just4callie', 'wallpapers', 'vids', 'asia', 'Outdoors', 'spammers', 'sv', 'grammar', 'pssnaked', 'myth', 'gardening', 'milf', 'rape', 'prolog', 'justforkids', 'Warcraft', 'LosAngeles', 'panda', 'agi', 'timetravel', 'l33t', 'howto', 'marketing', 'bash', '2008Olympics', 'nin', 'hockey', 'shell', 'MusicFail', 'redditcompetition', 'auto', 'anime', 'bitch', 'taoism', 'japan', 'opensource', 'greentea', 'Quebec', 'LegalTeens', 'askcheez', 'mac', 'shortstories', 'MensRights', 'moonhoax', 'TeamFortress2', 'BCCResearch', 'stocks', 'Annoying', 'virtualization', 'LiberalHippies', 'askXKCD', 'WorldWidePolitics', 'blackculture', 'worldpolitics', 'p2ptech', 'Metal', 'Dissent', 'indierock', 'testtest', 'digg', 'microsoft', 'social_bookmarking', 'starcraft', 'McCain', 'meetup', 'Weird_Science', 'war', 'videos', 'CommonLaw', 'poker', 'semanticweb', 'christmas', 'wedding', 'formulaone', 'vegas', 'antiterrorism', 'washingtondc', 'climate', 'cheats', 'Libertarian', 'homeschool', 'Cooking', 'books', 'apple', 'tritit', 'USPE12', 'travel', 'USPE08', 'Shortfilms', 'Apocalypse', 'FoodBlog', 'inspirational', 'typography', 'torrents', 'space', 'Pizza', 'area51', 'AsesoresInversiones', 'ExDiggers', 'django', 'computergraphics', 'investing', 'business', 'PutinforPresident', 'FIlm', 'braga', 'tattoos', 'joel', 'operabrowser', 'puzzles', 'Michigan', 'bulgaria', 'osx', 'drunk', 'Frugal', 'fakenews', 'lego', 'Marxism', 'furry', 'SewerHorse', 'Pantsless', 'popper', 'darwin', 'spoilers', 'ruby', 'occult', 'trt', 'entertainment', 'iphone', 'Kerala', 'idea', 'AntiHillary', 'startrek', 'tacos', 'nanotech', 'wackyworld', 'MediaBias', 'poetscorner', 'productivity', 'ZenHabits', 'redditchan', 'offbeat', 'Judaism', 'technology', 'lost', 'Lovecraft', 'PalinProblem', 'mixtape', 'worstof', 'Bacon', 'wii', 'alaska', 'merb', 'redsox', 'Drugs', 'forum', 'Mullets', 'yro', 'obama', 'pwnage', 'AskReddit', 'Twitter', 'belgium', 'piercing', 'Basketball', 'Python', 'ocaml', 'longvideos', 'Gunners', 'SEC', 'MitchHedberg', 'AmericanPolitics', 'Islamofascism', 'SonyPS3', 'Omemo', 'California', 'bestofcraigslist', 'Games', 'Badass', 'meta', 'ASPNET', 'iran', 'todayilearned', 'gadgets', 'Anarchism', 'BSD', 'ask', 'punk', 'ForumReddit', 'redditanonoymous', 'BlackOps', 'XYON', 'stripclubs', 'complaints', 'propaganda', 'Iceland', 'ComputerSecurity', 'singularity', 'geyik', 'INTP', 'movies', 'scene', 'scientific', 'Database', 'water', 'kyonounnsei', 'photographers', 'lullaby', 'totosoft', 'PhotoBlog', 'boston', 'Design', 'AmericanHistory', 'broccoli', 'MoosePatrol', 'yardsale', 'Austin', 'Dietandhealth', 'india', 'england', 'conspiracies', 'poll', 'newzealand', 'cogsci', 'yourweek', 'Charitable', 'voluptuous', '4chan', 'florida', 'racism', 'Slut', 'Marijuana', 'smart', 'unix', 'Astronomy', 'encryption', 'russia', 'StarWars', 'undead', 'xbox360', 'erlang', 'Equus', 'genetic_algorithms', 'SEO', 'cannabis', 'Ubuntu', 'softwaredevelopment', 'Documentaries', 'Green', 'fascinating', 'motherapproves', 'macprogramming', 'fsm', 'Heavymetal', 'scripting', 'theology', 'ArtCrit', 'netsec', 'choppers', 'argentina', 'law', 'search', 'Webometrics', 'ourex', 'astro', 'Chinese', 'YoDawg', 'hardbodies', 'unhappy', 'pl', 'skateboarding', 'MMORPG', 'urbanplanning', 'codeprojects', 'WhiteMenGoneWild', 'GreenProducts', 'java', 'baduk', 'antiwar', 'women', 'it', 'riaa', 'ZinioBest', 'religionseriously', 'facebook', 'browsers', 'gonewild', 'stories', 'bittersweet', 'bioinformatics', 'ReverseEngineering', 'Gays', 'comicbooks', 'smalltalk', 'contraptions', 'Fish', 'catswithbacon', 'newyork', 'karaoke', 'ideas', 'plasma', 'Celtic', 'fallacy', 'Tasers', 'science', 'islam', 'motorcycles', 'WorldHistory', 'blog', 'celebrities', 'Military', 'sdcc1', 'oregon', 'SinoBeta', 'Jokes', 'texas', 'aynrandreddits', 'wow', 'CanadaVotes2008', 'management', 'web_design', 'bayarea', 'Webmaster', 'work', 'Entrepreneur', 'Libraries', 'lyrics', 'socialmedia', 'lifestyle', 'AmericanEconomy', 'Internet', '_Descary', 'DIY', 'men', 'electronicmusic', 'vim', 'chess', 'BluesMusic', 'geek', 'Conserve', 'britpolitics', 'antibacon', 'hiphop', 'TestMySite', 'Cheese', 'diabetes', 'skeptic', 'photography', 'Graffiti', 'blogger', 'LaTeX', 'profile', 'Attenborough', 'mexico', 'politics', 'god', 'energy', 'Social__Media', 'chrome', 'eggs', 'electronics', 'comics', 'atheism', 'gender', 'Homebrewing', 'bitteroldmen', 'Archaeology', 'humor', 'outrage', 'IntellectualReddit', 'hotmanflesh', 'ITnews', 'subreddit_complaints', 'audio', 'Desktop_Wallpaper', 'TimeTravellers', 'weed', 'WTF', 'newspapers', 'whine', 'cars', 'selfhelp', 'greece', 'science2', 'cute', 'doctorwho', 'statistics', 'Fantasy', 'GlobalEconomy', 'Cricket', 'freelance', 'breadpig', 'gay', 'Sex_Offender_Issues', 'Liberty', 'types', 'australia', 'fsharp', 'LSD', 'Kucinich', 'programming', 'Parenting', 'spirituality', 'MMJ', 'gaynsfw', 'Vote_up_if', 'sanfrancisco', 'womenofreddit', 'espanol', 'manchester', 'bookclub', 'sl', 'porn', 'robotics', 'badmusic', 'onlycode', 'culture', 'disability', 'sustainability', 'media', 'oversightings', 'Health', 'ciencia', 'unitedkingdom', 'samokrutka', 'medicine', 'korea', 'MMA', 'pittsburgh', 'autism', 'Clojure', 'kde', 'ja', 'lisp', 'iPhoneDev', 'Survival', 'quotes', 'politicstoo', 'secondlife', 'usability', 'gnu', 'wenyude', 'left4dead', 'Pirate', 'hrw', 'canada', 'ANTISHARIA', 'hacking', 'tech', 'matheducation', 'awesomereddit', 'businessnews', 'scheme', 'SuperSwedishGirls', 'de', 'arguments', 'chemistry', 'lovereddit', 'transit', 'google'}\n",
      "\n",
      "2\n",
      "{'hu', 'turkalo'}\n",
      "\n",
      "4\n",
      "{'arabic', 'd1g', 'arabicblogs', '7mooode'}\n",
      "\n",
      "6\n",
      "{'colorreddit', 'cnbeta', '5edwin', 'dior_lei', 'Kaede_Rukawa', 'cimigo'}\n",
      "\n",
      "2\n",
      "{'Gamer', 'Webbook'}\n",
      "\n",
      "2\n",
      "{'3cs', 'portugal'}\n"
     ]
    }
   ],
   "source": [
    "print(\"\\n*** SNet greedy modularity communities:\")\n",
    "for c in com.greedy_modularity_communities(SNet):\n",
    "    print()\n",
    "    print(len(c))\n",
    "    print(c)\n",
    "\n",
    "print(\"\\n*** SNet Girvan-Newman communities:\")\n",
    "for t in tuple(sorted(c) for c in next(com.girvan_newman(SNet))):\n",
    "    print()\n",
    "    print(len(t))\n",
    "    print(t)\n",
    "\n",
    "print(\"\\n*** SNet label propagation communities:\")\n",
    "for l in com.label_propagation_communities(SNet):\n",
    "    print()\n",
    "    print(len(l))\n",
    "    print(l)"
   ]
  },
  {
   "cell_type": "code",
   "execution_count": 87,
   "id": "195736c2",
   "metadata": {},
   "outputs": [
    {
     "name": "stdout",
     "output_type": "stream",
     "text": [
      "\n",
      "*** SNetT greedy modularity communities:\n",
      "\n",
      "39\n",
      "frozenset({'Economics', 'funny', 'guns', 'linux', 'reddit.com', 'ideas', 'photography', 'Health', 'videos', 'entertainment', 'politics', 'science', 'gadgets', 'comics', 'atheism', 'environment', 'news', 'gaming', 'netsec', 'software', 'offbeat', 'bestof', 'philosophy', 'WTF', 'worldnews', 'math', 'technology', 'scifi', 'history', 'nsfw', 'canada', 'business', 'pics', 'obama', 'AskReddit', 'joel', 'cogsci', 'programming', 'geek'})\n",
      "\n",
      "*** SNetT Girvan-Newman communities:\n",
      "\n",
      "1\n",
      "['reddit.com']\n",
      "\n",
      "38\n",
      "['AskReddit', 'Economics', 'Health', 'WTF', 'atheism', 'bestof', 'business', 'canada', 'cogsci', 'comics', 'entertainment', 'environment', 'funny', 'gadgets', 'gaming', 'geek', 'guns', 'history', 'ideas', 'joel', 'linux', 'math', 'netsec', 'news', 'nsfw', 'obama', 'offbeat', 'philosophy', 'photography', 'pics', 'politics', 'programming', 'science', 'scifi', 'software', 'technology', 'videos', 'worldnews']\n",
      "\n",
      "*** SNetT label propagation communities:\n",
      "\n",
      "39\n",
      "{'Economics', 'funny', 'guns', 'reddit.com', 'linux', 'ideas', 'photography', 'videos', 'Health', 'entertainment', 'politics', 'science', 'gadgets', 'comics', 'news', 'environment', 'atheism', 'gaming', 'netsec', 'software', 'philosophy', 'worldnews', 'offbeat', 'WTF', 'bestof', 'math', 'technology', 'scifi', 'history', 'nsfw', 'canada', 'business', 'pics', 'obama', 'AskReddit', 'joel', 'cogsci', 'programming', 'geek'}\n"
     ]
    }
   ],
   "source": [
    "print(\"\\n*** SNetT greedy modularity communities:\")\n",
    "for c in com.greedy_modularity_communities(SNetT):\n",
    "    print()\n",
    "    print(len(c))\n",
    "    print(c)\n",
    "\n",
    "print(\"\\n*** SNetT Girvan-Newman communities:\")\n",
    "for t in tuple(sorted(c) for c in next(com.girvan_newman(SNetT))):\n",
    "    print()\n",
    "    print(len(t))\n",
    "    print(t)\n",
    "\n",
    "print(\"\\n*** SNetT label propagation communities:\")\n",
    "for l in com.label_propagation_communities(SNetT):\n",
    "    print()\n",
    "    print(len(l))\n",
    "    print(l)"
   ]
  },
  {
   "cell_type": "code",
   "execution_count": 88,
   "id": "9bc9e3ae",
   "metadata": {},
   "outputs": [
    {
     "name": "stdout",
     "output_type": "stream",
     "text": [
      "\n",
      "*** SNetClean greedy modularity communities:\n",
      "\n",
      "629\n",
      "frozenset({'justwow', 'funny', 'tf2', 'dickoftheyear', 'ru', 'offensive', 'trippy', 'dostuff', 'goodoldays', 'wackynews', 'WikiDashboard', 'onlinejournalism', 'philadelphia', 'security', 'NonAustrianEconomics', 'agile', 'Gothic', 'FixedGearBicycle', 'gaming', 'InternetMarketing', '2008is1929', 'pcgaming', 'actlocally', 'worldnews', 'cuilsucks', 'artofpickup', 'datacompression', 'BagLovers', 'rails', 'jobpostings', 'nachos', 'ko', 'sport', 'GlobalistNews', 'bitch_n_complain', 'spanishlanguagenerds', 'germany', 'dvd', 'ireland', 'economics2', 'penis', 'hacks', 'haiku', 'CARTOON', 'Economics', 'cycling', 'China', 'ResistTyranny', 'featurerequest', 'impoliteconversation', 'test', 'cocoa', 'neopagan', 'Bondage', 'onlinegames', 'visualization', 'Tcl', 'seduction', 'celebrity', 'UpperCanada', 'Magic', 'nederlands', 'KiNov', 'prowrestling', 'Omorashi', 'MusicVideos', 'nl', 'FantasticContraption', 'dotnet', 'tedtalks', 'bollywood', 'Autos', 'pics', 'biology', 'aodag', 'sportscars', 'mediareddit', 'J2EE', 'linux', 'techbookreviews', 'geospatial', '2600', 'functional', 'shoebush', 'finance2', 'promos', 'Entertainment_Gossip', 'Fishing', 'nethack', 'sysor', 'Blogging', 'news', 'FootballCentral', 'SwampSparrowSucks', 'mises', 'TrueHorrorStories', 'C_Programming', 'NewAgeReligion', 'lexlinguae', 'mypussyhurts', 'Vegetarianism', 'bestof', 'LazyHour', 'vegan', 'teeshirtart', 'Realty', 'comedy', 'Cplusplus', 'engineering', 'bdsm', 'HorribleIdea', 'punthreads', 'Hardcore', 'loldogs', 'gambling', 'russian', 'Brooklyn', 'pakistan', 'ChileRemix', 'HowToDIY', 'reddit.com', 'fr', 'fiction', 'aviation', 'Cappuccino', 'oldlive', 'emacs', 'foreignpolicy', 'memetics', 'wine', 'monocle', 'zine', 'no', 'Capitalism', 'Music', 'request', 'aggieliberal', 'Scotland', 'chicago', 'Dr_Horrible', 'nuclear', 'mccainsgaffeoftheday', 'dating', 'RUI', 'features', 'breakglass', 'Jazz', 'warpiggs', 'Atlanta', 'Cleveland', 'web_infrastructure', 'activism', 'blackhatseo', 'soccer', 'culturalstudies', 'TurkeyBacon', 'graphicnovels', 'sceptics', 'latinoamerica', 'foodart', 'tr', 'Hunting', 'Android', 'language', 'Mushrooms', 'asm', 'environment', 'voteup', 'OpenEd', 'whedon', 'redheads', 'es', 'Baroque', 'code', 'joos', 'progressive', 'norge', 'SocialNews', 'schadenfreude', 'longtext', 'mixes', 'triangle', 'Wordpress', 'smokefree2009', 'scala', 'trolling', 'RamaOne', 'nsfwvideos', 'wireless', 'd_language', 'PSP', 'nsw', 'rap', 'Futurism', 'likereddit', 'Ambientalmente', 'caregiving', 'athiest', 'italy', 'haskell_proposals', 'dotfiles', 'religiousdebate', 'Debate', 'igr', 'norulesMMA', 'lonely', 'discussions', 'EnAmerique', 'PhilosophyCorner', 'Objectivism', 'floss', 'Breakfast', 'webtools', 'mobile', 'cool', 'Spore', 'AnnikRubens', 'pandorastations', 'sandbox', 'finance', 'Stargate', 'ogijun', 'bloggerdal', 'karma', 'JamsBio', 'futurenews', 'Africa', 'ideasfortheadmins', 'yahoo', 'Gifts', 'hip_hop', 'vid', 'Tugimp', 'confessions', 'deutschland', 'EeePC', 'Zombie', 'dogs', 'FinanceNews', 'Charity', 'app', 'insomnia', 'nonprofit', 'death_metal', 'spiritual', 'magicTCG', 'nsfw', 'jobs', 'fail', 'artistic', 'DADA', 'computers', 'ajax', 'potus08', 'Colorado', 'france', 'redditAnswers', 'alcohol', 'AdultChildren', 'Seattle', 'windows', 'WomenOfColor', 'muxtape', 'oppositeday', 'personals', 'podcasts', 'baseball', 'WeAreTheFilmMakers', 'Amateur', 'VoteUpIf', 'git', 'polls', 'magick', 'notreallynews', 'Turkey', 'ralphnader', 'intelligent', 'olympics', 'housing', 'classy', 'Switzerland', 'parent', 'photoshop', 'brasil', 'networking', 'Catholicism', 'flash', 'redditbay', 'Infos', 'telescopes', 'xTRUMANx', 'MapleLinks', 'just4callie', 'Discussion', 'ipv6', 'wallpapers', 'vids', 'asia', 'Outdoors', 'spammers', 'sv', 'grammar', 'myth', 'milf', 'rape', 'prolog', 'justforkids', 'Warcraft', 'panda', 'agi', 'timetravel', '2008Olympics', 'nin', 'hockey', 'shell', 'MusicFail', 'redditcompetition', 'bitch', 'taoism', 'greentea', 'Quebec', 'LegalTeens', 'shortstories', 'moonhoax', 'BCCResearch', 'TeamFortress2', 'stocks', 'virtualization', 'Annoying', 'LiberalHippies', 'WorldWidePolitics', 'blackculture', 'p2ptech', 'Dissent', 'indierock', 'starcraft', 'McCain', 'meetup', 'Weird_Science', 'videos', 'CommonLaw', 'poker', 'semanticweb', 'christmas', 'wedding', 'vegas', 'washingtondc', 'formulaone', 'antiterrorism', 'climate', 'cheats', 'homeschool', 'tritit', 'USPE12', 'FoodBlog', 'Apocalypse', 'Shortfilms', 'inspirational', 'typography', 'Pizza', 'ExDiggers', 'computergraphics', 'business', 'PutinforPresident', 'FIlm', 'braga', 'tattoos', 'operabrowser', 'puzzles', 'AsesoresInversiones', 'fakenews', 'Michigan', 'bulgaria', 'drunk', 'lego', 'Marxism', 'Pantsless', 'popper', 'darwin', 'spoilers', 'trt', 'entertainment', 'Kerala', 'AntiHillary', 'startrek', 'tacos', 'nanotech', 'MediaBias', 'poetscorner', 'offbeat', 'Judaism', 'technology', 'Lovecraft', 'lost', 'mixtape', 'wii', 'alaska', 'merb', 'redsox', 'forum', 'Mullets', 'yro', 'obama', 'pwnage', 'AskReddit', 'belgium', 'Twitter', 'piercing', 'Basketball', 'ocaml', 'longvideos', 'Gunners', 'SEC', 'MitchHedberg', 'Islamofascism', 'Omemo', 'SonyPS3', 'California', 'Games', 'Badass', 'ASPNET', 'iran', 'todayilearned', 'gadgets', 'redditanonoymous', 'punk', 'ForumReddit', 'stripclubs', 'complaints', 'propaganda', 'Iceland', 'INTP', 'geyik', 'scene', 'Database', 'photographers', 'water', 'kyonounnsei', 'PhotoBlog', 'boston', 'AmericanHistory', 'broccoli', 'MoosePatrol', 'yardsale', 'Austin', 'Dietandhealth', 'poll', 'newzealand', 'Charitable', 'voluptuous', 'Slut', 'florida', 'racism', 'unix', 'smart', 'encryption', 'russia', 'StarWars', 'undead', 'xbox360', 'Equus', 'genetic_algorithms', 'cannabis', 'SEO', 'softwaredevelopment', 'motherapproves', 'macprogramming', 'fsm', 'Heavymetal', 'scripting', 'theology', 'choppers', 'argentina', 'search', 'Webometrics', 'YoDawg', 'hardbodies', 'unhappy', 'pl', 'skateboarding', 'MMORPG', 'urbanplanning', 'codeprojects', 'GreenProducts', 'java', 'baduk', 'riaa', 'antiwar', 'ZinioBest', 'it', 'facebook', 'religionseriously', 'bioinformatics', 'stories', 'bittersweet', 'Gays', 'comicbooks', 'smalltalk', 'catswithbacon', 'Fish', 'newyork', 'plasma', 'Celtic', 'fallacy', 'Tasers', 'science', 'motorcycles', 'WorldHistory', 'blog', 'sdcc1', 'oregon', 'texas', 'aynrandreddits', 'wow', 'management', 'CanadaVotes2008', 'bayarea', 'Webmaster', 'work', 'Entrepreneur', 'Libraries', 'lyrics', 'lifestyle', 'AmericanEconomy', 'Internet', '_Descary', 'men', 'electronicmusic', 'vim', 'chess', 'BluesMusic', 'geek', 'Conserve', 'britpolitics', 'hiphop', 'TestMySite', 'Cheese', 'diabetes', 'Attenborough', 'blogger', 'LaTeX', 'profile', 'god', 'mexico', 'politics', 'Social__Media', 'chrome', 'eggs', 'electronics', 'comics', 'atheism', 'gender', 'Homebrewing', 'bitteroldmen', 'Archaeology', 'humor', 'outrage', 'IntellectualReddit', 'hotmanflesh', 'ITnews', 'subreddit_complaints', 'audio', 'Desktop_Wallpaper', 'TimeTravellers', 'WTF', 'weed', 'newspapers', 'whine', 'cars', 'greece', 'science2', 'statistics', 'Fantasy', 'GlobalEconomy', 'Cricket', 'freelance', 'gay', 'breadpig', 'Sex_Offender_Issues', 'types', 'fsharp', 'LSD', 'Kucinich', 'programming', 'spirituality', 'MMJ', 'gaynsfw', 'espanol', 'womenofreddit', 'Vote_up_if', 'sanfrancisco', 'manchester', 'sl', 'onlycode', 'badmusic', 'porn', 'disability', 'sustainability', 'oversightings', 'Health', 'ciencia', 'samokrutka', 'medicine', 'korea', 'pittsburgh', 'autism', 'Clojure', 'ja', 'iPhoneDev', 'quotes', 'politicstoo', 'secondlife', 'usability', 'gnu', 'wenyude', 'left4dead', 'Pirate', 'ANTISHARIA', 'hacking', 'matheducation', 'awesomereddit', 'businessnews', 'scheme', 'SuperSwedishGirls', 'de', 'arguments', 'chemistry', 'karaoke', 'transit'})\n",
      "\n",
      "260\n",
      "frozenset({'SuicideWatch', 'zh', 'dailywtf', 'pssnaked', 'self', 'gardening', 'europe', 'snobs', 'windowshots', 'scientology', 'LosAngeles', 'PHP', 'l33t', 'bash', 'marketing', 'howto', 'hackers', 'wikipedia', 'auto', 'anime', 'japan', 'WebNews', 'opensource', 'things', 'AnimalRights', 'askcheez', 'mac', 'MensRights', 'animation', 'askXKCD', 'worldpolitics', 'psychology', 'Metal', 'education', 'guns', 'testtest', 'digg', 'social_bookmarking', 'microsoft', 'lamengao', 'television', 'Josie', 'war', 'cnbeta', 'ukpolitics', 'Libertarian', 'Cooking', 'books', 'love', 'apple', 'travel', 'conspiracy', 'USPE08', 'Unanimous', 'torrents', 'space', 'area51', 'usa', 'Pets', 'investing', 'django', 'Animals', 'food', 'bicycling', 'joel', 'Paranormal', 'lolcats', 'cimigo', 'Frugal', 'osx', 'lgbt', 'furry', 'SewerHorse', 'lectures', 'newreddits', 'ruby', 'occult', 'iphone', 'idea', 'PS3', 'compsci', 'wackyworld', 'AmericanGovernment', 'ZenHabits', 'productivity', 'redditchan', 'government', 'Coffee', 'PalinProblem', 'redditdev', 'worstof', 'Bacon', 'literature', 'bugs', 'youtube', 'Drugs', 'beer', 'blogs', 'Python', 'Anthropology', 'lists', 'Conservative', 'AmericanPolitics', 'sex', 'bestofcraigslist', 'meta', 'Anarchism', 'ask', 'BSD', 'fashion', 'XYON', 'BlackOps', 'gossip', 'euro', 'haskell', 'ComputerSecurity', 'software', 'WebGames', 'singularity', 'math', 'architecture', 'history', 'lol', 'movies', 'video', 'crime', 'Fitness', 'xkcd', 'scientific', 'totosoft', 'lullaby', 'Design', 'giveaways', 'askJeph', 'india', 'england', 'conspiracies', 'yourweek', 'cogsci', 'startups', '4chan', 'cpp', 'Marijuana', 'egalitarian', 'Astronomy', 'Transhuman', 'hardware', 'epicthread', 'erlang', 'rpg', 'Ubuntu', 'Documentaries', 'Green', 'fascinating', 'UFOs', 'Physics', 'WeAreTheMusicMakers', 'Kaede_Rukawa', 'ArtCrit', 'netsec', 'ohwhataworld', 'law', 'Israel', 'Art', 'astro', 'ourex', 'Chinese', 'zen', 'Pictures', 'WhiteMenGoneWild', '911truth', 'women', 'happy', 'browsers', 'ReverseEngineering', 'gonewild', 'zombies', '5edwin', 'contraptions', 'geopolitics', 'ideas', 'islam', 'celebrities', 'Military', 'SinoBeta', 'Jokes', 'feminisms', 'musicians', 'evolution', 'nyc', 'web_design', 'scifi', 'socialism', 'socialmedia', 'linguistics', 'webcomics', 'ads', 'DIY', 'sociology', 'PoliticalHumor', 'writing', 'antibacon', 'skeptic', 'hurts_my_eyes', 'photography', 'Graffiti', 'veg', 'energy', 'Poetry', 'recipes', 'independent', 'collapse', 'WorldWideNews', 'dior_lei', 'selfhelp', 'cute', 'doctorwho', 'Buddhism', 'Sexy', 'Liberty', 'pic', 'australia', 'Christianity', 'Parenting', 'nature', 'economy', 'freemusic', 'bookclub', 'robotics', 'sports', 'culture', 'Guitar', 'media', 'unitedkingdom', 'perl', 'Freethought', 'interestingasfuck', 'BestGamesEver', 'worldnews2', 'MMA', 'javascript', 'Boobies', 'kde', 'lisp', 'colorreddit', 'ass', 'philosophy', 'Survival', 'ronpaul', 'aww', 'Socialize', 'hrw', 'canada', 'religion', 'tech', 'firefox', 'Cryptogon', 'craigslist', 'lovereddit', 'google'})\n",
      "\n",
      "4\n",
      "frozenset({'d1g', 'arabic', '7mooode', 'arabicblogs'})\n",
      "\n",
      "2\n",
      "frozenset({'hu', 'turkalo'})\n",
      "\n",
      "2\n",
      "frozenset({'Gamer', 'Webbook'})\n",
      "\n",
      "2\n",
      "frozenset({'3cs', 'portugal'})\n",
      "\n",
      "*** SNetClean Girvan-Newman communities:\n"
     ]
    },
    {
     "name": "stdout",
     "output_type": "stream",
     "text": [
      "\n",
      "893\n",
      "['2008Olympics', '2008is1929', '2600', '4chan', '5edwin', '911truth', 'ANTISHARIA', 'ASPNET', 'AdultChildren', 'Africa', 'Amateur', 'Ambientalmente', 'AmericanEconomy', 'AmericanGovernment', 'AmericanHistory', 'AmericanPolitics', 'Anarchism', 'Android', 'AnimalRights', 'Animals', 'AnnikRubens', 'Annoying', 'Anthropology', 'AntiHillary', 'Apocalypse', 'Archaeology', 'Art', 'ArtCrit', 'AsesoresInversiones', 'AskReddit', 'Astronomy', 'Atlanta', 'Attenborough', 'Austin', 'Autos', 'BCCResearch', 'BSD', 'Bacon', 'Badass', 'BagLovers', 'Baroque', 'Basketball', 'BestGamesEver', 'BlackOps', 'Blogging', 'BluesMusic', 'Bondage', 'Boobies', 'Breakfast', 'Brooklyn', 'Buddhism', 'CARTOON', 'C_Programming', 'California', 'CanadaVotes2008', 'Capitalism', 'Cappuccino', 'Catholicism', 'Celtic', 'Charitable', 'Charity', 'Cheese', 'ChileRemix', 'China', 'Chinese', 'Christianity', 'Cleveland', 'Clojure', 'Coffee', 'Colorado', 'CommonLaw', 'ComputerSecurity', 'Conservative', 'Conserve', 'Cooking', 'Cplusplus', 'Cricket', 'Cryptogon', 'DADA', 'DIY', 'Database', 'Debate', 'Design', 'Desktop_Wallpaper', 'Dietandhealth', 'Discussion', 'Dissent', 'Documentaries', 'Dr_Horrible', 'Drugs', 'Economics', 'EeePC', 'EnAmerique', 'Entertainment_Gossip', 'Entrepreneur', 'Equus', 'ExDiggers', 'FIlm', 'FantasticContraption', 'Fantasy', 'FinanceNews', 'Fish', 'Fishing', 'Fitness', 'FixedGearBicycle', 'FoodBlog', 'FootballCentral', 'ForumReddit', 'Freethought', 'Frugal', 'Futurism', 'Gamer', 'Games', 'Gays', 'Gifts', 'GlobalEconomy', 'GlobalistNews', 'Gothic', 'Graffiti', 'Green', 'GreenProducts', 'Guitar', 'Gunners', 'Hardcore', 'Health', 'Heavymetal', 'Homebrewing', 'HorribleIdea', 'HowToDIY', 'Hunting', 'INTP', 'ITnews', 'Iceland', 'Infos', 'IntellectualReddit', 'Internet', 'InternetMarketing', 'Islamofascism', 'Israel', 'J2EE', 'JamsBio', 'Jazz', 'Jokes', 'Josie', 'Judaism', 'Kaede_Rukawa', 'Kerala', 'KiNov', 'Kucinich', 'LSD', 'LaTeX', 'LazyHour', 'LegalTeens', 'LiberalHippies', 'Libertarian', 'Liberty', 'Libraries', 'LosAngeles', 'Lovecraft', 'MMA', 'MMJ', 'MMORPG', 'Magic', 'MapleLinks', 'Marijuana', 'Marxism', 'McCain', 'MediaBias', 'MensRights', 'Metal', 'Michigan', 'Military', 'MitchHedberg', 'MoosePatrol', 'Mullets', 'Mushrooms', 'Music', 'MusicFail', 'MusicVideos', 'NewAgeReligion', 'NonAustrianEconomics', 'Objectivism', 'Omemo', 'Omorashi', 'OpenEd', 'Outdoors', 'PHP', 'PS3', 'PSP', 'PalinProblem', 'Pantsless', 'Paranormal', 'Parenting', 'Pets', 'PhilosophyCorner', 'PhotoBlog', 'Physics', 'Pictures', 'Pirate', 'Pizza', 'Poetry', 'PoliticalHumor', 'PutinforPresident', 'Python', 'Quebec', 'RUI', 'RamaOne', 'Realty', 'ResistTyranny', 'ReverseEngineering', 'SEC', 'SEO', 'Scotland', 'Seattle', 'SewerHorse', 'Sex_Offender_Issues', 'Sexy', 'Shortfilms', 'SinoBeta', 'Slut', 'SocialNews', 'Social__Media', 'Socialize', 'SonyPS3', 'Spore', 'StarWars', 'Stargate', 'SuicideWatch', 'SuperSwedishGirls', 'Survival', 'SwampSparrowSucks', 'Switzerland', 'Tasers', 'Tcl', 'TeamFortress2', 'TestMySite', 'TimeTravellers', 'Transhuman', 'TrueHorrorStories', 'Tugimp', 'Turkey', 'TurkeyBacon', 'Twitter', 'UFOs', 'USPE08', 'USPE12', 'Ubuntu', 'Unanimous', 'UpperCanada', 'Vegetarianism', 'VoteUpIf', 'Vote_up_if', 'WTF', 'Warcraft', 'WeAreTheFilmMakers', 'WeAreTheMusicMakers', 'WebGames', 'WebNews', 'Webbook', 'Webmaster', 'Webometrics', 'Weird_Science', 'WhiteMenGoneWild', 'WikiDashboard', 'WomenOfColor', 'Wordpress', 'WorldHistory', 'WorldWideNews', 'WorldWidePolitics', 'XYON', 'YoDawg', 'ZenHabits', 'ZinioBest', 'Zombie', '_Descary', 'activism', 'actlocally', 'ads', 'aggieliberal', 'agi', 'agile', 'ajax', 'alaska', 'alcohol', 'animation', 'anime', 'antibacon', 'antiterrorism', 'antiwar', 'aodag', 'app', 'apple', 'architecture', 'area51', 'argentina', 'arguments', 'artistic', 'artofpickup', 'asia', 'ask', 'askJeph', 'askXKCD', 'askcheez', 'asm', 'ass', 'astro', 'atheism', 'athiest', 'audio', 'australia', 'autism', 'auto', 'aviation', 'awesomereddit', 'aww', 'aynrandreddits', 'badmusic', 'baduk', 'baseball', 'bash', 'bayarea', 'bdsm', 'beer', 'belgium', 'bestof', 'bestofcraigslist', 'bicycling', 'bioinformatics', 'biology', 'bitch', 'bitch_n_complain', 'bitteroldmen', 'bittersweet', 'blackculture', 'blackhatseo', 'blog', 'blogger', 'bloggerdal', 'blogs', 'bollywood', 'bookclub', 'books', 'boston', 'braga', 'brasil', 'breadpig', 'breakglass', 'britpolitics', 'broccoli', 'browsers', 'bugs', 'bulgaria', 'business', 'businessnews', 'canada', 'cannabis', 'caregiving', 'cars', 'catswithbacon', 'celebrities', 'celebrity', 'cheats', 'chemistry', 'chess', 'chicago', 'choppers', 'christmas', 'chrome', 'ciencia', 'cimigo', 'classy', 'climate', 'cnbeta', 'cocoa', 'code', 'codeprojects', 'cogsci', 'collapse', 'colorreddit', 'comedy', 'comicbooks', 'comics', 'complaints', 'compsci', 'computergraphics', 'computers', 'confessions', 'conspiracies', 'conspiracy', 'contraptions', 'cool', 'cpp', 'craigslist', 'crime', 'cuilsucks', 'culturalstudies', 'culture', 'cute', 'cycling', 'd_language', 'dailywtf', 'darwin', 'datacompression', 'dating', 'de', 'death_metal', 'deutschland', 'diabetes', 'dickoftheyear', 'digg', 'dior_lei', 'disability', 'discussions', 'django', 'doctorwho', 'dogs', 'dostuff', 'dotfiles', 'dotnet', 'drunk', 'dvd', 'economics2', 'economy', 'education', 'egalitarian', 'eggs', 'electronicmusic', 'electronics', 'emacs', 'encryption', 'energy', 'engineering', 'england', 'entertainment', 'environment', 'epicthread', 'erlang', 'es', 'espanol', 'euro', 'europe', 'evolution', 'facebook', 'fail', 'fakenews', 'fallacy', 'fascinating', 'fashion', 'featurerequest', 'features', 'feminisms', 'fiction', 'finance', 'finance2', 'firefox', 'flash', 'florida', 'floss', 'food', 'foodart', 'foreignpolicy', 'formulaone', 'forum', 'fr', 'france', 'freelance', 'freemusic', 'fsharp', 'fsm', 'functional', 'funny', 'furry', 'futurenews', 'gadgets', 'gambling', 'gaming', 'gardening', 'gay', 'gaynsfw', 'geek', 'gender', 'genetic_algorithms', 'geopolitics', 'geospatial', 'germany', 'geyik', 'git', 'giveaways', 'gnu', 'god', 'gonewild', 'goodoldays', 'google', 'gossip', 'government', 'grammar', 'graphicnovels', 'greece', 'greentea', 'guns', 'hackers', 'hacking', 'hacks', 'haiku', 'happy', 'hardbodies', 'hardware', 'haskell', 'haskell_proposals', 'hip_hop', 'hiphop', 'history', 'hockey', 'homeschool', 'hotmanflesh', 'housing', 'howto', 'hrw', 'hu', 'humor', 'hurts_my_eyes', 'iPhoneDev', 'idea', 'ideas', 'ideasfortheadmins', 'igr', 'impoliteconversation', 'independent', 'india', 'indierock', 'insomnia', 'inspirational', 'intelligent', 'interestingasfuck', 'investing', 'iphone', 'ipv6', 'iran', 'ireland', 'islam', 'it', 'italy', 'ja', 'japan', 'java', 'javascript', 'jobpostings', 'jobs', 'joel', 'joos', 'just4callie', 'justforkids', 'justwow', 'karaoke', 'karma', 'kde', 'ko', 'korea', 'kyonounnsei', 'l33t', 'lamengao', 'language', 'latinoamerica', 'law', 'lectures', 'left4dead', 'lego', 'lexlinguae', 'lgbt', 'lifestyle', 'likereddit', 'linguistics', 'linux', 'lisp', 'lists', 'literature', 'lol', 'lolcats', 'loldogs', 'lonely', 'longtext', 'longvideos', 'lost', 'love', 'lovereddit', 'lullaby', 'lyrics', 'mac', 'macprogramming', 'magicTCG', 'magick', 'management', 'manchester', 'marketing', 'math', 'matheducation', 'mccainsgaffeoftheday', 'media', 'mediareddit', 'medicine', 'meetup', 'memetics', 'men', 'merb', 'meta', 'mexico', 'microsoft', 'milf', 'mises', 'mixes', 'mixtape', 'mobile', 'monocle', 'moonhoax', 'motherapproves', 'motorcycles', 'movies', 'musicians', 'muxtape', 'mypussyhurts', 'myth', 'nachos', 'nanotech', 'nature', 'nederlands', 'neopagan', 'nethack', 'netsec', 'networking', 'newreddits', 'news', 'newspapers', 'newyork', 'newzealand', 'nin', 'nl', 'no', 'nonprofit', 'norge', 'norulesMMA', 'notreallynews', 'nsfw', 'nsfwvideos', 'nsw', 'nuclear', 'nyc', 'obama', 'ocaml', 'occult', 'offbeat', 'offensive', 'ogijun', 'ohwhataworld', 'oldlive', 'olympics', 'onlinegames', 'onlinejournalism', 'onlycode', 'opensource', 'operabrowser', 'oppositeday', 'oregon', 'osx', 'ourex', 'outrage', 'oversightings', 'p2ptech', 'pakistan', 'panda', 'pandorastations', 'parent', 'pcgaming', 'penis', 'perl', 'personals', 'philadelphia', 'philosophy', 'photographers', 'photography', 'photoshop', 'pic', 'pics', 'piercing', 'pittsburgh', 'pl', 'plasma', 'podcasts', 'poetscorner', 'poker', 'politics', 'politicstoo', 'poll', 'polls', 'popper', 'porn', 'potus08', 'productivity', 'profile', 'programming', 'progressive', 'prolog', 'promos', 'propaganda', 'prowrestling', 'pssnaked', 'psychology', 'punk', 'punthreads', 'puzzles', 'pwnage', 'quotes', 'racism', 'rails', 'ralphnader', 'rap', 'rape', 'recipes', 'reddit.com', 'redditAnswers', 'redditanonoymous', 'redditbay', 'redditchan', 'redditcompetition', 'redditdev', 'redheads', 'redsox', 'religion', 'religionseriously', 'religiousdebate', 'request', 'riaa', 'robotics', 'ronpaul', 'rpg', 'ru', 'ruby', 'russia', 'russian', 'samokrutka', 'sandbox', 'sanfrancisco', 'scala', 'scene', 'sceptics', 'schadenfreude', 'scheme', 'science', 'science2', 'scientific', 'scientology', 'scifi', 'scripting', 'sdcc1', 'search', 'secondlife', 'security', 'seduction', 'self', 'selfhelp', 'semanticweb', 'sex', 'shell', 'shoebush', 'shortstories', 'singularity', 'skateboarding', 'skeptic', 'sl', 'smalltalk', 'smart', 'smokefree2009', 'snobs', 'soccer', 'social_bookmarking', 'socialism', 'socialmedia', 'sociology', 'software', 'softwaredevelopment', 'space', 'spammers', 'spanishlanguagenerds', 'spiritual', 'spirituality', 'spoilers', 'sport', 'sports', 'sportscars', 'starcraft', 'startrek', 'startups', 'statistics', 'stocks', 'stories', 'stripclubs', 'subreddit_complaints', 'sustainability', 'sv', 'sysor', 'tacos', 'taoism', 'tattoos', 'tech', 'techbookreviews', 'technology', 'tedtalks', 'teeshirtart', 'telescopes', 'television', 'test', 'testtest', 'texas', 'tf2', 'theology', 'things', 'timetravel', 'todayilearned', 'torrents', 'totosoft', 'tr', 'transit', 'travel', 'triangle', 'trippy', 'tritit', 'trolling', 'trt', 'turkalo', 'types', 'typography', 'ukpolitics', 'undead', 'unhappy', 'unitedkingdom', 'unix', 'urbanplanning', 'usa', 'usability', 'veg', 'vegan', 'vegas', 'vid', 'video', 'videos', 'vids', 'vim', 'virtualization', 'visualization', 'voluptuous', 'voteup', 'wackynews', 'wackyworld', 'wallpapers', 'war', 'warpiggs', 'washingtondc', 'water', 'web_design', 'web_infrastructure', 'webcomics', 'webtools', 'wedding', 'weed', 'wenyude', 'whedon', 'whine', 'wii', 'wikipedia', 'windows', 'windowshots', 'wine', 'wireless', 'women', 'womenofreddit', 'work', 'worldnews', 'worldnews2', 'worldpolitics', 'worstof', 'wow', 'writing', 'xTRUMANx', 'xbox360', 'xkcd', 'yahoo', 'yardsale', 'yourweek', 'youtube', 'yro', 'zen', 'zh', 'zine', 'zombies']\n",
      "\n",
      "4\n",
      "['7mooode', 'arabic', 'arabicblogs', 'd1g']\n",
      "\n",
      "2\n",
      "['3cs', 'portugal']\n",
      "\n",
      "*** SNetClean label propagation communities:\n",
      "\n",
      "883\n",
      "{'SuicideWatch', 'justwow', 'zh', 'dailywtf', 'funny', 'tf2', 'dickoftheyear', 'ru', 'trippy', 'offensive', 'self', 'europe', 'dostuff', 'goodoldays', 'snobs', 'wackynews', 'WikiDashboard', 'windowshots', 'onlinejournalism', 'security', 'scientology', 'NonAustrianEconomics', 'agile', 'philadelphia', 'Gothic', 'FixedGearBicycle', 'PHP', 'gaming', 'hackers', 'InternetMarketing', '2008is1929', 'actlocally', 'pcgaming', 'wikipedia', 'worldnews', 'cuilsucks', 'artofpickup', 'WebNews', 'datacompression', 'things', 'BagLovers', 'rails', 'jobpostings', 'nachos', 'AnimalRights', 'ko', 'GlobalistNews', 'sport', 'bitch_n_complain', 'spanishlanguagenerds', 'germany', 'animation', 'dvd', 'ireland', 'economics2', 'penis', 'hacks', 'psychology', 'haiku', 'CARTOON', 'Economics', 'education', 'guns', 'cycling', 'China', 'ResistTyranny', 'lamengao', 'television', 'featurerequest', 'Josie', 'impoliteconversation', 'test', 'cocoa', 'neopagan', 'ukpolitics', 'Bondage', 'onlinegames', 'love', 'visualization', 'Tcl', 'conspiracy', 'seduction', 'celebrity', 'Unanimous', 'UpperCanada', 'Magic', 'nederlands', 'usa', 'Pets', 'KiNov', 'prowrestling', 'MusicVideos', 'Omorashi', 'nl', 'FantasticContraption', 'Animals', 'dotnet', 'tedtalks', 'food', 'bollywood', 'bicycling', 'Autos', 'pics', 'biology', 'aodag', 'Paranormal', 'lolcats', 'sportscars', 'mediareddit', 'lgbt', 'J2EE', 'linux', 'lectures', 'techbookreviews', 'newreddits', 'geospatial', '2600', 'functional', 'PS3', 'shoebush', 'finance2', 'promos', 'Entertainment_Gossip', 'Fishing', 'nethack', 'sysor', 'Blogging', 'compsci', 'news', 'FootballCentral', 'SwampSparrowSucks', 'mises', 'TrueHorrorStories', 'C_Programming', 'NewAgeReligion', 'AmericanGovernment', 'lexlinguae', 'Vegetarianism', 'government', 'bestof', 'LazyHour', 'mypussyhurts', 'Coffee', 'teeshirtart', 'vegan', 'Realty', 'redditdev', 'comedy', 'Cplusplus', 'literature', 'bugs', 'youtube', 'engineering', 'bdsm', 'HorribleIdea', 'punthreads', 'beer', 'Hardcore', 'loldogs', 'gambling', 'russian', 'blogs', 'Brooklyn', 'pakistan', 'lists', 'Anthropology', 'Conservative', 'fr', 'HowToDIY', 'ChileRemix', 'reddit.com', 'fiction', 'Cappuccino', 'aviation', 'oldlive', 'sex', 'emacs', 'foreignpolicy', 'memetics', 'wine', 'fashion', 'monocle', 'zine', 'no', 'gossip', 'euro', 'haskell', 'Capitalism', 'software', 'WebGames', 'Music', 'request', 'math', 'architecture', 'lol', 'history', 'aggieliberal', 'video', 'crime', 'xkcd', 'Fitness', 'Scotland', 'chicago', 'Dr_Horrible', 'nuclear', 'mccainsgaffeoftheday', 'dating', 'RUI', 'features', 'giveaways', 'breakglass', 'askJeph', 'Jazz', 'warpiggs', 'web_infrastructure', 'Atlanta', 'Cleveland', 'activism', 'blackhatseo', 'startups', 'cpp', 'egalitarian', 'Transhuman', 'soccer', 'culturalstudies', 'TurkeyBacon', 'graphicnovels', 'hardware', 'sceptics', 'epicthread', 'rpg', 'foodart', 'latinoamerica', 'tr', 'Hunting', 'Android', 'language', 'Mushrooms', 'environment', 'asm', 'voteup', 'UFOs', 'Physics', 'WeAreTheMusicMakers', 'OpenEd', 'whedon', 'redheads', 'ohwhataworld', 'Israel', 'Art', 'es', 'zen', 'Baroque', 'Pictures', 'code', 'joos', '911truth', 'progressive', 'norge', 'SocialNews', 'schadenfreude', 'longtext', 'happy', 'zombies', 'mixes', 'geopolitics', 'triangle', 'Wordpress', 'smokefree2009', 'trolling', 'scala', 'RamaOne', 'nsfwvideos', 'wireless', 'd_language', 'PSP', 'nsw', 'rap', 'Futurism', 'musicians', 'feminisms', 'likereddit', 'evolution', 'nyc', 'Ambientalmente', 'caregiving', 'socialism', 'scifi', 'italy', 'religiousdebate', 'haskell_proposals', 'dotfiles', 'athiest', 'Debate', 'igr', 'norulesMMA', 'linguistics', 'webcomics', 'lonely', 'discussions', 'EnAmerique', 'Objectivism', 'PhilosophyCorner', 'Breakfast', 'webtools', 'mobile', 'floss', 'ads', 'cool', 'Spore', 'AnnikRubens', 'pandorastations', 'sandbox', 'finance', 'Stargate', 'sociology', 'PoliticalHumor', 'writing', 'ogijun', 'bloggerdal', 'karma', 'hurts_my_eyes', 'veg', 'JamsBio', 'futurenews', 'Africa', 'ideasfortheadmins', 'Poetry', 'yahoo', 'Gifts', 'hip_hop', 'vid', 'recipes', 'Tugimp', 'confessions', 'independent', 'deutschland', 'collapse', 'EeePC', 'FinanceNews', 'Charity', 'dogs', 'WorldWideNews', 'insomnia', 'Zombie', 'app', 'nonprofit', 'death_metal', 'spiritual', 'nsfw', 'magicTCG', 'jobs', 'fail', 'artistic', 'DADA', 'computers', 'Buddhism', 'ajax', 'potus08', 'Sexy', 'france', 'Colorado', 'redditAnswers', 'pic', 'Christianity', 'alcohol', 'Seattle', 'AdultChildren', 'nature', 'windows', 'WomenOfColor', 'economy', 'muxtape', 'oppositeday', 'freemusic', 'personals', 'sports', 'podcasts', 'baseball', 'Guitar', 'WeAreTheFilmMakers', 'Amateur', 'VoteUpIf', 'magick', 'git', 'polls', 'perl', 'notreallynews', 'Turkey', 'interestingasfuck', 'BestGamesEver', 'Freethought', 'worldnews2', 'intelligent', 'ralphnader', 'javascript', 'olympics', 'Boobies', 'classy', 'Switzerland', 'housing', 'parent', 'photoshop', 'brasil', 'philosophy', 'ass', 'Catholicism', 'networking', 'redditbay', 'flash', 'ronpaul', 'aww', 'Infos', 'telescopes', 'xTRUMANx', 'Socialize', 'MapleLinks', 'religion', 'firefox', 'Cryptogon', 'Discussion', 'craigslist', 'ipv6', 'just4callie', 'wallpapers', 'vids', 'asia', 'Outdoors', 'spammers', 'sv', 'grammar', 'pssnaked', 'myth', 'gardening', 'milf', 'rape', 'prolog', 'justforkids', 'Warcraft', 'LosAngeles', 'panda', 'agi', 'timetravel', 'l33t', 'howto', 'marketing', 'bash', '2008Olympics', 'nin', 'hockey', 'shell', 'MusicFail', 'redditcompetition', 'auto', 'anime', 'bitch', 'taoism', 'japan', 'opensource', 'greentea', 'Quebec', 'LegalTeens', 'askcheez', 'mac', 'shortstories', 'MensRights', 'moonhoax', 'TeamFortress2', 'BCCResearch', 'stocks', 'Annoying', 'virtualization', 'LiberalHippies', 'askXKCD', 'WorldWidePolitics', 'blackculture', 'worldpolitics', 'p2ptech', 'Metal', 'Dissent', 'indierock', 'testtest', 'digg', 'microsoft', 'social_bookmarking', 'starcraft', 'McCain', 'meetup', 'Weird_Science', 'war', 'videos', 'CommonLaw', 'poker', 'semanticweb', 'christmas', 'wedding', 'formulaone', 'vegas', 'antiterrorism', 'washingtondc', 'climate', 'cheats', 'Libertarian', 'homeschool', 'Cooking', 'books', 'apple', 'tritit', 'USPE12', 'travel', 'USPE08', 'Shortfilms', 'Apocalypse', 'FoodBlog', 'inspirational', 'typography', 'torrents', 'space', 'Pizza', 'area51', 'AsesoresInversiones', 'ExDiggers', 'django', 'computergraphics', 'investing', 'business', 'PutinforPresident', 'FIlm', 'braga', 'tattoos', 'joel', 'operabrowser', 'puzzles', 'Michigan', 'bulgaria', 'osx', 'drunk', 'Frugal', 'fakenews', 'lego', 'Marxism', 'furry', 'SewerHorse', 'Pantsless', 'popper', 'darwin', 'spoilers', 'ruby', 'occult', 'trt', 'entertainment', 'iphone', 'Kerala', 'idea', 'AntiHillary', 'startrek', 'tacos', 'nanotech', 'wackyworld', 'MediaBias', 'poetscorner', 'productivity', 'ZenHabits', 'redditchan', 'offbeat', 'Judaism', 'technology', 'lost', 'Lovecraft', 'PalinProblem', 'mixtape', 'worstof', 'Bacon', 'wii', 'alaska', 'merb', 'redsox', 'Drugs', 'forum', 'Mullets', 'yro', 'obama', 'pwnage', 'AskReddit', 'Twitter', 'belgium', 'piercing', 'Basketball', 'Python', 'ocaml', 'longvideos', 'Gunners', 'SEC', 'MitchHedberg', 'AmericanPolitics', 'Islamofascism', 'SonyPS3', 'Omemo', 'California', 'bestofcraigslist', 'Games', 'Badass', 'meta', 'ASPNET', 'iran', 'todayilearned', 'gadgets', 'Anarchism', 'BSD', 'ask', 'punk', 'ForumReddit', 'redditanonoymous', 'BlackOps', 'XYON', 'stripclubs', 'complaints', 'propaganda', 'Iceland', 'ComputerSecurity', 'singularity', 'geyik', 'INTP', 'movies', 'scene', 'scientific', 'Database', 'water', 'kyonounnsei', 'photographers', 'lullaby', 'totosoft', 'PhotoBlog', 'boston', 'Design', 'AmericanHistory', 'broccoli', 'MoosePatrol', 'yardsale', 'Austin', 'Dietandhealth', 'india', 'england', 'conspiracies', 'poll', 'newzealand', 'cogsci', 'yourweek', 'Charitable', 'voluptuous', '4chan', 'florida', 'racism', 'Slut', 'Marijuana', 'smart', 'unix', 'Astronomy', 'encryption', 'russia', 'StarWars', 'undead', 'xbox360', 'erlang', 'Equus', 'genetic_algorithms', 'SEO', 'cannabis', 'Ubuntu', 'softwaredevelopment', 'Documentaries', 'Green', 'fascinating', 'motherapproves', 'macprogramming', 'fsm', 'Heavymetal', 'scripting', 'theology', 'ArtCrit', 'netsec', 'choppers', 'argentina', 'law', 'search', 'Webometrics', 'ourex', 'astro', 'Chinese', 'YoDawg', 'hardbodies', 'unhappy', 'pl', 'skateboarding', 'MMORPG', 'urbanplanning', 'codeprojects', 'WhiteMenGoneWild', 'GreenProducts', 'java', 'baduk', 'antiwar', 'women', 'it', 'riaa', 'ZinioBest', 'religionseriously', 'facebook', 'browsers', 'gonewild', 'stories', 'bittersweet', 'bioinformatics', 'ReverseEngineering', 'Gays', 'comicbooks', 'smalltalk', 'contraptions', 'Fish', 'catswithbacon', 'newyork', 'karaoke', 'ideas', 'plasma', 'Celtic', 'fallacy', 'Tasers', 'science', 'islam', 'motorcycles', 'WorldHistory', 'blog', 'celebrities', 'Military', 'sdcc1', 'oregon', 'SinoBeta', 'Jokes', 'texas', 'aynrandreddits', 'wow', 'CanadaVotes2008', 'management', 'web_design', 'bayarea', 'Webmaster', 'work', 'Entrepreneur', 'Libraries', 'lyrics', 'socialmedia', 'lifestyle', 'AmericanEconomy', 'Internet', '_Descary', 'DIY', 'men', 'electronicmusic', 'vim', 'chess', 'BluesMusic', 'geek', 'Conserve', 'britpolitics', 'antibacon', 'hiphop', 'TestMySite', 'Cheese', 'diabetes', 'skeptic', 'photography', 'Graffiti', 'blogger', 'LaTeX', 'profile', 'Attenborough', 'mexico', 'politics', 'god', 'energy', 'Social__Media', 'chrome', 'eggs', 'electronics', 'comics', 'atheism', 'gender', 'Homebrewing', 'bitteroldmen', 'Archaeology', 'humor', 'outrage', 'IntellectualReddit', 'hotmanflesh', 'ITnews', 'subreddit_complaints', 'audio', 'Desktop_Wallpaper', 'TimeTravellers', 'weed', 'WTF', 'newspapers', 'whine', 'cars', 'selfhelp', 'greece', 'science2', 'cute', 'doctorwho', 'statistics', 'Fantasy', 'GlobalEconomy', 'Cricket', 'freelance', 'breadpig', 'gay', 'Sex_Offender_Issues', 'Liberty', 'types', 'australia', 'fsharp', 'LSD', 'Kucinich', 'programming', 'Parenting', 'spirituality', 'MMJ', 'gaynsfw', 'Vote_up_if', 'sanfrancisco', 'womenofreddit', 'espanol', 'manchester', 'bookclub', 'sl', 'porn', 'robotics', 'badmusic', 'onlycode', 'culture', 'disability', 'sustainability', 'media', 'oversightings', 'Health', 'ciencia', 'unitedkingdom', 'samokrutka', 'medicine', 'korea', 'MMA', 'pittsburgh', 'autism', 'Clojure', 'kde', 'ja', 'lisp', 'iPhoneDev', 'Survival', 'quotes', 'politicstoo', 'secondlife', 'usability', 'gnu', 'wenyude', 'left4dead', 'Pirate', 'hrw', 'canada', 'ANTISHARIA', 'hacking', 'tech', 'matheducation', 'awesomereddit', 'businessnews', 'scheme', 'SuperSwedishGirls', 'de', 'arguments', 'chemistry', 'lovereddit', 'transit', 'google'}\n",
      "\n",
      "2\n",
      "{'hu', 'turkalo'}\n",
      "\n",
      "4\n",
      "{'arabic', 'd1g', 'arabicblogs', '7mooode'}\n",
      "\n",
      "6\n",
      "{'colorreddit', 'cnbeta', '5edwin', 'dior_lei', 'Kaede_Rukawa', 'cimigo'}\n",
      "\n",
      "2\n",
      "{'Gamer', 'Webbook'}\n",
      "\n",
      "2\n",
      "{'3cs', 'portugal'}\n"
     ]
    }
   ],
   "source": [
    "print(\"\\n*** SNetClean greedy modularity communities:\")\n",
    "for c in com.greedy_modularity_communities(SNetClean):\n",
    "    print()\n",
    "    print(len(c))\n",
    "    print(c)\n",
    "\n",
    "print(\"\\n*** SNetClean Girvan-Newman communities:\")\n",
    "for t in tuple(sorted(c) for c in next(com.girvan_newman(SNetClean))):\n",
    "    print()\n",
    "    print(len(t))\n",
    "    print(t)\n",
    "\n",
    "print(\"\\n*** SNetClean label propagation communities:\")\n",
    "for l in com.label_propagation_communities(SNetClean):\n",
    "    print()\n",
    "    print(len(l))\n",
    "    print(l)"
   ]
  },
  {
   "cell_type": "code",
   "execution_count": 91,
   "id": "0e625c1b",
   "metadata": {},
   "outputs": [],
   "source": [
    "def plotDegFrequency(graph, weighted = False, xscale = \"log\", yscale = \"log\"):\n",
    "    if weighted:\n",
    "        degrees = graph.degree(weight = \"weight\")\n",
    "    else:\n",
    "        degrees = graph.degree()\n",
    "    \n",
    "    _, degList = zip(*degrees)\n",
    "    degCounts = Counter(degList)\n",
    "    x, y = zip(*degCounts.items())\n",
    "    \n",
    "    plt.figure(1)\n",
    "    \n",
    "    if weighted:\n",
    "        plt.xlabel(\"weighted degree\")\n",
    "    else:\n",
    "        plt.xlabel(\"degree\")\n",
    "    plt.xscale(xscale)\n",
    "    plt.xlim(1, max(x))\n",
    "    \n",
    "    plt.ylabel(\"frequency\")\n",
    "    plt.yscale(yscale)\n",
    "    plt.ylim(1, max(y))\n",
    "    \n",
    "    plt.scatter(x, y, marker = \".\")\n",
    "    plt.show()"
   ]
  },
  {
   "cell_type": "code",
   "execution_count": 92,
   "id": "02ca9040",
   "metadata": {},
   "outputs": [
    {
     "data": {
      "image/png": "[encoded data removed]",
      "text/plain": [
       "<Figure size 432x288 with 1 Axes>"
      ]
     },
     "metadata": {
      "needs_background": "light"
     },
     "output_type": "display_data"
    }
   ],
   "source": [
    "plotDegFrequency(SNet)"
   ]
  },
  {
   "cell_type": "code",
   "execution_count": 93,
   "id": "1dae192d",
   "metadata": {},
   "outputs": [
    {
     "data": {
      "image/png": "[encoded data removed]",
      "text/plain": [
       "<Figure size 432x288 with 1 Axes>"
      ]
     },
     "metadata": {
      "needs_background": "light"
     },
     "output_type": "display_data"
    }
   ],
   "source": [
    "plotDegFrequency(SNet, weighted = True)"
   ]
  },
  {
   "cell_type": "code",
   "execution_count": 94,
   "id": "67efe26d",
   "metadata": {},
   "outputs": [
    {
     "data": {
      "image/png": "[encoded data removed]",
      "text/plain": [
       "<Figure size 432x288 with 1 Axes>"
      ]
     },
     "metadata": {
      "needs_background": "light"
     },
     "output_type": "display_data"
    }
   ],
   "source": [
    "plotDegFrequency(SNetT)"
   ]
  },
  {
   "cell_type": "code",
   "execution_count": 95,
   "id": "74d6d4da",
   "metadata": {},
   "outputs": [
    {
     "name": "stderr",
     "output_type": "stream",
     "text": [
      "C:\\Users\\rzlat\\AppData\\Local\\Temp\\ipykernel_8408\\1800936658.py:22: UserWarning: Attempting to set identical bottom == top == 1 results in singular transformations; automatically expanding.\n",
      "  plt.ylim(1, max(y))\n"
     ]
    },
    {
     "data": {
      "image/png": "[encoded data removed]",
      "text/plain": [
       "<Figure size 432x288 with 1 Axes>"
      ]
     },
     "metadata": {
      "needs_background": "light"
     },
     "output_type": "display_data"
    }
   ],
   "source": [
    "plotDegFrequency(SNetT, weighted = True)"
   ]
  },
  {
   "cell_type": "code",
   "execution_count": 96,
   "id": "a01f3fec",
   "metadata": {},
   "outputs": [
    {
     "data": {
      "image/png": "[encoded data removed]",
      "text/plain": [
       "<Figure size 432x288 with 1 Axes>"
      ]
     },
     "metadata": {
      "needs_background": "light"
     },
     "output_type": "display_data"
    }
   ],
   "source": [
    "plotDegFrequency(SNetClean)"
   ]
  },
  {
   "cell_type": "code",
   "execution_count": 97,
   "id": "5fca82f9",
   "metadata": {},
   "outputs": [
    {
     "data": {
      "image/png": "[encoded data removed]",
      "text/plain": [
       "<Figure size 432x288 with 1 Axes>"
      ]
     },
     "metadata": {
      "needs_background": "light"
     },
     "output_type": "display_data"
    }
   ],
   "source": [
    "plotDegFrequency(SNetClean, weighted = True)"
   ]
  },
  {
   "cell_type": "code",
   "execution_count": 98,
   "id": "360d3b06",
   "metadata": {},
   "outputs": [
    {
     "data": {
      "image/png": "[encoded data removed]",
      "text/plain": [
       "<Figure size 432x288 with 1 Axes>"
      ]
     },
     "metadata": {
      "needs_background": "light"
     },
     "output_type": "display_data"
    },
    {
     "data": {
      "image/png": "[encoded data removed]",
      "text/plain": [
       "<Figure size 432x288 with 1 Axes>"
      ]
     },
     "metadata": {
      "needs_background": "light"
     },
     "output_type": "display_data"
    }
   ],
   "source": [
    "# Random network with size of SNet\n",
    "n = SNet.number_of_nodes()\n",
    "m = SNet.number_of_edges()\n",
    "\n",
    "Gnm = nx.gnm_random_graph(n, m)\n",
    "\n",
    "plotDegFrequency(Gnm, xscale = \"linear\", yscale = \"linear\")\n",
    "plotDegFrequency(Gnm, xscale = \"log\", yscale = \"log\")"
   ]
  },
  {
   "cell_type": "code",
   "execution_count": 99,
   "id": "bb6aeb83",
   "metadata": {},
   "outputs": [
    {
     "data": {
      "image/png": "[encoded data removed]",
      "text/plain": [
       "<Figure size 432x288 with 1 Axes>"
      ]
     },
     "metadata": {
      "needs_background": "light"
     },
     "output_type": "display_data"
    },
    {
     "data": {
      "image/png": "[encoded data removed]",
      "text/plain": [
       "<Figure size 432x288 with 1 Axes>"
      ]
     },
     "metadata": {
      "needs_background": "light"
     },
     "output_type": "display_data"
    }
   ],
   "source": [
    "# Random network with size of SNetT\n",
    "n = SNetT.number_of_nodes()\n",
    "m = SNetT.number_of_edges()\n",
    "\n",
    "Gnm = nx.gnm_random_graph(n, m)\n",
    "\n",
    "plotDegFrequency(Gnm, xscale = \"linear\", yscale = \"linear\")\n",
    "plotDegFrequency(Gnm, xscale = \"log\", yscale = \"log\")"
   ]
  },
  {
   "cell_type": "code",
   "execution_count": 100,
   "id": "cc02b2b5",
   "metadata": {},
   "outputs": [
    {
     "data": {
      "image/png": "[encoded data removed]",
      "text/plain": [
       "<Figure size 432x288 with 1 Axes>"
      ]
     },
     "metadata": {
      "needs_background": "light"
     },
     "output_type": "display_data"
    },
    {
     "data": {
      "image/png": "[encoded data removed]",
      "text/plain": [
       "<Figure size 432x288 with 1 Axes>"
      ]
     },
     "metadata": {
      "needs_background": "light"
     },
     "output_type": "display_data"
    }
   ],
   "source": [
    "# Random network with size of SNetClean\n",
    "n = SNetClean.number_of_nodes()\n",
    "m = SNetClean.number_of_edges()\n",
    "\n",
    "Gnm = nx.gnm_random_graph(n, m)\n",
    "\n",
    "plotDegFrequency(Gnm, xscale = \"linear\", yscale = \"linear\")\n",
    "plotDegFrequency(Gnm, xscale = \"log\", yscale = \"log\")"
   ]
  },
  {
   "cell_type": "code",
   "execution_count": 101,
   "id": "a9065e73",
   "metadata": {},
   "outputs": [
    {
     "name": "stdout",
     "output_type": "stream",
     "text": [
      "Max number of edges: 0.0887325932550644\n",
      "Difference in number of nodes is -69, which is change of 0.19264595024708936%\n"
     ]
    },
    {
     "data": {
      "image/png": "[encoded data removed]",
      "text/plain": [
       "<Figure size 432x288 with 1 Axes>"
      ]
     },
     "metadata": {
      "needs_background": "light"
     },
     "output_type": "display_data"
    },
    {
     "data": {
      "image/png": "[encoded data removed]",
      "text/plain": [
       "<Figure size 432x288 with 1 Axes>"
      ]
     },
     "metadata": {
      "needs_background": "light"
     },
     "output_type": "display_data"
    }
   ],
   "source": [
    "# Erdos-Renyi network for SNet\n",
    "n = SNet.number_of_nodes()\n",
    "m = SNet.number_of_edges()\n",
    "p = (2 * float(m)) / (n * (n - 1))\n",
    "print(\"Max number of edges: \" + str(p))\n",
    "\n",
    "ER = nx.erdos_renyi_graph(n, p)\n",
    "\n",
    "deltaM = m - ER.number_of_edges()\n",
    "print(f\"Difference in number of nodes is {deltaM}, which is change of {abs(float(deltaM)) * 100 / m}%\")\n",
    "\n",
    "plotDegFrequency(ER, xscale = \"linear\", yscale = \"linear\")\n",
    "plotDegFrequency(ER, xscale = \"log\", yscale = \"log\")"
   ]
  },
  {
   "cell_type": "code",
   "execution_count": 102,
   "id": "53ff03d0",
   "metadata": {},
   "outputs": [
    {
     "name": "stdout",
     "output_type": "stream",
     "text": [
      "Max number of edges: 1.0\n",
      "Difference in number of nodes is 0, which is change of 0.0%\n"
     ]
    },
    {
     "data": {
      "image/png": "[encoded data removed]",
      "text/plain": [
       "<Figure size 432x288 with 1 Axes>"
      ]
     },
     "metadata": {
      "needs_background": "light"
     },
     "output_type": "display_data"
    },
    {
     "data": {
      "image/png": "[encoded data removed]",
      "text/plain": [
       "<Figure size 432x288 with 1 Axes>"
      ]
     },
     "metadata": {
      "needs_background": "light"
     },
     "output_type": "display_data"
    }
   ],
   "source": [
    "# Erdos-Renyi network for SNetT\n",
    "n = SNetT.number_of_nodes()\n",
    "m = SNetT.number_of_edges()\n",
    "p = (2 * float(m)) / (n * (n - 1))\n",
    "print(\"Max number of edges: \" + str(p))\n",
    "\n",
    "ER = nx.erdos_renyi_graph(n, p)\n",
    "\n",
    "deltaM = m - ER.number_of_edges()\n",
    "print(f\"Difference in number of nodes is {deltaM}, which is change of {abs(float(deltaM)) * 100 / m}%\")\n",
    "\n",
    "plotDegFrequency(ER, xscale = \"linear\", yscale = \"linear\")\n",
    "plotDegFrequency(ER, xscale = \"log\", yscale = \"log\")"
   ]
  },
  {
   "cell_type": "code",
   "execution_count": 103,
   "id": "51a25bfa",
   "metadata": {},
   "outputs": [
    {
     "name": "stdout",
     "output_type": "stream",
     "text": [
      "Max number of edges: 0.0887325932550644\n",
      "Difference in number of nodes is 28, which is change of 0.07817516821621018%\n"
     ]
    },
    {
     "data": {
      "image/png": "[encoded data removed]",
      "text/plain": [
       "<Figure size 432x288 with 1 Axes>"
      ]
     },
     "metadata": {
      "needs_background": "light"
     },
     "output_type": "display_data"
    },
    {
     "data": {
      "image/png": "[encoded data removed]",
      "text/plain": [
       "<Figure size 432x288 with 1 Axes>"
      ]
     },
     "metadata": {
      "needs_background": "light"
     },
     "output_type": "display_data"
    }
   ],
   "source": [
    "# Erdos-Renyi network for SNetClean\n",
    "n = SNetClean.number_of_nodes()\n",
    "m = SNetClean.number_of_edges()\n",
    "p = (2 * float(m)) / (n * (n - 1))\n",
    "print(\"Max number of edges: \" + str(p))\n",
    "\n",
    "ER = nx.erdos_renyi_graph(n, p)\n",
    "\n",
    "deltaM = m - ER.number_of_edges()\n",
    "print(f\"Difference in number of nodes is {deltaM}, which is change of {abs(float(deltaM)) * 100 / m}%\")\n",
    "\n",
    "plotDegFrequency(ER, xscale = \"linear\", yscale = \"linear\")\n",
    "plotDegFrequency(ER, xscale = \"log\", yscale = \"log\")"
   ]
  },
  {
   "cell_type": "code",
   "execution_count": 115,
   "id": "2080e750",
   "metadata": {},
   "outputs": [
    {
     "data": {
      "image/png": "[encoded data removed]",
      "text/plain": [
       "<Figure size 432x288 with 1 Axes>"
      ]
     },
     "metadata": {
      "needs_background": "light"
     },
     "output_type": "display_data"
    },
    {
     "name": "stdout",
     "output_type": "stream",
     "text": [
      "Calculating best minimal value for power law fit\n",
      "xmin progress: 00%\r",
      "xmin progress: 00%\r",
      "xmin progress: 00%\r",
      "xmin progress: 01%\r",
      "xmin progress: 01%\r",
      "xmin progress: 02%\r",
      "xmin progress: 02%\r",
      "xmin progress: 02%\r",
      "xmin progress: 03%\r",
      "xmin progress: 03%\r",
      "xmin progress: 04%\r",
      "xmin progress: 04%\r",
      "xmin progress: 04%\r",
      "xmin progress: 05%\r",
      "xmin progress: 05%\r",
      "xmin progress: 06%\r",
      "xmin progress: 06%\r",
      "xmin progress: 06%\r",
      "xmin progress: 07%\r",
      "xmin progress: 07%\r",
      "xmin progress: 08%\r",
      "xmin progress: 08%\r",
      "xmin progress: 09%\r",
      "xmin progress: 09%\r",
      "xmin progress: 09%\r",
      "xmin progress: 10%\r",
      "xmin progress: 10%\r",
      "xmin progress: 11%\r",
      "xmin progress: 11%\r",
      "xmin progress: 11%\r",
      "xmin progress: 12%\r",
      "xmin progress: 12%\r",
      "xmin progress: 13%\r",
      "xmin progress: 13%\r",
      "xmin progress: 13%\r",
      "xmin progress: 14%\r",
      "xmin progress: 14%\r",
      "xmin progress: 15%\r",
      "xmin progress: 15%\r",
      "xmin progress: 15%\r",
      "xmin progress: 16%\r",
      "xmin progress: 16%\r",
      "xmin progress: 17%\r",
      "xmin progress: 17%\r",
      "xmin progress: 18%\r",
      "xmin progress: 18%\r",
      "xmin progress: 18%\r",
      "xmin progress: 19%\r",
      "xmin progress: 19%\r",
      "xmin progress: 20%\r",
      "xmin progress: 20%\r",
      "xmin progress: 20%\r",
      "xmin progress: 21%\r",
      "xmin progress: 21%\r",
      "xmin progress: 22%\r",
      "xmin progress: 22%\r",
      "xmin progress: 22%\r",
      "xmin progress: 23%\r",
      "xmin progress: 23%\r",
      "xmin progress: 24%\r",
      "xmin progress: 24%\r",
      "xmin progress: 25%\r",
      "xmin progress: 25%\r",
      "xmin progress: 25%\r",
      "xmin progress: 26%\r",
      "xmin progress: 26%\r",
      "xmin progress: 27%\r",
      "xmin progress: 27%\r",
      "xmin progress: 27%\r",
      "xmin progress: 28%\r",
      "xmin progress: 28%\r",
      "xmin progress: 29%\r",
      "xmin progress: 29%\r",
      "xmin progress: 29%\r",
      "xmin progress: 30%\r",
      "xmin progress: 30%\r",
      "xmin progress: 31%\r",
      "xmin progress: 31%\r",
      "xmin progress: 31%\r",
      "xmin progress: 32%\r",
      "xmin progress: 32%\r",
      "xmin progress: 33%\r",
      "xmin progress: 33%\r",
      "xmin progress: 34%\r",
      "xmin progress: 34%\r",
      "xmin progress: 34%\r",
      "xmin progress: 35%\r",
      "xmin progress: 35%\r",
      "xmin progress: 36%\r",
      "xmin progress: 36%\r",
      "xmin progress: 36%\r",
      "xmin progress: 37%\r",
      "xmin progress: 37%\r",
      "xmin progress: 38%\r",
      "xmin progress: 38%\r",
      "xmin progress: 38%\r",
      "xmin progress: 39%\r",
      "xmin progress: 39%\r",
      "xmin progress: 40%\r",
      "xmin progress: 40%\r",
      "xmin progress: 40%\r",
      "xmin progress: 41%\r",
      "xmin progress: 41%\r",
      "xmin progress: 42%\r",
      "xmin progress: 42%\r",
      "xmin progress: 43%\r",
      "xmin progress: 43%\r",
      "xmin progress: 43%\r",
      "xmin progress: 44%\r",
      "xmin progress: 44%\r",
      "xmin progress: 45%\r",
      "xmin progress: 45%\r",
      "xmin progress: 45%\r",
      "xmin progress: 46%\r",
      "xmin progress: 46%\r",
      "xmin progress: 47%\r",
      "xmin progress: 47%\r",
      "xmin progress: 47%\r",
      "xmin progress: 48%\r",
      "xmin progress: 48%\r",
      "xmin progress: 49%\r",
      "xmin progress: 49%\r",
      "xmin progress: 50%\r",
      "xmin progress: 50%\r",
      "xmin progress: 50%\r",
      "xmin progress: 51%\r",
      "xmin progress: 51%\r",
      "xmin progress: 52%\r",
      "xmin progress: 52%\r",
      "xmin progress: 52%\r",
      "xmin progress: 53%\r",
      "xmin progress: 53%\r",
      "xmin progress: 54%\r",
      "xmin progress: 54%\r",
      "xmin progress: 54%\r",
      "xmin progress: 55%\r",
      "xmin progress: 55%\r",
      "xmin progress: 56%\r",
      "xmin progress: 56%\r",
      "xmin progress: 56%\r",
      "xmin progress: 57%\r",
      "xmin progress: 57%\r",
      "xmin progress: 58%\r",
      "xmin progress: 58%\r",
      "xmin progress: 59%\r",
      "xmin progress: 59%\r",
      "xmin progress: 59%\r",
      "xmin progress: 60%\r",
      "xmin progress: 60%\r",
      "xmin progress: 61%\r",
      "xmin progress: 61%\r",
      "xmin progress: 61%\r",
      "xmin progress: 62%\r",
      "xmin progress: 62%\r",
      "xmin progress: 63%\r",
      "xmin progress: 63%\r",
      "xmin progress: 63%\r",
      "xmin progress: 64%\r",
      "xmin progress: 64%\r",
      "xmin progress: 65%\r",
      "xmin progress: 65%\r",
      "xmin progress: 65%\r",
      "xmin progress: 66%\r",
      "xmin progress: 66%\r",
      "xmin progress: 67%\r",
      "xmin progress: 67%\r",
      "xmin progress: 68%\r",
      "xmin progress: 68%\r",
      "xmin progress: 68%\r",
      "xmin progress: 69%\r",
      "xmin progress: 69%\r",
      "xmin progress: 70%\r",
      "xmin progress: 70%\r",
      "xmin progress: 70%\r",
      "xmin progress: 71%\r",
      "xmin progress: 71%\r",
      "xmin progress: 72%\r",
      "xmin progress: 72%\r",
      "xmin progress: 72%\r",
      "xmin progress: 73%\r",
      "xmin progress: 73%\r",
      "xmin progress: 74%\r",
      "xmin progress: 74%\r",
      "xmin progress: 75%\r",
      "xmin progress: 75%\r",
      "xmin progress: 75%\r",
      "xmin progress: 76%\r",
      "xmin progress: 76%\r",
      "xmin progress: 77%\r",
      "xmin progress: 77%\r",
      "xmin progress: 77%\r",
      "xmin progress: 78%\r",
      "xmin progress: 78%\r",
      "xmin progress: 79%\r",
      "xmin progress: 79%\r",
      "xmin progress: 79%\r",
      "xmin progress: 80%\r",
      "xmin progress: 80%\r",
      "xmin progress: 81%\r",
      "xmin progress: 81%\r",
      "xmin progress: 81%\r",
      "xmin progress: 82%\r",
      "xmin progress: 82%\r",
      "xmin progress: 83%\r",
      "xmin progress: 83%\r",
      "xmin progress: 84%\r",
      "xmin progress: 84%\r",
      "xmin progress: 84%\r",
      "xmin progress: 85%\r",
      "xmin progress: 85%\r",
      "xmin progress: 86%\r",
      "xmin progress: 86%\r",
      "xmin progress: 86%\r",
      "xmin progress: 87%\r",
      "xmin progress: 87%\r",
      "xmin progress: 88%\r",
      "xmin progress: 88%\r",
      "xmin progress: 88%\r",
      "xmin progress: 89%\r",
      "xmin progress: 89%\r",
      "xmin progress: 90%\r",
      "xmin progress: 90%\r",
      "xmin progress: 90%\r",
      "xmin progress: 91%\r",
      "xmin progress: 91%\r",
      "xmin progress: 92%\r",
      "xmin progress: 92%\r",
      "xmin progress: 93%\r",
      "xmin progress: 93%\r",
      "xmin progress: 93%\r",
      "xmin progress: 94%\r",
      "xmin progress: 94%\r",
      "xmin progress: 95%\r",
      "xmin progress: 95%\r",
      "xmin progress: 95%\r",
      "xmin progress: 96%\r",
      "xmin progress: 96%\r",
      "xmin progress: 97%\r",
      "xmin progress: 97%\r",
      "xmin progress: 97%\r",
      "xmin progress: 98%\r",
      "xmin progress: 98%\r",
      "xmin progress: 99%\r",
      "xmin progress: 99%\r",
      "3.7753962436316573\n",
      "309.0\n",
      "0.3613258144986748\n",
      "Loglikelihood ratio: -2.3395251901702485\n",
      "Exponential better than power law\n",
      "Statistical significance: 0.10338597721221364\n",
      "Loglikelihood ratio: -2.181778122686975\n",
      "Truncated PL better than power law\n",
      "Statistical significance: 0.036715582901760024\n"
     ]
    },
    {
     "name": "stderr",
     "output_type": "stream",
     "text": [
      "Assuming nested distributions\n"
     ]
    }
   ],
   "source": [
    "# Power Law for SNet\n",
    "degreeSequence = sorted([d for n, d in SNet.degree()], reverse = True)\n",
    "degreeCount = Counter(degreeSequence)\n",
    "deg, cnt = zip(*degreeCount.items())\n",
    "\n",
    "maxDeg = max(deg)\n",
    "\n",
    "values, base = np.histogram(deg, bins = maxDeg)\n",
    "\n",
    "cumulative = np.cumsum(values)\n",
    "\n",
    "plt.plot(base[:-1], [float(x) / len(subreddits) for x in len(subreddits) - cumulative], c = \"blue\")\n",
    "\n",
    "plt.show()\n",
    "\n",
    "results = pl.Fit(degreeSequence)\n",
    "\n",
    "#print(results.supported_distributions)\n",
    "\n",
    "print(results.power_law.alpha)\n",
    "print(results.power_law.xmin)\n",
    "print(results.power_law.sigma)\n",
    "R, p = results.distribution_compare(\"power_law\", \"exponential\")\n",
    "print(f\"Loglikelihood ratio: {R}\")\n",
    "print(\"Exponential better than power law\" if R < 0 else \"Power law better than exponential\")\n",
    "print(f\"Statistical significance: {p}\")\n",
    "R, p = results.distribution_compare(\"power_law\", \"truncated_power_law\")\n",
    "print(f\"Loglikelihood ratio: {R}\")\n",
    "print(\"Truncated PL better than power law\" if R < 0 else \"Power law better than truncated PL\")\n",
    "print(f\"Statistical significance: {p}\")"
   ]
  },
  {
   "cell_type": "code",
   "execution_count": 116,
   "id": "508d2ce8",
   "metadata": {},
   "outputs": [
    {
     "data": {
      "image/png": "[encoded data removed]",
      "text/plain": [
       "<Figure size 432x288 with 1 Axes>"
      ]
     },
     "metadata": {
      "needs_background": "light"
     },
     "output_type": "display_data"
    },
    {
     "name": "stdout",
     "output_type": "stream",
     "text": [
      "Calculating best minimal value for power law fit\n",
      "nan\n",
      "nan\n",
      "nan\n",
      "Loglikelihood ratio: 0\n",
      "Power law better than exponential\n",
      "Statistical significance: 1\n",
      "Loglikelihood ratio: 0\n",
      "Power law better than truncated PL\n",
      "Statistical significance: 1\n"
     ]
    },
    {
     "name": "stderr",
     "output_type": "stream",
     "text": [
      "Less than 2 unique data values left after xmin and xmax options! Cannot fit. Returning nans.\n",
      "D:\\Anaconda\\lib\\site-packages\\powerlaw.py:1151: RuntimeWarning: invalid value encountered in double_scalars\n",
      "  self.alpha = 1 + (self.n / sum(log(data/self.xmin)))\n",
      "D:\\Anaconda\\lib\\site-packages\\powerlaw.py:1170: RuntimeWarning: invalid value encountered in double_scalars\n",
      "  return 1 + len(data)/sum(log(data / (self.xmin)))\n",
      "Not enough data. Returning nan\n",
      "Not enough data. Returning nan\n",
      "C:\\Users\\rzlat\\AppData\\Roaming\\Python\\Python39\\site-packages\\numpy\\core\\fromnumeric.py:3474: RuntimeWarning: Mean of empty slice.\n",
      "  return _methods._mean(a, axis=axis, dtype=dtype,\n",
      "C:\\Users\\rzlat\\AppData\\Roaming\\Python\\Python39\\site-packages\\numpy\\core\\_methods.py:189: RuntimeWarning: invalid value encountered in double_scalars\n",
      "  ret = ret.dtype.type(ret / rcount)\n",
      "No valid fits found.\n",
      "Not enough data. Returning nan\n",
      "Assuming nested distributions\n",
      "D:\\Anaconda\\lib\\site-packages\\powerlaw.py:1383: RuntimeWarning: invalid value encountered in double_scalars\n",
      "  alpha = 1 + len(data)/sum( log( data / (self.xmin) ))\n",
      "No valid fits found.\n",
      "Not enough data. Returning nan\n"
     ]
    }
   ],
   "source": [
    "# Power Law for SNetT\n",
    "degreeSequence = sorted([d for n, d in SNetT.degree()], reverse = True)\n",
    "degreeCount = Counter(degreeSequence)\n",
    "deg, cnt = zip(*degreeCount.items())\n",
    "\n",
    "maxDeg = max(deg)\n",
    "\n",
    "values, base = np.histogram(deg, bins = maxDeg)\n",
    "\n",
    "cumulative = np.cumsum(values)\n",
    "\n",
    "plt.plot(base[:-1], [float(x) / len(subreddits) for x in len(subreddits) - cumulative], c = \"blue\")\n",
    "\n",
    "plt.show()\n",
    "\n",
    "results = pl.Fit(degreeSequence)\n",
    "\n",
    "#print(results.supported_distributions)\n",
    "\n",
    "print(results.power_law.alpha)\n",
    "print(results.power_law.xmin)\n",
    "print(results.power_law.sigma)\n",
    "R, p = results.distribution_compare(\"power_law\", \"exponential\")\n",
    "print(f\"Loglikelihood ratio: {R}\")\n",
    "print(\"Exponential better than power law\" if R < 0 else \"Power law better than exponential\")\n",
    "print(f\"Statistical significance: {p}\")\n",
    "R, p = results.distribution_compare(\"power_law\", \"truncated_power_law\")\n",
    "print(f\"Loglikelihood ratio: {R}\")\n",
    "print(\"Truncated PL better than power law\" if R < 0 else \"Power law better than truncated PL\")\n",
    "print(f\"Statistical significance: {p}\")"
   ]
  },
  {
   "cell_type": "code",
   "execution_count": 117,
   "id": "f1bdae63",
   "metadata": {},
   "outputs": [
    {
     "data": {
      "image/png": "[encoded data removed]",
      "text/plain": [
       "<Figure size 432x288 with 1 Axes>"
      ]
     },
     "metadata": {
      "needs_background": "light"
     },
     "output_type": "display_data"
    },
    {
     "name": "stdout",
     "output_type": "stream",
     "text": [
      "Calculating best minimal value for power law fit\n",
      "3.7753962436316573\n",
      "309.0\n",
      "0.3613258144986748\n",
      "Loglikelihood ratio: -2.3395251901702485\n",
      "Exponential better than power law\n",
      "Statistical significance: 0.10338597721221364\n",
      "Loglikelihood ratio: -2.181778122686975\n",
      "Truncated PL better than power law\n",
      "Statistical significance: 0.036715582901760024\n"
     ]
    },
    {
     "name": "stderr",
     "output_type": "stream",
     "text": [
      "Assuming nested distributions\n"
     ]
    }
   ],
   "source": [
    "# Power Law for SNetClean\n",
    "degreeSequence = sorted([d for n, d in SNetClean.degree()], reverse = True)\n",
    "degreeCount = Counter(degreeSequence)\n",
    "deg, cnt = zip(*degreeCount.items())\n",
    "\n",
    "maxDeg = max(deg)\n",
    "\n",
    "values, base = np.histogram(deg, bins = maxDeg)\n",
    "\n",
    "cumulative = np.cumsum(values)\n",
    "\n",
    "plt.plot(base[:-1], [float(x) / len(subreddits) for x in len(subreddits) - cumulative], c = \"blue\")\n",
    "\n",
    "plt.show()\n",
    "\n",
    "results = pl.Fit(degreeSequence)\n",
    "\n",
    "#print(results.supported_distributions)\n",
    "\n",
    "print(results.power_law.alpha)\n",
    "print(results.power_law.xmin)\n",
    "print(results.power_law.sigma)\n",
    "R, p = results.distribution_compare(\"power_law\", \"exponential\")\n",
    "print(f\"Loglikelihood ratio: {R}\")\n",
    "print(\"Exponential better than power law\" if R < 0 else \"Power law better than exponential\")\n",
    "print(f\"Statistical significance: {p}\")\n",
    "R, p = results.distribution_compare(\"power_law\", \"truncated_power_law\")\n",
    "print(f\"Loglikelihood ratio: {R}\")\n",
    "print(\"Truncated PL better than power law\" if R < 0 else \"Power law better than truncated PL\")\n",
    "print(f\"Statistical significance: {p}\")"
   ]
  },
  {
   "cell_type": "code",
   "execution_count": 122,
   "id": "6a97c626",
   "metadata": {},
   "outputs": [
    {
     "name": "stdout",
     "output_type": "stream",
     "text": [
      "-0.586591489163198\n",
      "-0.007596196763209419\n",
      "Non-similar\n"
     ]
    }
   ],
   "source": [
    "# Assortativity for SNet\n",
    "r1 = nx.degree_assortativity_coefficient(SNet)\n",
    "r2 = nx.degree_assortativity_coefficient(SNet, weight = \"weight\")\n",
    "\n",
    "print(r1)\n",
    "print(r2)\n",
    "print(\"Non-similar\" if r1 < 0 else \"Similar\")"
   ]
  },
  {
   "cell_type": "code",
   "execution_count": 123,
   "id": "a42ea4c5",
   "metadata": {},
   "outputs": [
    {
     "name": "stdout",
     "output_type": "stream",
     "text": [
      "nan\n",
      "0.00010159530135191904\n",
      "Similar\n"
     ]
    }
   ],
   "source": [
    "# Assortativity for SNetT\n",
    "r1 = nx.degree_assortativity_coefficient(SNetT)\n",
    "r2 = nx.degree_assortativity_coefficient(SNetT, weight = \"weight\")\n",
    "\n",
    "print(r1)\n",
    "print(r2)\n",
    "print(\"Non-similar\" if r1 < 0 else \"Similar\")"
   ]
  },
  {
   "cell_type": "code",
   "execution_count": 124,
   "id": "b98b0e4a",
   "metadata": {},
   "outputs": [
    {
     "name": "stdout",
     "output_type": "stream",
     "text": [
      "-0.586591489163198\n",
      "-0.007596196763209419\n",
      "Non-similar\n"
     ]
    }
   ],
   "source": [
    "# Assortativity for SNetT\n",
    "r1 = nx.degree_assortativity_coefficient(SNetClean)\n",
    "r2 = nx.degree_assortativity_coefficient(SNetClean, weight = \"weight\")\n",
    "\n",
    "print(r1)\n",
    "print(r2)\n",
    "print(\"Non-similar\" if r1 < 0 else \"Similar\")"
   ]
  },
  {
   "cell_type": "code",
   "execution_count": 126,
   "id": "d194e2d1",
   "metadata": {},
   "outputs": [
    {
     "name": "stdout",
     "output_type": "stream",
     "text": [
      "Max local cc: 0.0033243695810638973\n",
      "Average cc: 0.8449317408549903\n",
      "Local clustering coefficients that are nonzero: \n",
      "               id        cc\n",
      "531        arabic  0.000038\n",
      "584         Infos  0.000089\n",
      "420    ChileRemix  0.000150\n",
      "191      dior_lei  0.000184\n",
      "371  Kaede_Rukawa  0.000218\n",
      "..            ...       ...\n",
      "93     geospatial  0.002687\n",
      "308         hacks  0.002783\n",
      "720  philadelphia  0.003035\n",
      "333            sv  0.003125\n",
      "220    formulaone  0.003324\n",
      "\n",
      "[831 rows x 2 columns]\n"
     ]
    }
   ],
   "source": [
    "# Clustering coefficient for SNet\n",
    "subreddit, clusteringCoef = zip(*nx.clustering(SNet, weight = \"weight\").items())\n",
    "\n",
    "nonzero = [(sub, cc) for sub, cc in zip(subreddit, clusteringCoef) if cc > 0]\n",
    "\n",
    "df = pd.DataFrame(nonzero, columns = [\"id\", \"cc\"])\n",
    "df.sort_values(\"cc\", inplace = True)\n",
    "\n",
    "maxLocalClusteringCoef = max(clusteringCoef)\n",
    "avgClusteringCoef = nx.average_clustering(SNet)\n",
    "\n",
    "print(f\"Max local cc: {maxLocalClusteringCoef}\")\n",
    "print(f\"Average cc: {avgClusteringCoef}\")\n",
    "print(\"Local clustering coefficients that are nonzero: \")\n",
    "print(df)"
   ]
  },
  {
   "cell_type": "code",
   "execution_count": 127,
   "id": "ce90be11",
   "metadata": {},
   "outputs": [
    {
     "name": "stdout",
     "output_type": "stream",
     "text": [
      "Max local cc: 0.14465726073078275\n",
      "Average cc: 0.8449317408549903\n",
      "Local clustering coefficients that are nonzero: \n",
      "               id        cc\n",
      "32           joel  0.006683\n",
      "38          ideas  0.006698\n",
      "34           guns  0.014702\n",
      "36       software  0.014724\n",
      "35    photography  0.021563\n",
      "26         canada  0.021892\n",
      "37        history  0.023549\n",
      "11         netsec  0.027870\n",
      "27           math  0.028541\n",
      "12     philosophy  0.030092\n",
      "31         cogsci  0.032778\n",
      "33         Health  0.034204\n",
      "29          scifi  0.034427\n",
      "23           news  0.040697\n",
      "17          linux  0.041054\n",
      "30         bestof  0.044059\n",
      "6           obama  0.052194\n",
      "18           geek  0.059540\n",
      "24    environment  0.060554\n",
      "21        gadgets  0.061357\n",
      "13         videos  0.062750\n",
      "22           nsfw  0.065021\n",
      "28      Economics  0.065415\n",
      "20         comics  0.068128\n",
      "10      AskReddit  0.068848\n",
      "25        atheism  0.071358\n",
      "19         gaming  0.083993\n",
      "14        offbeat  0.086100\n",
      "4        business  0.102201\n",
      "3     programming  0.103866\n",
      "16  entertainment  0.111189\n",
      "2       worldnews  0.114678\n",
      "9             WTF  0.114919\n",
      "8      technology  0.116599\n",
      "7         science  0.119656\n",
      "15          funny  0.120469\n",
      "1            pics  0.123896\n",
      "5        politics  0.127979\n",
      "0      reddit.com  0.144657\n"
     ]
    }
   ],
   "source": [
    "# Clustering coefficient for SNetT\n",
    "subreddit, clusteringCoef = zip(*nx.clustering(SNetT, weight = \"weight\").items())\n",
    "\n",
    "nonzero = [(sub, cc) for sub, cc in zip(subreddit, clusteringCoef) if cc > 0]\n",
    "\n",
    "df = pd.DataFrame(nonzero, columns = [\"id\", \"cc\"])\n",
    "df.sort_values(\"cc\", inplace = True)\n",
    "\n",
    "maxLocalClusteringCoef = max(clusteringCoef)\n",
    "avgClusteringCoef = nx.average_clustering(SNet)\n",
    "\n",
    "print(f\"Max local cc: {maxLocalClusteringCoef}\")\n",
    "print(f\"Average cc: {avgClusteringCoef}\")\n",
    "print(\"Local clustering coefficients that are nonzero: \")\n",
    "print(df)"
   ]
  },
  {
   "cell_type": "code",
   "execution_count": 129,
   "id": "713a6074",
   "metadata": {},
   "outputs": [
    {
     "name": "stdout",
     "output_type": "stream",
     "text": [
      "Max local cc: 0.0033243695810638973\n",
      "Average cc: 0.8449317408549903\n",
      "Local clustering coefficients that are nonzero: \n",
      "               id        cc\n",
      "531        arabic  0.000038\n",
      "584         Infos  0.000089\n",
      "420    ChileRemix  0.000150\n",
      "191      dior_lei  0.000184\n",
      "371  Kaede_Rukawa  0.000218\n",
      "..            ...       ...\n",
      "93     geospatial  0.002687\n",
      "308         hacks  0.002783\n",
      "720  philadelphia  0.003035\n",
      "333            sv  0.003125\n",
      "220    formulaone  0.003324\n",
      "\n",
      "[831 rows x 2 columns]\n"
     ]
    }
   ],
   "source": [
    "# Clustering coefficient for SNetClean\n",
    "subreddit, clusteringCoef = zip(*nx.clustering(SNetClean, weight = \"weight\").items())\n",
    "\n",
    "nonzero = [(sub, cc) for sub, cc in zip(subreddit, clusteringCoef) if cc > 0]\n",
    "\n",
    "df = pd.DataFrame(nonzero, columns = [\"id\", \"cc\"])\n",
    "df.sort_values(\"cc\", inplace = True)\n",
    "\n",
    "maxLocalClusteringCoef = max(clusteringCoef)\n",
    "avgClusteringCoef = nx.average_clustering(SNet)\n",
    "\n",
    "print(f\"Max local cc: {maxLocalClusteringCoef}\")\n",
    "print(f\"Average cc: {avgClusteringCoef}\")\n",
    "print(\"Local clustering coefficients that are nonzero: \")\n",
    "print(df)"
   ]
  },
  {
   "cell_type": "code",
   "execution_count": null,
   "id": "2057bec0",
   "metadata": {},
   "outputs": [],
   "source": []
  }
 ],
 "metadata": {
  "kernelspec": {
   "display_name": "Python 3 (ipykernel)",
   "language": "python",
   "name": "python3"
  },
  "language_info": {
   "codemirror_mode": {
    "name": "ipython",
    "version": 3
   },
   "file_extension": ".py",
   "mimetype": "text/x-python",
   "name": "python",
   "nbconvert_exporter": "python",
   "pygments_lexer": "ipython3",
   "version": "3.9.12"
  }
 },
 "nbformat": 4,
 "nbformat_minor": 5
}
