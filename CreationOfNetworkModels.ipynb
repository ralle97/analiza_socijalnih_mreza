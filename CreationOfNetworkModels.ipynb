{
 "cells": [
  {
   "cell_type": "code",
   "execution_count": 127,
   "id": "041d5a58",
   "metadata": {},
   "outputs": [],
   "source": [
    "import networkx as nx\n",
    "from networkx.algorithms import community as com\n",
    "import pickle\n",
    "import pandas as pd\n",
    "import matplotlib.pyplot as plt\n",
    "import numpy as np\n",
    "import powerlaw as pl\n",
    "from collections import Counter\n",
    "from operator import itemgetter\n",
    "import scipy.stats as stats"
   ]
  },
  {
   "cell_type": "code",
   "execution_count": 128,
   "id": "bc65a0e9",
   "metadata": {},
   "outputs": [],
   "source": [
    "#%run StatisticalDataAnalysis.ipynb"
   ]
  },
  {
   "cell_type": "code",
   "execution_count": 129,
   "id": "7a351527",
   "metadata": {},
   "outputs": [],
   "source": [
    "#subDF = pd.DataFrame(data=subDict)\n",
    "\n",
    "#with open(\"data/subredditsData\", \"wb+\") as file:\n",
    "#    pickle.dump(subDF, file)"
   ]
  },
  {
   "cell_type": "code",
   "execution_count": 130,
   "id": "5ad81a96",
   "metadata": {},
   "outputs": [],
   "source": [
    "#usersDF = pd.DataFrame(data=usersDict)\n",
    "\n",
    "#with open(\"data/usersData\", \"wb+\") as file:\n",
    "#    pickle.dump(usersDF, file)"
   ]
  },
  {
   "cell_type": "code",
   "execution_count": 131,
   "id": "ddd71542",
   "metadata": {},
   "outputs": [],
   "source": [
    "#submissionsDF = pd.DataFrame(data=submissionDict)\n",
    "\n",
    "#with open(\"data/submissionsData\", \"wb+\") as file:\n",
    "#    pickle.dump(submissionsDF, file)"
   ]
  },
  {
   "cell_type": "code",
   "execution_count": 132,
   "id": "2fcc463c",
   "metadata": {},
   "outputs": [],
   "source": [
    "with open(\"data/subredditsData\", 'rb') as file:\n",
    "    subDF = pickle.load(file)"
   ]
  },
  {
   "cell_type": "code",
   "execution_count": 133,
   "id": "b3e1847e",
   "metadata": {},
   "outputs": [],
   "source": [
    "with open(\"data/usersData\", 'rb') as file:\n",
    "    usersDF = pickle.load(file)"
   ]
  },
  {
   "cell_type": "code",
   "execution_count": 134,
   "id": "9174486c",
   "metadata": {},
   "outputs": [],
   "source": [
    "#with open(\"data/submissionsData\", 'rb') as file:\n",
    "#    submissionsDF = pickle.load(file)"
   ]
  },
  {
   "cell_type": "code",
   "execution_count": 135,
   "id": "f8db9cea",
   "metadata": {},
   "outputs": [],
   "source": [
    "for index in subDF:\n",
    "    subDF[index]['users'] = list(filter(lambda a: a != '[deleted]', subDF[index]['users']))"
   ]
  },
  {
   "cell_type": "code",
   "execution_count": 136,
   "id": "2626b999",
   "metadata": {},
   "outputs": [],
   "source": [
    "subreddits = set()\n",
    "for _, item in subDF.iteritems():\n",
    "    subreddits.add(item['subreddit'])"
   ]
  },
  {
   "cell_type": "code",
   "execution_count": 137,
   "id": "ebda6512",
   "metadata": {},
   "outputs": [],
   "source": [
    "SNet = nx.Graph()\n",
    "SNet.add_nodes_from(subreddits)"
   ]
  },
  {
   "cell_type": "code",
   "execution_count": 138,
   "id": "0c14a745",
   "metadata": {},
   "outputs": [],
   "source": [
    "for _, item in usersDF.iteritems():\n",
    "    if len(item['subreddit_ids']) > 1:\n",
    "        for i in range(0, len(item['subreddit_ids']) - 1):\n",
    "            for j in range(i + 1, len(item['subreddit_ids'])):\n",
    "                if (subDF[item['subreddit_ids'][i]]['subreddit'], subDF[item['subreddit_ids'][j]]['subreddit']) in SNet.edges:\n",
    "                    SNet.edges[subDF[item['subreddit_ids'][i]]['subreddit'], subDF[item['subreddit_ids'][j]]['subreddit']]['weight'] += 1\n",
    "                else:\n",
    "                    SNet.add_edge(subDF[item['subreddit_ids'][i]]['subreddit'], subDF[item['subreddit_ids'][j]]['subreddit'], weight=1)"
   ]
  },
  {
   "cell_type": "code",
   "execution_count": 139,
   "id": "54c1cd46",
   "metadata": {},
   "outputs": [],
   "source": [
    "#print(usersDF.iat[2, 1])"
   ]
  },
  {
   "cell_type": "code",
   "execution_count": 140,
   "id": "0b6bde9b",
   "metadata": {},
   "outputs": [],
   "source": [
    "#for _, item in usersDF.iteritems():\n",
    "#    print(item['subreddit_ids'])"
   ]
  },
  {
   "cell_type": "code",
   "execution_count": 141,
   "id": "45e2631e",
   "metadata": {},
   "outputs": [],
   "source": [
    "outputPath = \"models/SNet_count_aggregation.gml\"\n",
    "\n",
    "nx.write_gml(SNet, outputPath)"
   ]
  },
  {
   "cell_type": "code",
   "execution_count": 142,
   "id": "1495047b",
   "metadata": {},
   "outputs": [],
   "source": [
    "SNetTSubreddits = ['reddit.com', 'pics', 'worldnews', 'programming', 'business', 'politics', 'obama', 'science',\n",
    "                   'technology', 'WTF', 'AskReddit', 'netsec', 'philosophy', 'videos', 'offbeat', 'funny', 'entertainment',\n",
    "                   'linux', 'geek', 'gaming', 'comics', 'gadgets', 'nsfw', 'news', 'environment', 'atheism', 'canada',\n",
    "                   'math', 'Economics', 'scifi', 'bestof', 'cogsci', 'joel', 'Health', 'guns', 'photography', 'software',\n",
    "                   'history', 'ideas']"
   ]
  },
  {
   "cell_type": "code",
   "execution_count": 143,
   "id": "55f0154c",
   "metadata": {},
   "outputs": [],
   "source": [
    "#for id, item in subDF.items():\n",
    "#    print(item['subreddit'])"
   ]
  },
  {
   "cell_type": "code",
   "execution_count": 144,
   "id": "c2fb1e3b",
   "metadata": {},
   "outputs": [],
   "source": [
    "SNetT = nx.Graph()\n",
    "SNetT.add_nodes_from(SNetTSubreddits)"
   ]
  },
  {
   "cell_type": "code",
   "execution_count": 145,
   "id": "5dea55b0",
   "metadata": {},
   "outputs": [],
   "source": [
    "for _, item in usersDF.iteritems():\n",
    "    if len(item['subreddit_ids']) > 1:\n",
    "        for i in range(0, len(item['subreddit_ids']) - 1):\n",
    "            for j in range(i + 1, len(item['subreddit_ids'])):\n",
    "                if subDF[item['subreddit_ids'][i]]['subreddit'] in SNetTSubreddits and subDF[item['subreddit_ids'][j]]['subreddit'] in SNetTSubreddits:\n",
    "                    if (subDF[item['subreddit_ids'][i]]['subreddit'], subDF[item['subreddit_ids'][j]]['subreddit']) in SNetT.edges:\n",
    "                        SNetT.edges[subDF[item['subreddit_ids'][i]]['subreddit'], subDF[item['subreddit_ids'][j]]['subreddit']]['weight'] += 1\n",
    "                    else:\n",
    "                        SNetT.add_edge(subDF[item['subreddit_ids'][i]]['subreddit'], subDF[item['subreddit_ids'][j]]['subreddit'], weight=1)"
   ]
  },
  {
   "cell_type": "code",
   "execution_count": 146,
   "id": "68b173f1",
   "metadata": {},
   "outputs": [],
   "source": [
    "outputPath = \"models/SNetT_count_aggregation.gml\"\n",
    "\n",
    "nx.write_gml(SNetT, outputPath)"
   ]
  },
  {
   "cell_type": "code",
   "execution_count": 147,
   "id": "449cfb4f",
   "metadata": {},
   "outputs": [],
   "source": [
    "SNetClean = SNet\n",
    "weightToCut = 4\n",
    "\n",
    "edgesToCut = list(edge[:2] for edge in list(filter(lambda edge: edge[2] < weightToCut, (e for e in SNetClean.edges.data('weight')))))\n",
    "SNetClean.remove_edges_from(edgesToCut)\n",
    "\n",
    "SNetClean.remove_nodes_from(list(nx.isolates(SNetClean)))"
   ]
  },
  {
   "cell_type": "code",
   "execution_count": 148,
   "id": "193c603c",
   "metadata": {},
   "outputs": [],
   "source": [
    "outputPath = \"models/SNet_count_aggregation_clean.gml\"\n",
    "\n",
    "nx.write_gml(SNetClean, outputPath)"
   ]
  },
  {
   "cell_type": "code",
   "execution_count": 149,
   "id": "1d46c90c",
   "metadata": {},
   "outputs": [],
   "source": [
    "#inputPath = \"models/SNet_count_aggregation.gml\"\n",
    "#SNet = nx.Graph(nx.read_gml(inputPath))\n",
    "\n",
    "#inputPath = \"models/SNetT_count_aggregation.gml\"\n",
    "#SNetT = nx.Graph(nx.read_gml(inputPath))\n",
    "\n",
    "#inputPath = \"models/SNet_count_aggregation_clean.gml\"\n",
    "#SNetClean = nx.Graph(nx.read_gml(inputPath))"
   ]
  },
  {
   "cell_type": "code",
   "execution_count": 150,
   "id": "0d330b71",
   "metadata": {},
   "outputs": [],
   "source": [
    "#print(nx.degree_centrality(SNet))\n",
    "#print(nx.eigenvector_centrality(SNet))\n",
    "#print(nx.closeness_centrality(SNet))\n",
    "#print(nx.betweenness_centrality(SNet))\n",
    "#print(nx.average_clustering(SNet))"
   ]
  },
  {
   "cell_type": "code",
   "execution_count": 151,
   "id": "bef83f9d",
   "metadata": {},
   "outputs": [
    {
     "name": "stdout",
     "output_type": "stream",
     "text": [
      "SNet\n",
      "\n",
      "\n",
      "Top10 by degree centrality:\n",
      "reddit.com - 0.9298440979955456\n",
      "pics - 0.8351893095768373\n",
      "politics - 0.8296213808463251\n",
      "technology - 0.809576837416481\n",
      "science - 0.809576837416481\n",
      "funny - 0.8006681514476615\n",
      "worldnews - 0.7951002227171492\n",
      "WTF - 0.7761692650334076\n",
      "entertainment - 0.7483296213808462\n",
      "programming - 0.7483296213808462\n",
      "\n",
      "Top10 by eigenvector centrality:\n",
      "reddit.com - 0.37468496088076786\n",
      "politics - 0.3126706162701183\n",
      "pics - 0.29185798162751475\n",
      "funny - 0.279570181934434\n",
      "science - 0.27305065894525654\n",
      "technology - 0.2639528164261922\n",
      "worldnews - 0.258877366879465\n",
      "WTF - 0.25743286883685207\n",
      "entertainment - 0.2470723919177398\n",
      "programming - 0.2206690638346258\n",
      "\n",
      "Top10 by closeness centrality:\n",
      "reddit.com - 0.9331988041158501\n",
      "pics - 0.8514328136599852\n",
      "politics - 0.8378673424020472\n",
      "technology - 0.8331821568900135\n",
      "funny - 0.8270161464782464\n",
      "science - 0.8247273564049672\n",
      "worldnews - 0.8232085214944608\n",
      "WTF - 0.8097866434266164\n",
      "entertainment - 0.7925571403749863\n",
      "programming - 0.7925571403749863\n",
      "\n",
      "Top10 by betweenness centrality:\n",
      "reddit.com - 0.18961698838939048\n",
      "pics - 0.06578494514416316\n",
      "politics - 0.05803803138997429\n",
      "programming - 0.05124130821839107\n",
      "technology - 0.048776691547416776\n",
      "science - 0.04618256864170918\n",
      "WTF - 0.04590799594437272\n",
      "funny - 0.04584090230761917\n",
      "worldnews - 0.04545237117831334\n",
      "entertainment - 0.035252123823492465\n",
      "\n",
      "0.8449317408549895\n"
     ]
    }
   ],
   "source": [
    "print(\"SNet\\n\")\n",
    "print(\"\\nTop10 by degree centrality:\")\n",
    "for elem in sorted(nx.degree_centrality(SNet).items(), key = lambda item: item[1], reverse=True)[:10]:\n",
    "    print(str(elem[0]) + \" - \" + str(elem[1]))\n",
    "print(\"\\nTop10 by eigenvector centrality:\")\n",
    "for elem in sorted(nx.eigenvector_centrality(SNet, weight = \"weight\").items(), key = lambda item: item[1], reverse=True)[:10]:\n",
    "    print(str(elem[0]) + \" - \" + str(elem[1]))\n",
    "print(\"\\nTop10 by closeness centrality:\")\n",
    "for elem in sorted(nx.closeness_centrality(SNet).items(), key = lambda item: item[1], reverse=True)[:10]:\n",
    "    print(str(elem[0]) + \" - \" + str(elem[1]))\n",
    "print(\"\\nTop10 by betweenness centrality:\")\n",
    "for elem in sorted(nx.betweenness_centrality(SNet).items(), key = lambda item: item[1], reverse=True)[:10]:\n",
    "    print(str(elem[0]) + \" - \" + str(elem[1]))\n",
    "print()\n",
    "print(nx.average_clustering(SNet))"
   ]
  },
  {
   "cell_type": "code",
   "execution_count": 152,
   "id": "48c4e3a3",
   "metadata": {},
   "outputs": [
    {
     "name": "stdout",
     "output_type": "stream",
     "text": [
      "SNetT\n",
      "\n",
      "\n",
      "Top10 by degree centrality:\n",
      "reddit.com - 1.0\n",
      "pics - 1.0\n",
      "worldnews - 1.0\n",
      "programming - 1.0\n",
      "business - 1.0\n",
      "politics - 1.0\n",
      "obama - 1.0\n",
      "science - 1.0\n",
      "technology - 1.0\n",
      "WTF - 1.0\n",
      "\n",
      "Top10 by eigenvector centrality:\n",
      "reddit.com - 0.37979492059977193\n",
      "politics - 0.3167924090789114\n",
      "pics - 0.2953841668422329\n",
      "funny - 0.28287663090541176\n",
      "science - 0.27631844349963935\n",
      "technology - 0.26716358050272865\n",
      "worldnews - 0.26205766621389576\n",
      "WTF - 0.26028440584703383\n",
      "entertainment - 0.24979649128466647\n",
      "programming - 0.2235506248972646\n",
      "\n",
      "Top10 by closeness centrality:\n",
      "reddit.com - 1.0\n",
      "pics - 1.0\n",
      "worldnews - 1.0\n",
      "programming - 1.0\n",
      "business - 1.0\n",
      "politics - 1.0\n",
      "obama - 1.0\n",
      "science - 1.0\n",
      "technology - 1.0\n",
      "WTF - 1.0\n",
      "\n",
      "Top10 by betweenness centrality:\n",
      "reddit.com - 0.0\n",
      "pics - 0.0\n",
      "worldnews - 0.0\n",
      "programming - 0.0\n",
      "business - 0.0\n",
      "politics - 0.0\n",
      "obama - 0.0\n",
      "science - 0.0\n",
      "technology - 0.0\n",
      "WTF - 0.0\n",
      "\n",
      "1.0\n"
     ]
    }
   ],
   "source": [
    "print(\"SNetT\\n\")\n",
    "print(\"\\nTop10 by degree centrality:\")\n",
    "for elem in sorted(nx.degree_centrality(SNetT).items(), key = lambda item: item[1], reverse=True)[:10]:\n",
    "    print(str(elem[0]) + \" - \" + str(elem[1]))\n",
    "print(\"\\nTop10 by eigenvector centrality:\")\n",
    "for elem in sorted(nx.eigenvector_centrality(SNetT, weight = \"weight\").items(), key = lambda item: item[1], reverse=True)[:10]:\n",
    "    print(str(elem[0]) + \" - \" + str(elem[1]))\n",
    "print(\"\\nTop10 by closeness centrality:\")\n",
    "for elem in sorted(nx.closeness_centrality(SNetT).items(), key = lambda item: item[1], reverse=True)[:10]:\n",
    "    print(str(elem[0]) + \" - \" + str(elem[1]))\n",
    "print(\"\\nTop10 by betweenness centrality:\")\n",
    "for elem in sorted(nx.betweenness_centrality(SNetT).items(), key = lambda item: item[1], reverse=True)[:10]:\n",
    "    print(str(elem[0]) + \" - \" + str(elem[1]))\n",
    "print()\n",
    "print(nx.average_clustering(SNetT))"
   ]
  },
  {
   "cell_type": "code",
   "execution_count": 153,
   "id": "3a63ac94",
   "metadata": {},
   "outputs": [
    {
     "name": "stdout",
     "output_type": "stream",
     "text": [
      "SNetClean\n",
      "\n",
      "\n",
      "Top10 by degree centrality:\n",
      "reddit.com - 0.9298440979955456\n",
      "pics - 0.8351893095768373\n",
      "politics - 0.8296213808463251\n",
      "technology - 0.809576837416481\n",
      "science - 0.809576837416481\n",
      "funny - 0.8006681514476615\n",
      "worldnews - 0.7951002227171492\n",
      "WTF - 0.7761692650334076\n",
      "entertainment - 0.7483296213808462\n",
      "programming - 0.7483296213808462\n",
      "\n",
      "Top10 by eigenvector centrality:\n",
      "reddit.com - 0.37468496088076786\n",
      "politics - 0.3126706162701183\n",
      "pics - 0.29185798162751475\n",
      "funny - 0.279570181934434\n",
      "science - 0.27305065894525654\n",
      "technology - 0.2639528164261922\n",
      "worldnews - 0.258877366879465\n",
      "WTF - 0.25743286883685207\n",
      "entertainment - 0.2470723919177398\n",
      "programming - 0.2206690638346258\n",
      "\n",
      "Top10 by closeness centrality:\n",
      "reddit.com - 0.9331988041158501\n",
      "pics - 0.8514328136599852\n",
      "politics - 0.8378673424020472\n",
      "technology - 0.8331821568900135\n",
      "funny - 0.8270161464782464\n",
      "science - 0.8247273564049672\n",
      "worldnews - 0.8232085214944608\n",
      "WTF - 0.8097866434266164\n",
      "entertainment - 0.7925571403749863\n",
      "programming - 0.7925571403749863\n",
      "\n",
      "Top10 by betweenness centrality:\n",
      "reddit.com - 0.18961698838939048\n",
      "pics - 0.06578494514416316\n",
      "politics - 0.05803803138997429\n",
      "programming - 0.05124130821839107\n",
      "technology - 0.048776691547416776\n",
      "science - 0.04618256864170918\n",
      "WTF - 0.04590799594437272\n",
      "funny - 0.04584090230761917\n",
      "worldnews - 0.04545237117831334\n",
      "entertainment - 0.035252123823492465\n",
      "\n",
      "0.8449317408549895\n"
     ]
    }
   ],
   "source": [
    "print(\"SNetClean\\n\")\n",
    "print(\"\\nTop10 by degree centrality:\")\n",
    "for elem in sorted(nx.degree_centrality(SNetClean).items(), key = lambda item: item[1], reverse=True)[:10]:\n",
    "    print(str(elem[0]) + \" - \" + str(elem[1]))\n",
    "print(\"\\nTop10 by eigenvector centrality:\")\n",
    "for elem in sorted(nx.eigenvector_centrality(SNetClean, weight = \"weight\").items(), key = lambda item: item[1], reverse=True)[:10]:\n",
    "    print(str(elem[0]) + \" - \" + str(elem[1]))\n",
    "print(\"\\nTop10 by closeness centrality:\")\n",
    "for elem in sorted(nx.closeness_centrality(SNetClean).items(), key = lambda item: item[1], reverse=True)[:10]:\n",
    "    print(str(elem[0]) + \" - \" + str(elem[1]))\n",
    "print(\"\\nTop10 by betweenness centrality:\")\n",
    "for elem in sorted(nx.betweenness_centrality(SNetClean).items(), key = lambda item: item[1], reverse=True)[:10]:\n",
    "    print(str(elem[0]) + \" - \" + str(elem[1]))\n",
    "print()\n",
    "print(nx.average_clustering(SNetClean))"
   ]
  },
  {
   "cell_type": "code",
   "execution_count": 154,
   "id": "e4ee3466",
   "metadata": {},
   "outputs": [
    {
     "name": "stdout",
     "output_type": "stream",
     "text": [
      "\n",
      "*** SNet greedy modularity communities:\n",
      "\n",
      "629\n",
      "frozenset({'punk', 'karaoke', 'mccainsgaffeoftheday', 'wii', 'Weird_Science', 'Pizza', 'futurenews', 'olympics', 'fail', 'lyrics', 'ITnews', 'teeshirtart', 'Annoying', 'ZinioBest', 'engineering', 'VoteUpIf', 'FIlm', 'FoodBlog', 'redditanonoymous', 'yahoo', 'britpolitics', 'bulgaria', 'redditbay', 'OpenEd', 'Android', 'dotnet', 'security', 'McCain', 'pakistan', 'FantasticContraption', 'climate', 'argentina', 'Gothic', 'asia', 'Basketball', 'Hunting', 'comicbooks', 'shortstories', 'france', 'ralphnader', 'programming', 'spirituality', 'linux', 'broccoli', 'transit', 'poetscorner', 'Fishing', 'videos', 'PhotoBlog', 'WTF', 'trt', 'wackynews', 'dogs', 'confessions', 'germany', 'stripclubs', 'Gifts', 'russian', 'water', 'ipv6', 'p2ptech', 'Pirate', 'memetics', 'samokrutka', 'Spore', 'telescopes', 'lexlinguae', 'classy', 'MusicVideos', 'Cricket', 'BluesMusic', 'bestof', 'AsesoresInversiones', 'rape', 'moonhoax', 'Badass', 'notreallynews', 'longtext', 'pcgaming', 'Debate', 'Catholicism', 'racism', 'tattoos', 'vim', 'BagLovers', 'artistic', 'urbanplanning', 'triangle', 'personals', '2008Olympics', 'schadenfreude', 'matheducation', 'ExDiggers', 'sportscars', 'oversightings', 'stocks', 'HowToDIY', 'jobpostings', 'trippy', 'UpperCanada', 'dostuff', 'nin', 'vids', 'trolling', 'Games', 'propaganda', 'sustainability', 'indierock', 'techbookreviews', 'aviation', 'Baroque', 'myth', 'LiberalHippies', 'language', 'chemistry', 'environment', 'AmericanEconomy', 'PhilosophyCorner', 'worldnews', 'ajax', 'search', 'mexico', 'pandorastations', 'Fish', 'likereddit', 'fallacy', 'motorcycles', 'rap', 'J2EE', 'Switzerland', 'MMORPG', 'reddit.com', 'mypussyhurts', 'types', 'AnnikRubens', 'philadelphia', 'Dietandhealth', 'onlinegames', 'korea', 'lost', 'impoliteconversation', 'merb', 'tacos', 'scripting', 'INTP', 'FinanceNews', 'baduk', 'Infos', 'starcraft', 'TurkeyBacon', 'wenyude', 'nonprofit', 'funny', 'Warcraft', 'riaa', 'Social__Media', 'outrage', 'floss', 'Internet', 'alcohol', 'nanotech', 'InternetMarketing', 'business', 'cocoa', 'git', 'blogger', 'photographers', 'ocaml', 'latinoamerica', 'code', 'Hardcore', 'gender', 'ResistTyranny', 'breakglass', 'Apocalypse', 'wallpapers', 'forum', 'taoism', 'SwampSparrowSucks', 'prolog', 'igr', 'foreignpolicy', 'biology', 'NewAgeReligion', 'Realty', 'Breakfast', 'karma', 'sport', 'voluptuous', 'TrueHorrorStories', 'Equus', 'java', 'breadpig', 'justforkids', 'dotfiles', 'wine', 'Charitable', 'no', 'porn', '2600', 'hip_hop', 'DADA', 'badmusic', 'xTRUMANx', 'grammar', 'nsfwvideos', 'de', 'Islamofascism', 'd_language', 'spammers', 'cheats', 'joos', 'newspapers', 'GlobalistNews', 'Amateur', 'unix', 'discussions', 'soccer', 'monocle', 'sl', 'Kucinich', 'promos', 'redditcompetition', 'Lovecraft', 'science2', 'ChileRemix', 'Twitter', 'Mushrooms', 'ireland', 'Judaism', 'statistics', 'Austin', 'aggieliberal', 'magicTCG', 'Michigan', 'audio', 'windows', 'agi', 'Bondage', 'Discussion', 'spanishlanguagenerds', 'bitch_n_complain', 'housing', 'vegas', 'KiNov', 'ko', 'Attenborough', 'skateboarding', 'AmericanHistory', 'Shortfilms', 'Outdoors', 'Heavymetal', 'mixtape', 'nl', 'warpiggs', 'braga', 'autism', 'texas', 'SocialNews', 'RUI', 'oppositeday', 'LSD', 'sysor', 'PutinforPresident', 'es', 'sceptics', 'Music', 'MediaBias', 'oldlive', 'wireless', 'hardbodies', 'atheism', 'ForumReddit', 'softwaredevelopment', '2008is1929', 'bdsm', 'whine', 'sdcc1', 'WomenOfColor', 'medicine', 'Tcl', 'zine', 'PSP', 'computergraphics', 'dickoftheyear', 'complaints', 'Africa', 'Entrepreneur', 'mediareddit', 'plasma', 'Stargate', 'men', 'cool', 'networking', 'visualization', 'MoosePatrol', 'chess', 'humor', 'Sex_Offender_Issues', 'California', 'MusicFail', 'Celtic', 'Clojure', 'Cheese', 'bittersweet', 'fsharp', 'actlocally', 'sanfrancisco', 'death_metal', 'washingtondc', 'Libraries', 'HorribleIdea', 'Vote_up_if', 'politics', 'featurerequest', 'haskell_proposals', 'CommonLaw', 'catswithbacon', 'ru', 'USPE12', 'dating', 'redsox', 'cuilsucks', 'CanadaVotes2008', 'iPhoneDev', 'gaynsfw', 'comics', 'geospatial', 'Fantasy', 'whedon', 'alaska', 'TimeTravellers', 'GreenProducts', 'mobile', 'unhappy', 'fiction', 'Mullets', 'Slut', 'foodart', 'nuclear', 'Kerala', 'haiku', 'Wordpress', 'religionseriously', 'parent', 'formulaone', 'aodag', 'economics2', 'yro', 'left4dead', 'EnAmerique', 'Futurism', 'smokefree2009', 'photoshop', 'prowrestling', 'nsw', 'virtualization', 'god', 'popper', 'drunk', 'Omemo', 'Desktop_Wallpaper', 'MMJ', 'aynrandreddits', 'bloggerdal', 'goodoldays', 'IntellectualReddit', 'request', 'celebrity', 'manchester', 'athiest', 'nachos', 'fr', 'darwin', 'C_Programming', 'hiphop', 'undead', 'comedy', 'mises', 'spoilers', 'macprogramming', 'graphicnovels', 'just4callie', 'hockey', 'FootballCentral', 'puzzles', 'Omorashi', 'pics', 'codeprojects', 'weed', 'newzealand', 'vegan', 'bollywood', 'scheme', 'espanol', 'redditAnswers', 'penis', 'JamsBio', 'finance2', 'antiwar', 'boston', 'voteup', 'choppers', 'poll', 'SEO', 'magick', 'insomnia', 'Quebec', 'TestMySite', 'Cappuccino', 'sv', 'finance', 'dvd', 'gambling', 'asm', 'Magic', 'iran', 'SuperSwedishGirls', 'gay', 'jobs', 'pl', 'bayarea', 'cycling', 'todayilearned', 'artofpickup', 'hacks', 'gaming', 'emacs', 'meetup', 'science', 'Gunners', 'WikiDashboard', 'fsm', 'spiritual', 'greentea', 'typography', 'work', 'inspirational', 'AdultChildren', 'Objectivism', 'poker', 'news', 'Dr_Horrible', 'Scotland', 'LaTeX', 'WorldWidePolitics', 'podcasts', 'secondlife', 'Vegetarianism', 'gnu', 'norulesMMA', 'Iceland', 'xbox360', 'chicago', 'functional', 'onlinejournalism', 'features', 'NonAustrianEconomics', 'Webmaster', 'redheads', 'GlobalEconomy', 'Blogging', 'lonely', 'geyik', 'punthreads', 'profile', 'Dissent', 'operabrowser', 'Tasers', 'offensive', 'Gays', 'nederlands', 'Database', 'TeamFortress2', 'pittsburgh', 'Atlanta', 'SEC', 'semanticweb', 'electronics', 'chrome', 'app', 'smalltalk', 'religiousdebate', 'politicstoo', 'culturalstudies', 'Zombie', 'facebook', 'Webometrics', 'FixedGearBicycle', 'italy', 'AskReddit', 'geek', 'kyonounnsei', 'pwnage', 'milf', 'lego', 'bitteroldmen', 'Jazz', 'panda', 'flash', 'smart', 'neopagan', 'hacking', 'webtools', 'subreddit_complaints', 'encryption', 'oregon', 'AntiHillary', 'ogijun', 'activism', 'scala', 'Cleveland', 'tf2', 'blackhatseo', 'EeePC', 'Colorado', 'norge', 'piercing', 'deutschland', 'LegalTeens', 'shoebush', 'womenofreddit', 'nethack', 'rails', 'lifestyle', 'Conserve', 'Capitalism', 'computers', 'baseball', 'motherapproves', 'businessnews', 'Charity', 'obama', 'Cplusplus', 'theology', 'timetravel', 'caregiving', 'vid', 'ciencia', 'it', 'florida', 'scene', 'cars', 'ANTISHARIA', 'newyork', 'Entertainment_Gossip', 'MapleLinks', 'Archaeology', 'polls', 'MitchHedberg', 'StarWars', 'Pantsless', 'longvideos', 'bitch', 'Brooklyn', 'offbeat', 'usability', 'entertainment', 'stories', 'potus08', 'ASPNET', 'SonyPS3', 'LazyHour', 'tritit', 'web_infrastructure', 'shell', 'genetic_algorithms', 'management', 'progressive', 'datacompression', 'WeAreTheFilmMakers', 'yardsale', 'technology', 'belgium', 'intelligent', 'quotes', 'ja', 'gadgets', 'wow', 'mixes', 'test', 'bioinformatics', 'disability', 'Seattle', 'cannabis', 'tr', 'onlycode', 'diabetes', 'christmas', 'russia', 'BCCResearch', 'Turkey', 'Economics', 'agile', 'sandbox', 'Ambientalmente', '_Descary', 'wedding', 'hotmanflesh', 'blackculture', 'WorldHistory', 'Marxism', 'blog', 'brasil', 'Health', 'electronicmusic', 'seduction', 'Homebrewing', 'Tugimp', 'fakenews', 'freelance', 'CARTOON', 'nsfw', 'greece', 'China', 'tedtalks', 'RamaOne', 'arguments', 'Autos', 'ideasfortheadmins', 'YoDawg', 'startrek', 'muxtape', 'justwow', 'awesomereddit', 'homeschool', 'eggs', 'loldogs', 'antiterrorism'})\n",
      "\n",
      "260\n",
      "frozenset({'Christianity', 'happy', 'Josie', 'guns', 'windowshots', 'askJeph', 'history', 'joel', 'apple', 'netsec', 'books', 'zombies', 'PalinProblem', 'gossip', 'Drugs', 'women', 'occult', 'USPE08', 'evolution', 'celebrities', 'investing', 'redditdev', 'lectures', 'idea', 'bash', 'astro', 'web_design', 'beer', 'testtest', 'Coffee', 'feminisms', 'firefox', 'compsci', 'giveaways', 'javascript', 'scifi', 'musicians', 'cnbeta', 'photography', 'howto', 'anime', 'education', 'AmericanGovernment', 'kde', 'japan', 'dailywtf', 'nature', 'freemusic', 'things', 'webcomics', 'food', 'torrents', 'cpp', 'LosAngeles', 'BSD', 'skeptic', 'geopolitics', 'government', 'contraptions', 'Anarchism', 'cute', 'craigslist', 'BlackOps', 'ourex', 'erlang', 'Chinese', 'furry', 'Socialize', 'lgbt', 'meta', 'ruby', 'Boobies', 'Astronomy', 'DIY', 'askXKCD', 'auto', 'perl', 'robotics', 'askcheez', 'Physics', 'media', 'blogs', 'Conservative', 'PHP', 'epicthread', 'SinoBeta', 'opensource', 'gonewild', 'haskell', 'energy', 'WebGames', 'tech', 'social_bookmarking', 'ideas', 'self', 'Poetry', 'hackers', 'Anthropology', 'newreddits', 'xkcd', 'sociology', 'collapse', 'l33t', 'worldpolitics', 'law', 'Pictures', 'aww', 'marketing', 'doctorwho', 'sports', 'productivity', 'XYON', 'lullaby', 'architecture', 'unitedkingdom', 'writing', 'WebNews', 'UFOs', 'hrw', 'veg', 'Buddhism', 'socialmedia', 'Military', 'economy', 'lol', 'software', 'travel', 'ZenHabits', 'love', 'bestofcraigslist', 'conspiracy', 'Liberty', 'philosophy', 'ComputerSecurity', 'wikipedia', 'england', 'MMA', 'hurts_my_eyes', 'rpg', 'Python', 'Guitar', 'interestingasfuck', 'islam', 'WhiteMenGoneWild', 'euro', 'SuicideWatch', 'cogsci', 'Graffiti', 'ass', 'mac', 'startups', 'bicycling', '5edwin', 'Cooking', 'literature', 'Animals', 'wackyworld', 'Israel', 'Fitness', 'Survival', 'movies', 'Marijuana', 'AnimalRights', 'yourweek', 'usa', 'Metal', 'Ubuntu', '911truth', 'redditchan', 'worstof', 'Transhuman', 'Documentaries', 'sex', 'video', 'war', 'australia', 'area51', 'fascinating', 'ask', 'worldnews2', 'gardening', 'Sexy', 'Design', 'Jokes', 'Unanimous', 'psychology', 'egalitarian', 'google', '4chan', 'pssnaked', 'scientology', 'independent', 'Kaede_Rukawa', 'conspiracies', 'linguistics', 'singularity', 'fashion', 'ohwhataworld', 'MensRights', 'india', 'space', 'lolcats', 'iphone', 'ReverseEngineering', 'ads', 'Paranormal', 'digg', 'lovereddit', 'Frugal', 'Libertarian', 'Cryptogon', 'selfhelp', 'Green', 'SewerHorse', 'pic', 'religion', 'culture', 'zh', 'AmericanPolitics', 'zen', 'microsoft', 'totosoft', 'animation', 'django', 'ronpaul', 'colorreddit', 'recipes', 'nyc', 'osx', 'Art', 'WorldWideNews', 'math', 'bugs', 'ukpolitics', 'canada', 'snobs', 'PoliticalHumor', 'crime', 'lisp', 'Parenting', 'bookclub', 'BestGamesEver', 'dior_lei', 'socialism', 'lamengao', 'Pets', 'europe', 'antibacon', 'ArtCrit', 'youtube', 'PS3', 'hardware', 'browsers', 'cimigo', 'Freethought', 'television', 'WeAreTheMusicMakers', 'lists', 'Bacon', 'scientific'})\n",
      "\n",
      "4\n",
      "frozenset({'arabic', 'd1g', '7mooode', 'arabicblogs'})\n",
      "\n",
      "2\n",
      "frozenset({'turkalo', 'hu'})\n",
      "\n",
      "2\n",
      "frozenset({'Webbook', 'Gamer'})\n",
      "\n",
      "2\n",
      "frozenset({'portugal', '3cs'})\n",
      "\n",
      "*** SNet Girvan-Newman communities:\n"
     ]
    },
    {
     "name": "stdout",
     "output_type": "stream",
     "text": [
      "\n",
      "893\n",
      "['2008Olympics', '2008is1929', '2600', '4chan', '5edwin', '911truth', 'ANTISHARIA', 'ASPNET', 'AdultChildren', 'Africa', 'Amateur', 'Ambientalmente', 'AmericanEconomy', 'AmericanGovernment', 'AmericanHistory', 'AmericanPolitics', 'Anarchism', 'Android', 'AnimalRights', 'Animals', 'AnnikRubens', 'Annoying', 'Anthropology', 'AntiHillary', 'Apocalypse', 'Archaeology', 'Art', 'ArtCrit', 'AsesoresInversiones', 'AskReddit', 'Astronomy', 'Atlanta', 'Attenborough', 'Austin', 'Autos', 'BCCResearch', 'BSD', 'Bacon', 'Badass', 'BagLovers', 'Baroque', 'Basketball', 'BestGamesEver', 'BlackOps', 'Blogging', 'BluesMusic', 'Bondage', 'Boobies', 'Breakfast', 'Brooklyn', 'Buddhism', 'CARTOON', 'C_Programming', 'California', 'CanadaVotes2008', 'Capitalism', 'Cappuccino', 'Catholicism', 'Celtic', 'Charitable', 'Charity', 'Cheese', 'ChileRemix', 'China', 'Chinese', 'Christianity', 'Cleveland', 'Clojure', 'Coffee', 'Colorado', 'CommonLaw', 'ComputerSecurity', 'Conservative', 'Conserve', 'Cooking', 'Cplusplus', 'Cricket', 'Cryptogon', 'DADA', 'DIY', 'Database', 'Debate', 'Design', 'Desktop_Wallpaper', 'Dietandhealth', 'Discussion', 'Dissent', 'Documentaries', 'Dr_Horrible', 'Drugs', 'Economics', 'EeePC', 'EnAmerique', 'Entertainment_Gossip', 'Entrepreneur', 'Equus', 'ExDiggers', 'FIlm', 'FantasticContraption', 'Fantasy', 'FinanceNews', 'Fish', 'Fishing', 'Fitness', 'FixedGearBicycle', 'FoodBlog', 'FootballCentral', 'ForumReddit', 'Freethought', 'Frugal', 'Futurism', 'Gamer', 'Games', 'Gays', 'Gifts', 'GlobalEconomy', 'GlobalistNews', 'Gothic', 'Graffiti', 'Green', 'GreenProducts', 'Guitar', 'Gunners', 'Hardcore', 'Health', 'Heavymetal', 'Homebrewing', 'HorribleIdea', 'HowToDIY', 'Hunting', 'INTP', 'ITnews', 'Iceland', 'Infos', 'IntellectualReddit', 'Internet', 'InternetMarketing', 'Islamofascism', 'Israel', 'J2EE', 'JamsBio', 'Jazz', 'Jokes', 'Josie', 'Judaism', 'Kaede_Rukawa', 'Kerala', 'KiNov', 'Kucinich', 'LSD', 'LaTeX', 'LazyHour', 'LegalTeens', 'LiberalHippies', 'Libertarian', 'Liberty', 'Libraries', 'LosAngeles', 'Lovecraft', 'MMA', 'MMJ', 'MMORPG', 'Magic', 'MapleLinks', 'Marijuana', 'Marxism', 'McCain', 'MediaBias', 'MensRights', 'Metal', 'Michigan', 'Military', 'MitchHedberg', 'MoosePatrol', 'Mullets', 'Mushrooms', 'Music', 'MusicFail', 'MusicVideos', 'NewAgeReligion', 'NonAustrianEconomics', 'Objectivism', 'Omemo', 'Omorashi', 'OpenEd', 'Outdoors', 'PHP', 'PS3', 'PSP', 'PalinProblem', 'Pantsless', 'Paranormal', 'Parenting', 'Pets', 'PhilosophyCorner', 'PhotoBlog', 'Physics', 'Pictures', 'Pirate', 'Pizza', 'Poetry', 'PoliticalHumor', 'PutinforPresident', 'Python', 'Quebec', 'RUI', 'RamaOne', 'Realty', 'ResistTyranny', 'ReverseEngineering', 'SEC', 'SEO', 'Scotland', 'Seattle', 'SewerHorse', 'Sex_Offender_Issues', 'Sexy', 'Shortfilms', 'SinoBeta', 'Slut', 'SocialNews', 'Social__Media', 'Socialize', 'SonyPS3', 'Spore', 'StarWars', 'Stargate', 'SuicideWatch', 'SuperSwedishGirls', 'Survival', 'SwampSparrowSucks', 'Switzerland', 'Tasers', 'Tcl', 'TeamFortress2', 'TestMySite', 'TimeTravellers', 'Transhuman', 'TrueHorrorStories', 'Tugimp', 'Turkey', 'TurkeyBacon', 'Twitter', 'UFOs', 'USPE08', 'USPE12', 'Ubuntu', 'Unanimous', 'UpperCanada', 'Vegetarianism', 'VoteUpIf', 'Vote_up_if', 'WTF', 'Warcraft', 'WeAreTheFilmMakers', 'WeAreTheMusicMakers', 'WebGames', 'WebNews', 'Webbook', 'Webmaster', 'Webometrics', 'Weird_Science', 'WhiteMenGoneWild', 'WikiDashboard', 'WomenOfColor', 'Wordpress', 'WorldHistory', 'WorldWideNews', 'WorldWidePolitics', 'XYON', 'YoDawg', 'ZenHabits', 'ZinioBest', 'Zombie', '_Descary', 'activism', 'actlocally', 'ads', 'aggieliberal', 'agi', 'agile', 'ajax', 'alaska', 'alcohol', 'animation', 'anime', 'antibacon', 'antiterrorism', 'antiwar', 'aodag', 'app', 'apple', 'architecture', 'area51', 'argentina', 'arguments', 'artistic', 'artofpickup', 'asia', 'ask', 'askJeph', 'askXKCD', 'askcheez', 'asm', 'ass', 'astro', 'atheism', 'athiest', 'audio', 'australia', 'autism', 'auto', 'aviation', 'awesomereddit', 'aww', 'aynrandreddits', 'badmusic', 'baduk', 'baseball', 'bash', 'bayarea', 'bdsm', 'beer', 'belgium', 'bestof', 'bestofcraigslist', 'bicycling', 'bioinformatics', 'biology', 'bitch', 'bitch_n_complain', 'bitteroldmen', 'bittersweet', 'blackculture', 'blackhatseo', 'blog', 'blogger', 'bloggerdal', 'blogs', 'bollywood', 'bookclub', 'books', 'boston', 'braga', 'brasil', 'breadpig', 'breakglass', 'britpolitics', 'broccoli', 'browsers', 'bugs', 'bulgaria', 'business', 'businessnews', 'canada', 'cannabis', 'caregiving', 'cars', 'catswithbacon', 'celebrities', 'celebrity', 'cheats', 'chemistry', 'chess', 'chicago', 'choppers', 'christmas', 'chrome', 'ciencia', 'cimigo', 'classy', 'climate', 'cnbeta', 'cocoa', 'code', 'codeprojects', 'cogsci', 'collapse', 'colorreddit', 'comedy', 'comicbooks', 'comics', 'complaints', 'compsci', 'computergraphics', 'computers', 'confessions', 'conspiracies', 'conspiracy', 'contraptions', 'cool', 'cpp', 'craigslist', 'crime', 'cuilsucks', 'culturalstudies', 'culture', 'cute', 'cycling', 'd_language', 'dailywtf', 'darwin', 'datacompression', 'dating', 'de', 'death_metal', 'deutschland', 'diabetes', 'dickoftheyear', 'digg', 'dior_lei', 'disability', 'discussions', 'django', 'doctorwho', 'dogs', 'dostuff', 'dotfiles', 'dotnet', 'drunk', 'dvd', 'economics2', 'economy', 'education', 'egalitarian', 'eggs', 'electronicmusic', 'electronics', 'emacs', 'encryption', 'energy', 'engineering', 'england', 'entertainment', 'environment', 'epicthread', 'erlang', 'es', 'espanol', 'euro', 'europe', 'evolution', 'facebook', 'fail', 'fakenews', 'fallacy', 'fascinating', 'fashion', 'featurerequest', 'features', 'feminisms', 'fiction', 'finance', 'finance2', 'firefox', 'flash', 'florida', 'floss', 'food', 'foodart', 'foreignpolicy', 'formulaone', 'forum', 'fr', 'france', 'freelance', 'freemusic', 'fsharp', 'fsm', 'functional', 'funny', 'furry', 'futurenews', 'gadgets', 'gambling', 'gaming', 'gardening', 'gay', 'gaynsfw', 'geek', 'gender', 'genetic_algorithms', 'geopolitics', 'geospatial', 'germany', 'geyik', 'git', 'giveaways', 'gnu', 'god', 'gonewild', 'goodoldays', 'google', 'gossip', 'government', 'grammar', 'graphicnovels', 'greece', 'greentea', 'guns', 'hackers', 'hacking', 'hacks', 'haiku', 'happy', 'hardbodies', 'hardware', 'haskell', 'haskell_proposals', 'hip_hop', 'hiphop', 'history', 'hockey', 'homeschool', 'hotmanflesh', 'housing', 'howto', 'hrw', 'hu', 'humor', 'hurts_my_eyes', 'iPhoneDev', 'idea', 'ideas', 'ideasfortheadmins', 'igr', 'impoliteconversation', 'independent', 'india', 'indierock', 'insomnia', 'inspirational', 'intelligent', 'interestingasfuck', 'investing', 'iphone', 'ipv6', 'iran', 'ireland', 'islam', 'it', 'italy', 'ja', 'japan', 'java', 'javascript', 'jobpostings', 'jobs', 'joel', 'joos', 'just4callie', 'justforkids', 'justwow', 'karaoke', 'karma', 'kde', 'ko', 'korea', 'kyonounnsei', 'l33t', 'lamengao', 'language', 'latinoamerica', 'law', 'lectures', 'left4dead', 'lego', 'lexlinguae', 'lgbt', 'lifestyle', 'likereddit', 'linguistics', 'linux', 'lisp', 'lists', 'literature', 'lol', 'lolcats', 'loldogs', 'lonely', 'longtext', 'longvideos', 'lost', 'love', 'lovereddit', 'lullaby', 'lyrics', 'mac', 'macprogramming', 'magicTCG', 'magick', 'management', 'manchester', 'marketing', 'math', 'matheducation', 'mccainsgaffeoftheday', 'media', 'mediareddit', 'medicine', 'meetup', 'memetics', 'men', 'merb', 'meta', 'mexico', 'microsoft', 'milf', 'mises', 'mixes', 'mixtape', 'mobile', 'monocle', 'moonhoax', 'motherapproves', 'motorcycles', 'movies', 'musicians', 'muxtape', 'mypussyhurts', 'myth', 'nachos', 'nanotech', 'nature', 'nederlands', 'neopagan', 'nethack', 'netsec', 'networking', 'newreddits', 'news', 'newspapers', 'newyork', 'newzealand', 'nin', 'nl', 'no', 'nonprofit', 'norge', 'norulesMMA', 'notreallynews', 'nsfw', 'nsfwvideos', 'nsw', 'nuclear', 'nyc', 'obama', 'ocaml', 'occult', 'offbeat', 'offensive', 'ogijun', 'ohwhataworld', 'oldlive', 'olympics', 'onlinegames', 'onlinejournalism', 'onlycode', 'opensource', 'operabrowser', 'oppositeday', 'oregon', 'osx', 'ourex', 'outrage', 'oversightings', 'p2ptech', 'pakistan', 'panda', 'pandorastations', 'parent', 'pcgaming', 'penis', 'perl', 'personals', 'philadelphia', 'philosophy', 'photographers', 'photography', 'photoshop', 'pic', 'pics', 'piercing', 'pittsburgh', 'pl', 'plasma', 'podcasts', 'poetscorner', 'poker', 'politics', 'politicstoo', 'poll', 'polls', 'popper', 'porn', 'potus08', 'productivity', 'profile', 'programming', 'progressive', 'prolog', 'promos', 'propaganda', 'prowrestling', 'pssnaked', 'psychology', 'punk', 'punthreads', 'puzzles', 'pwnage', 'quotes', 'racism', 'rails', 'ralphnader', 'rap', 'rape', 'recipes', 'reddit.com', 'redditAnswers', 'redditanonoymous', 'redditbay', 'redditchan', 'redditcompetition', 'redditdev', 'redheads', 'redsox', 'religion', 'religionseriously', 'religiousdebate', 'request', 'riaa', 'robotics', 'ronpaul', 'rpg', 'ru', 'ruby', 'russia', 'russian', 'samokrutka', 'sandbox', 'sanfrancisco', 'scala', 'scene', 'sceptics', 'schadenfreude', 'scheme', 'science', 'science2', 'scientific', 'scientology', 'scifi', 'scripting', 'sdcc1', 'search', 'secondlife', 'security', 'seduction', 'self', 'selfhelp', 'semanticweb', 'sex', 'shell', 'shoebush', 'shortstories', 'singularity', 'skateboarding', 'skeptic', 'sl', 'smalltalk', 'smart', 'smokefree2009', 'snobs', 'soccer', 'social_bookmarking', 'socialism', 'socialmedia', 'sociology', 'software', 'softwaredevelopment', 'space', 'spammers', 'spanishlanguagenerds', 'spiritual', 'spirituality', 'spoilers', 'sport', 'sports', 'sportscars', 'starcraft', 'startrek', 'startups', 'statistics', 'stocks', 'stories', 'stripclubs', 'subreddit_complaints', 'sustainability', 'sv', 'sysor', 'tacos', 'taoism', 'tattoos', 'tech', 'techbookreviews', 'technology', 'tedtalks', 'teeshirtart', 'telescopes', 'television', 'test', 'testtest', 'texas', 'tf2', 'theology', 'things', 'timetravel', 'todayilearned', 'torrents', 'totosoft', 'tr', 'transit', 'travel', 'triangle', 'trippy', 'tritit', 'trolling', 'trt', 'turkalo', 'types', 'typography', 'ukpolitics', 'undead', 'unhappy', 'unitedkingdom', 'unix', 'urbanplanning', 'usa', 'usability', 'veg', 'vegan', 'vegas', 'vid', 'video', 'videos', 'vids', 'vim', 'virtualization', 'visualization', 'voluptuous', 'voteup', 'wackynews', 'wackyworld', 'wallpapers', 'war', 'warpiggs', 'washingtondc', 'water', 'web_design', 'web_infrastructure', 'webcomics', 'webtools', 'wedding', 'weed', 'wenyude', 'whedon', 'whine', 'wii', 'wikipedia', 'windows', 'windowshots', 'wine', 'wireless', 'women', 'womenofreddit', 'work', 'worldnews', 'worldnews2', 'worldpolitics', 'worstof', 'wow', 'writing', 'xTRUMANx', 'xbox360', 'xkcd', 'yahoo', 'yardsale', 'yourweek', 'youtube', 'yro', 'zen', 'zh', 'zine', 'zombies']\n",
      "\n",
      "4\n",
      "['7mooode', 'arabic', 'arabicblogs', 'd1g']\n",
      "\n",
      "2\n",
      "['3cs', 'portugal']\n",
      "\n",
      "*** SNet label propagation communities:\n",
      "\n",
      "883\n",
      "{'Christianity', 'karaoke', 'mccainsgaffeoftheday', 'punk', 'wii', 'olympics', 'futurenews', 'Pizza', 'Weird_Science', 'fail', 'happy', 'Josie', 'guns', 'lyrics', 'askJeph', 'ITnews', 'teeshirtart', 'apple', 'Annoying', 'netsec', 'ZinioBest', 'engineering', 'VoteUpIf', 'FIlm', 'FoodBlog', 'books', 'zombies', 'PalinProblem', 'redditanonoymous', 'gossip', 'yahoo', 'britpolitics', 'bulgaria', 'redditbay', 'OpenEd', 'Android', 'occult', 'dotnet', 'security', 'McCain', 'pakistan', 'FantasticContraption', 'climate', 'redditdev', 'argentina', 'Gothic', 'asia', 'astro', 'testtest', 'Basketball', 'Hunting', 'comicbooks', 'shortstories', 'france', 'ralphnader', 'programming', 'spirituality', 'linux', 'broccoli', 'musicians', 'transit', 'poetscorner', 'videos', 'Fishing', 'PhotoBlog', 'WTF', 'trt', 'wackynews', 'dogs', 'confessions', 'anime', 'germany', 'stripclubs', 'Gifts', 'water', 'russian', 'ipv6', 'p2ptech', 'memetics', 'Pirate', 'dailywtf', 'freemusic', 'webcomics', 'samokrutka', 'torrents', 'Spore', 'cpp', 'lexlinguae', 'telescopes', 'LosAngeles', 'skeptic', 'geopolitics', 'classy', 'MusicVideos', 'Cricket', 'BluesMusic', 'government', 'bestof', 'AsesoresInversiones', 'rape', 'moonhoax', 'Badass', 'cute', 'notreallynews', 'longtext', 'pcgaming', 'Debate', 'Catholicism', 'furry', 'racism', 'lgbt', 'meta', 'tattoos', 'Boobies', 'Astronomy', 'DIY', 'vim', 'artistic', 'BagLovers', 'triangle', 'urbanplanning', 'personals', 'robotics', '2008Olympics', 'schadenfreude', 'matheducation', 'askcheez', 'ExDiggers', 'Physics', 'sportscars', 'blogs', 'Conservative', 'oversightings', 'SinoBeta', 'haskell', 'stocks', 'HowToDIY', 'energy', 'WebGames', 'jobpostings', 'trippy', 'social_bookmarking', 'UpperCanada', 'dostuff', 'nin', 'vids', 'trolling', 'Games', 'propaganda', 'sustainability', 'indierock', 'techbookreviews', 'aviation', 'hackers', 'Anthropology', 'myth', 'Baroque', 'LiberalHippies', 'xkcd', 'language', 'chemistry', 'sociology', 'collapse', 'environment', 'worldnews', 'AmericanEconomy', 'PhilosophyCorner', 'ajax', 'search', 'mexico', 'law', 'pandorastations', 'marketing', 'Fish', 'likereddit', 'fallacy', 'motorcycles', 'rap', 'sports', 'productivity', 'J2EE', 'Switzerland', 'lullaby', 'MMORPG', 'reddit.com', 'mypussyhurts', 'types', 'AnnikRubens', 'WebNews', 'Dietandhealth', 'onlinegames', 'philadelphia', 'korea', 'Buddhism', 'lost', 'impoliteconversation', 'merb', 'Military', 'scripting', 'tacos', 'INTP', 'FinanceNews', 'economy', 'baduk', 'lol', 'Infos', 'starcraft', 'TurkeyBacon', 'travel', 'wenyude', 'nonprofit', 'ZenHabits', 'funny', 'Warcraft', 'bestofcraigslist', 'conspiracy', 'Social__Media', 'riaa', 'outrage', 'floss', 'Internet', 'philosophy', 'nanotech', 'alcohol', 'england', 'MMA', 'InternetMarketing', 'business', 'rpg', 'Guitar', 'cocoa', 'git', 'blogger', 'photographers', 'ocaml', 'latinoamerica', 'code', 'Hardcore', 'gender', 'ResistTyranny', 'breakglass', 'Apocalypse', 'SuicideWatch', 'Graffiti', 'wallpapers', 'forum', 'mac', 'taoism', 'SwampSparrowSucks', 'prolog', 'foreignpolicy', 'igr', 'bicycling', 'literature', 'biology', 'NewAgeReligion', 'wackyworld', 'Breakfast', 'Realty', 'karma', 'sport', 'voluptuous', 'movies', 'TrueHorrorStories', 'Equus', 'java', 'breadpig', 'justforkids', 'dotfiles', 'AnimalRights', 'wine', 'Charitable', 'no', 'Metal', 'porn', '2600', 'DADA', 'hip_hop', 'badmusic', '911truth', 'redditchan', 'xTRUMANx', 'grammar', 'nsfwvideos', 'de', 'd_language', 'Islamofascism', 'war', 'spammers', 'cheats', 'joos', 'newspapers', 'area51', 'GlobalistNews', 'gardening', 'Sexy', 'Amateur', 'unix', 'discussions', '4chan', 'soccer', 'pssnaked', 'monocle', 'sl', 'Kucinich', 'promos', 'redditcompetition', 'Lovecraft', 'science2', 'ChileRemix', 'Twitter', 'Mushrooms', 'ireland', 'Judaism', 'statistics', 'fashion', 'Austin', 'aggieliberal', 'magicTCG', 'Michigan', 'audio', 'space', 'windows', 'agi', 'Bondage', 'iphone', 'Discussion', 'spanishlanguagenerds', 'lovereddit', 'bitch_n_complain', 'Cryptogon', 'Green', 'housing', 'vegas', 'KiNov', 'ko', 'Attenborough', 'skateboarding', 'AmericanHistory', 'SewerHorse', 'Shortfilms', 'Outdoors', 'pic', 'Heavymetal', 'mixtape', 'nl', 'zh', 'braga', 'warpiggs', 'autism', 'texas', 'SocialNews', 'RUI', 'oppositeday', 'microsoft', 'animation', 'django', 'LSD', 'sysor', 'recipes', 'PutinforPresident', 'osx', 'es', 'sceptics', 'Music', 'MediaBias', 'WorldWideNews', 'bugs', 'wireless', 'oldlive', 'hardbodies', 'canada', 'atheism', 'softwaredevelopment', 'PoliticalHumor', 'ForumReddit', '2008is1929', 'bdsm', 'whine', 'sdcc1', 'medicine', 'WomenOfColor', 'Tcl', 'BestGamesEver', 'zine', 'PSP', 'computergraphics', 'dickoftheyear', 'socialism', 'complaints', 'Africa', 'Entrepreneur', 'lamengao', 'Pets', 'mediareddit', 'europe', 'youtube', 'antibacon', 'ArtCrit', 'plasma', 'Stargate', 'PS3', 'men', 'cool', 'networking', 'visualization', 'MoosePatrol', 'chess', 'humor', 'lists', 'Sex_Offender_Issues', 'California', 'Bacon', 'Celtic', 'MusicFail', 'scientific', 'Clojure', 'Cheese', 'bittersweet', 'fsharp', 'actlocally', 'sanfrancisco', 'death_metal', 'windowshots', 'washingtondc', 'Libraries', 'history', 'Vote_up_if', 'HorribleIdea', 'joel', 'politics', 'featurerequest', 'haskell_proposals', 'catswithbacon', 'CommonLaw', 'ru', 'dating', 'USPE12', 'redsox', 'cuilsucks', 'CanadaVotes2008', 'iPhoneDev', 'gaynsfw', 'comics', 'geospatial', 'Fantasy', 'whedon', 'Drugs', 'alaska', 'women', 'TimeTravellers', 'USPE08', 'GreenProducts', 'evolution', 'mobile', 'unhappy', 'fiction', 'Mullets', 'celebrities', 'investing', 'Slut', 'lectures', 'foodart', 'idea', 'nuclear', 'bash', 'Kerala', 'haiku', 'Wordpress', 'web_design', 'religionseriously', 'beer', 'parent', 'formulaone', 'aodag', 'Coffee', 'yro', 'left4dead', 'feminisms', 'compsci', 'firefox', 'economics2', 'EnAmerique', 'Futurism', 'prowrestling', 'photoshop', 'smokefree2009', 'giveaways', 'javascript', 'nsw', 'scifi', 'virtualization', 'god', 'popper', 'drunk', 'photography', 'Omemo', 'Desktop_Wallpaper', 'howto', 'MMJ', 'aynrandreddits', 'bloggerdal', 'goodoldays', 'IntellectualReddit', 'education', 'request', 'manchester', 'athiest', 'celebrity', 'nachos', 'fr', 'darwin', 'AmericanGovernment', 'kde', 'C_Programming', 'hiphop', 'japan', 'undead', 'nature', 'comedy', 'things', 'mises', 'food', 'spoilers', 'BSD', 'macprogramming', 'graphicnovels', 'just4callie', 'FootballCentral', 'hockey', 'contraptions', 'Anarchism', 'craigslist', 'puzzles', 'Omorashi', 'erlang', 'pics', 'ourex', 'codeprojects', 'weed', 'BlackOps', 'newzealand', 'Chinese', 'vegan', 'bollywood', 'Socialize', 'scheme', 'ruby', 'espanol', 'finance2', 'penis', 'JamsBio', 'redditAnswers', 'antiwar', 'askXKCD', 'auto', 'perl', 'boston', 'voteup', 'choppers', 'poll', 'SEO', 'media', 'magick', 'insomnia', 'PHP', 'Quebec', 'TestMySite', 'Cappuccino', 'epicthread', 'opensource', 'gonewild', 'finance', 'sv', 'dvd', 'gambling', 'asm', 'Magic', 'iran', 'tech', 'SuperSwedishGirls', 'ideas', 'jobs', 'gay', 'pl', 'bayarea', 'cycling', 'todayilearned', 'artofpickup', 'self', 'hacks', 'gaming', 'Poetry', 'emacs', 'newreddits', 'meetup', 'science', 'Gunners', 'WikiDashboard', 'fsm', 'spiritual', 'l33t', 'typography', 'greentea', 'worldpolitics', 'work', 'inspirational', 'poker', 'Objectivism', 'news', 'AdultChildren', 'Dr_Horrible', 'Pictures', 'aww', 'Scotland', 'WorldWidePolitics', 'LaTeX', 'doctorwho', 'podcasts', 'secondlife', 'Vegetarianism', 'XYON', 'gnu', 'norulesMMA', 'Iceland', 'xbox360', 'chicago', 'architecture', 'functional', 'onlinejournalism', 'unitedkingdom', 'features', 'writing', 'UFOs', 'NonAustrianEconomics', 'Webmaster', 'hrw', 'GlobalEconomy', 'veg', 'socialmedia', 'redheads', 'Blogging', 'lonely', 'geyik', 'punthreads', 'profile', 'Dissent', 'offensive', 'operabrowser', 'Tasers', 'software', 'Gays', 'nederlands', 'Database', 'love', 'TeamFortress2', 'pittsburgh', 'Atlanta', 'Liberty', 'SEC', 'semanticweb', 'electronics', 'chrome', 'ComputerSecurity', 'app', 'hurts_my_eyes', 'wikipedia', 'religiousdebate', 'smalltalk', 'Python', 'politicstoo', 'interestingasfuck', 'culturalstudies', 'islam', 'WhiteMenGoneWild', 'italy', 'facebook', 'AskReddit', 'Webometrics', 'geek', 'FixedGearBicycle', 'kyonounnsei', 'pwnage', 'Zombie', 'milf', 'euro', 'lego', 'bitteroldmen', 'Jazz', 'panda', 'flash', 'smart', 'neopagan', 'subreddit_complaints', 'cogsci', 'hacking', 'ass', 'webtools', 'encryption', 'ogijun', 'oregon', 'AntiHillary', 'startups', 'activism', 'scala', 'Cooking', 'Cleveland', 'tf2', 'Animals', 'blackhatseo', 'Israel', 'EeePC', 'Fitness', 'Survival', 'Colorado', 'piercing', 'Marijuana', 'norge', 'deutschland', 'LegalTeens', 'shoebush', 'yourweek', 'womenofreddit', 'usa', 'nethack', 'rails', 'lifestyle', 'Ubuntu', 'Conserve', 'worstof', 'computers', 'Capitalism', 'baseball', 'Transhuman', 'Documentaries', 'motherapproves', 'businessnews', 'Charity', 'video', 'sex', 'obama', 'australia', 'Cplusplus', 'fascinating', 'theology', 'ask', 'worldnews2', 'timetravel', 'caregiving', 'Design', 'Jokes', 'ciencia', 'vid', 'Unanimous', 'it', 'florida', 'scene', 'psychology', 'cars', 'ANTISHARIA', 'newyork', 'google', 'egalitarian', 'Entertainment_Gossip', 'MapleLinks', 'Archaeology', 'polls', 'MitchHedberg', 'scientology', 'independent', 'StarWars', 'Pantsless', 'longvideos', 'bitch', 'conspiracies', 'offbeat', 'Brooklyn', 'linguistics', 'singularity', 'entertainment', 'usability', 'ohwhataworld', 'stories', 'MensRights', 'potus08', 'india', 'SonyPS3', 'ASPNET', 'LazyHour', 'lolcats', 'tritit', 'ads', 'shell', 'management', 'progressive', 'ReverseEngineering', 'web_infrastructure', 'genetic_algorithms', 'Paranormal', 'datacompression', 'WeAreTheFilmMakers', 'digg', 'yardsale', 'technology', 'Frugal', 'Libertarian', 'belgium', 'selfhelp', 'intelligent', 'quotes', 'ja', 'gadgets', 'wow', 'mixes', 'test', 'religion', 'bioinformatics', 'culture', 'disability', 'Seattle', 'cannabis', 'tr', 'AmericanPolitics', 'onlycode', 'diabetes', 'zen', 'christmas', 'russia', 'BCCResearch', 'Economics', 'Turkey', 'totosoft', 'agile', 'sandbox', 'Ambientalmente', '_Descary', 'wedding', 'ronpaul', 'nyc', 'hotmanflesh', 'blackculture', 'Art', 'WorldHistory', 'math', 'Marxism', 'blog', 'ukpolitics', 'brasil', 'Health', 'electronicmusic', 'seduction', 'Homebrewing', 'snobs', 'crime', 'Tugimp', 'lisp', 'fakenews', 'freelance', 'Parenting', 'bookclub', 'CARTOON', 'nsfw', 'greece', 'China', 'tedtalks', 'RamaOne', 'arguments', 'Autos', 'ideasfortheadmins', 'YoDawg', 'startrek', 'muxtape', 'hardware', 'justwow', 'browsers', 'Freethought', 'television', 'WeAreTheMusicMakers', 'homeschool', 'awesomereddit', 'eggs', 'loldogs', 'antiterrorism'}\n",
      "\n",
      "6\n",
      "{'dior_lei', 'cimigo', 'Kaede_Rukawa', 'cnbeta', 'colorreddit', '5edwin'}\n",
      "\n",
      "4\n",
      "{'arabic', 'd1g', '7mooode', 'arabicblogs'}\n",
      "\n",
      "2\n",
      "{'hu', 'turkalo'}\n",
      "\n",
      "2\n",
      "{'portugal', '3cs'}\n",
      "\n",
      "2\n",
      "{'Webbook', 'Gamer'}\n"
     ]
    }
   ],
   "source": [
    "print(\"\\n*** SNet greedy modularity communities:\")\n",
    "for c in com.greedy_modularity_communities(SNet):\n",
    "    print()\n",
    "    print(len(c))\n",
    "    print(c)\n",
    "\n",
    "print(\"\\n*** SNet Girvan-Newman communities:\")\n",
    "for t in tuple(sorted(c) for c in next(com.girvan_newman(SNet))):\n",
    "    print()\n",
    "    print(len(t))\n",
    "    print(t)\n",
    "\n",
    "print(\"\\n*** SNet label propagation communities:\")\n",
    "for l in com.label_propagation_communities(SNet):\n",
    "    print()\n",
    "    print(len(l))\n",
    "    print(l)"
   ]
  },
  {
   "cell_type": "code",
   "execution_count": 155,
   "id": "e85eb268",
   "metadata": {},
   "outputs": [
    {
     "name": "stdout",
     "output_type": "stream",
     "text": [
      "\n",
      "*** SNetT greedy modularity communities:\n",
      "\n",
      "39\n",
      "frozenset({'bestof', 'Economics', 'science', 'environment', 'worldnews', 'pics', 'entertainment', 'philosophy', 'guns', 'programming', 'business', 'news', 'math', 'history', 'linux', 'canada', 'Health', 'scifi', 'atheism', 'joel', 'obama', 'politics', 'AskReddit', 'netsec', 'geek', 'videos', 'photography', 'WTF', 'technology', 'cogsci', 'reddit.com', 'nsfw', 'comics', 'gadgets', 'ideas', 'software', 'offbeat', 'gaming', 'funny'})\n",
      "\n",
      "*** SNetT Girvan-Newman communities:\n",
      "\n",
      "1\n",
      "['reddit.com']\n",
      "\n",
      "38\n",
      "['AskReddit', 'Economics', 'Health', 'WTF', 'atheism', 'bestof', 'business', 'canada', 'cogsci', 'comics', 'entertainment', 'environment', 'funny', 'gadgets', 'gaming', 'geek', 'guns', 'history', 'ideas', 'joel', 'linux', 'math', 'netsec', 'news', 'nsfw', 'obama', 'offbeat', 'philosophy', 'photography', 'pics', 'politics', 'programming', 'science', 'scifi', 'software', 'technology', 'videos', 'worldnews']\n",
      "\n",
      "*** SNetT label propagation communities:\n",
      "\n",
      "39\n",
      "{'bestof', 'Economics', 'science', 'environment', 'worldnews', 'pics', 'entertainment', 'philosophy', 'guns', 'programming', 'business', 'news', 'math', 'history', 'linux', 'canada', 'scifi', 'Health', 'obama', 'atheism', 'joel', 'politics', 'AskReddit', 'netsec', 'videos', 'geek', 'photography', 'WTF', 'technology', 'reddit.com', 'cogsci', 'nsfw', 'comics', 'gadgets', 'ideas', 'software', 'offbeat', 'gaming', 'funny'}\n"
     ]
    }
   ],
   "source": [
    "print(\"\\n*** SNetT greedy modularity communities:\")\n",
    "for c in com.greedy_modularity_communities(SNetT):\n",
    "    print()\n",
    "    print(len(c))\n",
    "    print(c)\n",
    "\n",
    "print(\"\\n*** SNetT Girvan-Newman communities:\")\n",
    "for t in tuple(sorted(c) for c in next(com.girvan_newman(SNetT))):\n",
    "    print()\n",
    "    print(len(t))\n",
    "    print(t)\n",
    "\n",
    "print(\"\\n*** SNetT label propagation communities:\")\n",
    "for l in com.label_propagation_communities(SNetT):\n",
    "    print()\n",
    "    print(len(l))\n",
    "    print(l)"
   ]
  },
  {
   "cell_type": "code",
   "execution_count": 156,
   "id": "6c8b1501",
   "metadata": {},
   "outputs": [
    {
     "name": "stdout",
     "output_type": "stream",
     "text": [
      "\n",
      "*** SNetClean greedy modularity communities:\n",
      "\n",
      "629\n",
      "frozenset({'punk', 'karaoke', 'mccainsgaffeoftheday', 'wii', 'Weird_Science', 'Pizza', 'futurenews', 'olympics', 'fail', 'lyrics', 'ITnews', 'teeshirtart', 'Annoying', 'ZinioBest', 'engineering', 'VoteUpIf', 'FIlm', 'FoodBlog', 'redditanonoymous', 'yahoo', 'britpolitics', 'bulgaria', 'redditbay', 'OpenEd', 'Android', 'dotnet', 'security', 'McCain', 'pakistan', 'FantasticContraption', 'climate', 'argentina', 'Gothic', 'asia', 'Basketball', 'Hunting', 'comicbooks', 'shortstories', 'france', 'ralphnader', 'programming', 'spirituality', 'linux', 'broccoli', 'transit', 'poetscorner', 'Fishing', 'videos', 'PhotoBlog', 'WTF', 'trt', 'wackynews', 'dogs', 'confessions', 'germany', 'stripclubs', 'Gifts', 'russian', 'water', 'ipv6', 'p2ptech', 'Pirate', 'memetics', 'samokrutka', 'Spore', 'telescopes', 'lexlinguae', 'classy', 'MusicVideos', 'Cricket', 'BluesMusic', 'bestof', 'AsesoresInversiones', 'rape', 'moonhoax', 'Badass', 'notreallynews', 'longtext', 'pcgaming', 'Debate', 'Catholicism', 'racism', 'tattoos', 'vim', 'BagLovers', 'artistic', 'urbanplanning', 'triangle', 'personals', '2008Olympics', 'schadenfreude', 'matheducation', 'ExDiggers', 'sportscars', 'oversightings', 'stocks', 'HowToDIY', 'jobpostings', 'trippy', 'UpperCanada', 'dostuff', 'nin', 'vids', 'trolling', 'Games', 'propaganda', 'sustainability', 'indierock', 'techbookreviews', 'aviation', 'Baroque', 'myth', 'LiberalHippies', 'language', 'chemistry', 'environment', 'AmericanEconomy', 'PhilosophyCorner', 'worldnews', 'ajax', 'search', 'mexico', 'pandorastations', 'Fish', 'likereddit', 'fallacy', 'motorcycles', 'rap', 'J2EE', 'Switzerland', 'MMORPG', 'reddit.com', 'mypussyhurts', 'types', 'AnnikRubens', 'philadelphia', 'Dietandhealth', 'onlinegames', 'korea', 'lost', 'impoliteconversation', 'merb', 'tacos', 'scripting', 'INTP', 'FinanceNews', 'baduk', 'Infos', 'starcraft', 'TurkeyBacon', 'wenyude', 'nonprofit', 'funny', 'Warcraft', 'riaa', 'Social__Media', 'outrage', 'floss', 'Internet', 'alcohol', 'nanotech', 'InternetMarketing', 'business', 'cocoa', 'git', 'blogger', 'photographers', 'ocaml', 'latinoamerica', 'code', 'Hardcore', 'gender', 'ResistTyranny', 'breakglass', 'Apocalypse', 'wallpapers', 'forum', 'taoism', 'SwampSparrowSucks', 'prolog', 'igr', 'foreignpolicy', 'biology', 'NewAgeReligion', 'Realty', 'Breakfast', 'karma', 'sport', 'voluptuous', 'TrueHorrorStories', 'Equus', 'java', 'breadpig', 'justforkids', 'dotfiles', 'wine', 'Charitable', 'no', 'porn', '2600', 'hip_hop', 'DADA', 'badmusic', 'xTRUMANx', 'grammar', 'nsfwvideos', 'de', 'Islamofascism', 'd_language', 'spammers', 'cheats', 'joos', 'newspapers', 'GlobalistNews', 'Amateur', 'unix', 'discussions', 'soccer', 'monocle', 'sl', 'Kucinich', 'promos', 'redditcompetition', 'Lovecraft', 'science2', 'ChileRemix', 'Twitter', 'Mushrooms', 'ireland', 'Judaism', 'statistics', 'Austin', 'aggieliberal', 'magicTCG', 'Michigan', 'audio', 'windows', 'agi', 'Bondage', 'Discussion', 'spanishlanguagenerds', 'bitch_n_complain', 'housing', 'vegas', 'KiNov', 'ko', 'Attenborough', 'skateboarding', 'AmericanHistory', 'Shortfilms', 'Outdoors', 'Heavymetal', 'mixtape', 'nl', 'warpiggs', 'braga', 'autism', 'texas', 'SocialNews', 'RUI', 'oppositeday', 'LSD', 'sysor', 'PutinforPresident', 'es', 'sceptics', 'Music', 'MediaBias', 'oldlive', 'wireless', 'hardbodies', 'atheism', 'ForumReddit', 'softwaredevelopment', '2008is1929', 'bdsm', 'whine', 'sdcc1', 'WomenOfColor', 'medicine', 'Tcl', 'zine', 'PSP', 'computergraphics', 'dickoftheyear', 'complaints', 'Africa', 'Entrepreneur', 'mediareddit', 'plasma', 'Stargate', 'men', 'cool', 'networking', 'visualization', 'MoosePatrol', 'chess', 'humor', 'Sex_Offender_Issues', 'California', 'MusicFail', 'Celtic', 'Clojure', 'Cheese', 'bittersweet', 'fsharp', 'actlocally', 'sanfrancisco', 'death_metal', 'washingtondc', 'Libraries', 'HorribleIdea', 'Vote_up_if', 'politics', 'featurerequest', 'haskell_proposals', 'CommonLaw', 'catswithbacon', 'ru', 'USPE12', 'dating', 'redsox', 'cuilsucks', 'CanadaVotes2008', 'iPhoneDev', 'gaynsfw', 'comics', 'geospatial', 'Fantasy', 'whedon', 'alaska', 'TimeTravellers', 'GreenProducts', 'mobile', 'unhappy', 'fiction', 'Mullets', 'Slut', 'foodart', 'nuclear', 'Kerala', 'haiku', 'Wordpress', 'religionseriously', 'parent', 'formulaone', 'aodag', 'economics2', 'yro', 'left4dead', 'EnAmerique', 'Futurism', 'smokefree2009', 'photoshop', 'prowrestling', 'nsw', 'virtualization', 'god', 'popper', 'drunk', 'Omemo', 'Desktop_Wallpaper', 'MMJ', 'aynrandreddits', 'bloggerdal', 'goodoldays', 'IntellectualReddit', 'request', 'celebrity', 'manchester', 'athiest', 'nachos', 'fr', 'darwin', 'C_Programming', 'hiphop', 'undead', 'comedy', 'mises', 'spoilers', 'macprogramming', 'graphicnovels', 'just4callie', 'hockey', 'FootballCentral', 'puzzles', 'Omorashi', 'pics', 'codeprojects', 'weed', 'newzealand', 'vegan', 'bollywood', 'scheme', 'espanol', 'redditAnswers', 'penis', 'JamsBio', 'finance2', 'antiwar', 'boston', 'voteup', 'choppers', 'poll', 'SEO', 'magick', 'insomnia', 'Quebec', 'TestMySite', 'Cappuccino', 'sv', 'finance', 'dvd', 'gambling', 'asm', 'Magic', 'iran', 'SuperSwedishGirls', 'gay', 'jobs', 'pl', 'bayarea', 'cycling', 'todayilearned', 'artofpickup', 'hacks', 'gaming', 'emacs', 'meetup', 'science', 'Gunners', 'WikiDashboard', 'fsm', 'spiritual', 'greentea', 'typography', 'work', 'inspirational', 'AdultChildren', 'Objectivism', 'poker', 'news', 'Dr_Horrible', 'Scotland', 'LaTeX', 'WorldWidePolitics', 'podcasts', 'secondlife', 'Vegetarianism', 'gnu', 'norulesMMA', 'Iceland', 'xbox360', 'chicago', 'functional', 'onlinejournalism', 'features', 'NonAustrianEconomics', 'Webmaster', 'redheads', 'GlobalEconomy', 'Blogging', 'lonely', 'geyik', 'punthreads', 'profile', 'Dissent', 'operabrowser', 'Tasers', 'offensive', 'Gays', 'nederlands', 'Database', 'TeamFortress2', 'pittsburgh', 'Atlanta', 'SEC', 'semanticweb', 'electronics', 'chrome', 'app', 'smalltalk', 'religiousdebate', 'politicstoo', 'culturalstudies', 'Zombie', 'facebook', 'Webometrics', 'FixedGearBicycle', 'italy', 'AskReddit', 'geek', 'kyonounnsei', 'pwnage', 'milf', 'lego', 'bitteroldmen', 'Jazz', 'panda', 'flash', 'smart', 'neopagan', 'hacking', 'webtools', 'subreddit_complaints', 'encryption', 'oregon', 'AntiHillary', 'ogijun', 'activism', 'scala', 'Cleveland', 'tf2', 'blackhatseo', 'EeePC', 'Colorado', 'norge', 'piercing', 'deutschland', 'LegalTeens', 'shoebush', 'womenofreddit', 'nethack', 'rails', 'lifestyle', 'Conserve', 'Capitalism', 'computers', 'baseball', 'motherapproves', 'businessnews', 'Charity', 'obama', 'Cplusplus', 'theology', 'timetravel', 'caregiving', 'vid', 'ciencia', 'it', 'florida', 'scene', 'cars', 'ANTISHARIA', 'newyork', 'Entertainment_Gossip', 'MapleLinks', 'Archaeology', 'polls', 'MitchHedberg', 'StarWars', 'Pantsless', 'longvideos', 'bitch', 'Brooklyn', 'offbeat', 'usability', 'entertainment', 'stories', 'potus08', 'ASPNET', 'SonyPS3', 'LazyHour', 'tritit', 'web_infrastructure', 'shell', 'genetic_algorithms', 'management', 'progressive', 'datacompression', 'WeAreTheFilmMakers', 'yardsale', 'technology', 'belgium', 'intelligent', 'quotes', 'ja', 'gadgets', 'wow', 'mixes', 'test', 'bioinformatics', 'disability', 'Seattle', 'cannabis', 'tr', 'onlycode', 'diabetes', 'christmas', 'russia', 'BCCResearch', 'Turkey', 'Economics', 'agile', 'sandbox', 'Ambientalmente', '_Descary', 'wedding', 'hotmanflesh', 'blackculture', 'WorldHistory', 'Marxism', 'blog', 'brasil', 'Health', 'electronicmusic', 'seduction', 'Homebrewing', 'Tugimp', 'fakenews', 'freelance', 'CARTOON', 'nsfw', 'greece', 'China', 'tedtalks', 'RamaOne', 'arguments', 'Autos', 'ideasfortheadmins', 'YoDawg', 'startrek', 'muxtape', 'justwow', 'awesomereddit', 'homeschool', 'eggs', 'loldogs', 'antiterrorism'})\n",
      "\n",
      "260\n",
      "frozenset({'Christianity', 'happy', 'Josie', 'guns', 'windowshots', 'askJeph', 'history', 'joel', 'apple', 'netsec', 'books', 'zombies', 'PalinProblem', 'gossip', 'Drugs', 'women', 'occult', 'USPE08', 'evolution', 'celebrities', 'investing', 'redditdev', 'lectures', 'idea', 'bash', 'astro', 'web_design', 'beer', 'testtest', 'Coffee', 'feminisms', 'firefox', 'compsci', 'giveaways', 'javascript', 'scifi', 'musicians', 'cnbeta', 'photography', 'howto', 'anime', 'education', 'AmericanGovernment', 'kde', 'japan', 'dailywtf', 'nature', 'freemusic', 'things', 'webcomics', 'food', 'torrents', 'cpp', 'LosAngeles', 'BSD', 'skeptic', 'geopolitics', 'government', 'contraptions', 'Anarchism', 'cute', 'craigslist', 'BlackOps', 'ourex', 'erlang', 'Chinese', 'furry', 'Socialize', 'lgbt', 'meta', 'ruby', 'Boobies', 'Astronomy', 'DIY', 'askXKCD', 'auto', 'perl', 'robotics', 'askcheez', 'Physics', 'media', 'blogs', 'Conservative', 'PHP', 'epicthread', 'SinoBeta', 'opensource', 'gonewild', 'haskell', 'energy', 'WebGames', 'tech', 'social_bookmarking', 'ideas', 'self', 'Poetry', 'hackers', 'Anthropology', 'newreddits', 'xkcd', 'sociology', 'collapse', 'l33t', 'worldpolitics', 'law', 'Pictures', 'aww', 'marketing', 'doctorwho', 'sports', 'productivity', 'XYON', 'lullaby', 'architecture', 'unitedkingdom', 'writing', 'WebNews', 'UFOs', 'hrw', 'veg', 'Buddhism', 'socialmedia', 'Military', 'economy', 'lol', 'software', 'travel', 'ZenHabits', 'love', 'bestofcraigslist', 'conspiracy', 'Liberty', 'philosophy', 'ComputerSecurity', 'wikipedia', 'england', 'MMA', 'hurts_my_eyes', 'rpg', 'Python', 'Guitar', 'interestingasfuck', 'islam', 'WhiteMenGoneWild', 'euro', 'SuicideWatch', 'cogsci', 'Graffiti', 'ass', 'mac', 'startups', 'bicycling', '5edwin', 'Cooking', 'literature', 'Animals', 'wackyworld', 'Israel', 'Fitness', 'Survival', 'movies', 'Marijuana', 'AnimalRights', 'yourweek', 'usa', 'Metal', 'Ubuntu', '911truth', 'redditchan', 'worstof', 'Transhuman', 'Documentaries', 'sex', 'video', 'war', 'australia', 'area51', 'fascinating', 'ask', 'worldnews2', 'gardening', 'Sexy', 'Design', 'Jokes', 'Unanimous', 'psychology', 'egalitarian', 'google', '4chan', 'pssnaked', 'scientology', 'independent', 'Kaede_Rukawa', 'conspiracies', 'linguistics', 'singularity', 'fashion', 'ohwhataworld', 'MensRights', 'india', 'space', 'lolcats', 'iphone', 'ReverseEngineering', 'ads', 'Paranormal', 'digg', 'lovereddit', 'Frugal', 'Libertarian', 'Cryptogon', 'selfhelp', 'Green', 'SewerHorse', 'pic', 'religion', 'culture', 'zh', 'AmericanPolitics', 'zen', 'microsoft', 'totosoft', 'animation', 'django', 'ronpaul', 'colorreddit', 'recipes', 'nyc', 'osx', 'Art', 'WorldWideNews', 'math', 'bugs', 'ukpolitics', 'canada', 'snobs', 'PoliticalHumor', 'crime', 'lisp', 'Parenting', 'bookclub', 'BestGamesEver', 'dior_lei', 'socialism', 'lamengao', 'Pets', 'europe', 'antibacon', 'ArtCrit', 'youtube', 'PS3', 'hardware', 'browsers', 'cimigo', 'Freethought', 'television', 'WeAreTheMusicMakers', 'lists', 'Bacon', 'scientific'})\n",
      "\n",
      "4\n",
      "frozenset({'arabic', 'd1g', '7mooode', 'arabicblogs'})\n",
      "\n",
      "2\n",
      "frozenset({'turkalo', 'hu'})\n",
      "\n",
      "2\n",
      "frozenset({'Webbook', 'Gamer'})\n",
      "\n",
      "2\n",
      "frozenset({'portugal', '3cs'})\n",
      "\n",
      "*** SNetClean Girvan-Newman communities:\n"
     ]
    },
    {
     "name": "stdout",
     "output_type": "stream",
     "text": [
      "\n",
      "893\n",
      "['2008Olympics', '2008is1929', '2600', '4chan', '5edwin', '911truth', 'ANTISHARIA', 'ASPNET', 'AdultChildren', 'Africa', 'Amateur', 'Ambientalmente', 'AmericanEconomy', 'AmericanGovernment', 'AmericanHistory', 'AmericanPolitics', 'Anarchism', 'Android', 'AnimalRights', 'Animals', 'AnnikRubens', 'Annoying', 'Anthropology', 'AntiHillary', 'Apocalypse', 'Archaeology', 'Art', 'ArtCrit', 'AsesoresInversiones', 'AskReddit', 'Astronomy', 'Atlanta', 'Attenborough', 'Austin', 'Autos', 'BCCResearch', 'BSD', 'Bacon', 'Badass', 'BagLovers', 'Baroque', 'Basketball', 'BestGamesEver', 'BlackOps', 'Blogging', 'BluesMusic', 'Bondage', 'Boobies', 'Breakfast', 'Brooklyn', 'Buddhism', 'CARTOON', 'C_Programming', 'California', 'CanadaVotes2008', 'Capitalism', 'Cappuccino', 'Catholicism', 'Celtic', 'Charitable', 'Charity', 'Cheese', 'ChileRemix', 'China', 'Chinese', 'Christianity', 'Cleveland', 'Clojure', 'Coffee', 'Colorado', 'CommonLaw', 'ComputerSecurity', 'Conservative', 'Conserve', 'Cooking', 'Cplusplus', 'Cricket', 'Cryptogon', 'DADA', 'DIY', 'Database', 'Debate', 'Design', 'Desktop_Wallpaper', 'Dietandhealth', 'Discussion', 'Dissent', 'Documentaries', 'Dr_Horrible', 'Drugs', 'Economics', 'EeePC', 'EnAmerique', 'Entertainment_Gossip', 'Entrepreneur', 'Equus', 'ExDiggers', 'FIlm', 'FantasticContraption', 'Fantasy', 'FinanceNews', 'Fish', 'Fishing', 'Fitness', 'FixedGearBicycle', 'FoodBlog', 'FootballCentral', 'ForumReddit', 'Freethought', 'Frugal', 'Futurism', 'Gamer', 'Games', 'Gays', 'Gifts', 'GlobalEconomy', 'GlobalistNews', 'Gothic', 'Graffiti', 'Green', 'GreenProducts', 'Guitar', 'Gunners', 'Hardcore', 'Health', 'Heavymetal', 'Homebrewing', 'HorribleIdea', 'HowToDIY', 'Hunting', 'INTP', 'ITnews', 'Iceland', 'Infos', 'IntellectualReddit', 'Internet', 'InternetMarketing', 'Islamofascism', 'Israel', 'J2EE', 'JamsBio', 'Jazz', 'Jokes', 'Josie', 'Judaism', 'Kaede_Rukawa', 'Kerala', 'KiNov', 'Kucinich', 'LSD', 'LaTeX', 'LazyHour', 'LegalTeens', 'LiberalHippies', 'Libertarian', 'Liberty', 'Libraries', 'LosAngeles', 'Lovecraft', 'MMA', 'MMJ', 'MMORPG', 'Magic', 'MapleLinks', 'Marijuana', 'Marxism', 'McCain', 'MediaBias', 'MensRights', 'Metal', 'Michigan', 'Military', 'MitchHedberg', 'MoosePatrol', 'Mullets', 'Mushrooms', 'Music', 'MusicFail', 'MusicVideos', 'NewAgeReligion', 'NonAustrianEconomics', 'Objectivism', 'Omemo', 'Omorashi', 'OpenEd', 'Outdoors', 'PHP', 'PS3', 'PSP', 'PalinProblem', 'Pantsless', 'Paranormal', 'Parenting', 'Pets', 'PhilosophyCorner', 'PhotoBlog', 'Physics', 'Pictures', 'Pirate', 'Pizza', 'Poetry', 'PoliticalHumor', 'PutinforPresident', 'Python', 'Quebec', 'RUI', 'RamaOne', 'Realty', 'ResistTyranny', 'ReverseEngineering', 'SEC', 'SEO', 'Scotland', 'Seattle', 'SewerHorse', 'Sex_Offender_Issues', 'Sexy', 'Shortfilms', 'SinoBeta', 'Slut', 'SocialNews', 'Social__Media', 'Socialize', 'SonyPS3', 'Spore', 'StarWars', 'Stargate', 'SuicideWatch', 'SuperSwedishGirls', 'Survival', 'SwampSparrowSucks', 'Switzerland', 'Tasers', 'Tcl', 'TeamFortress2', 'TestMySite', 'TimeTravellers', 'Transhuman', 'TrueHorrorStories', 'Tugimp', 'Turkey', 'TurkeyBacon', 'Twitter', 'UFOs', 'USPE08', 'USPE12', 'Ubuntu', 'Unanimous', 'UpperCanada', 'Vegetarianism', 'VoteUpIf', 'Vote_up_if', 'WTF', 'Warcraft', 'WeAreTheFilmMakers', 'WeAreTheMusicMakers', 'WebGames', 'WebNews', 'Webbook', 'Webmaster', 'Webometrics', 'Weird_Science', 'WhiteMenGoneWild', 'WikiDashboard', 'WomenOfColor', 'Wordpress', 'WorldHistory', 'WorldWideNews', 'WorldWidePolitics', 'XYON', 'YoDawg', 'ZenHabits', 'ZinioBest', 'Zombie', '_Descary', 'activism', 'actlocally', 'ads', 'aggieliberal', 'agi', 'agile', 'ajax', 'alaska', 'alcohol', 'animation', 'anime', 'antibacon', 'antiterrorism', 'antiwar', 'aodag', 'app', 'apple', 'architecture', 'area51', 'argentina', 'arguments', 'artistic', 'artofpickup', 'asia', 'ask', 'askJeph', 'askXKCD', 'askcheez', 'asm', 'ass', 'astro', 'atheism', 'athiest', 'audio', 'australia', 'autism', 'auto', 'aviation', 'awesomereddit', 'aww', 'aynrandreddits', 'badmusic', 'baduk', 'baseball', 'bash', 'bayarea', 'bdsm', 'beer', 'belgium', 'bestof', 'bestofcraigslist', 'bicycling', 'bioinformatics', 'biology', 'bitch', 'bitch_n_complain', 'bitteroldmen', 'bittersweet', 'blackculture', 'blackhatseo', 'blog', 'blogger', 'bloggerdal', 'blogs', 'bollywood', 'bookclub', 'books', 'boston', 'braga', 'brasil', 'breadpig', 'breakglass', 'britpolitics', 'broccoli', 'browsers', 'bugs', 'bulgaria', 'business', 'businessnews', 'canada', 'cannabis', 'caregiving', 'cars', 'catswithbacon', 'celebrities', 'celebrity', 'cheats', 'chemistry', 'chess', 'chicago', 'choppers', 'christmas', 'chrome', 'ciencia', 'cimigo', 'classy', 'climate', 'cnbeta', 'cocoa', 'code', 'codeprojects', 'cogsci', 'collapse', 'colorreddit', 'comedy', 'comicbooks', 'comics', 'complaints', 'compsci', 'computergraphics', 'computers', 'confessions', 'conspiracies', 'conspiracy', 'contraptions', 'cool', 'cpp', 'craigslist', 'crime', 'cuilsucks', 'culturalstudies', 'culture', 'cute', 'cycling', 'd_language', 'dailywtf', 'darwin', 'datacompression', 'dating', 'de', 'death_metal', 'deutschland', 'diabetes', 'dickoftheyear', 'digg', 'dior_lei', 'disability', 'discussions', 'django', 'doctorwho', 'dogs', 'dostuff', 'dotfiles', 'dotnet', 'drunk', 'dvd', 'economics2', 'economy', 'education', 'egalitarian', 'eggs', 'electronicmusic', 'electronics', 'emacs', 'encryption', 'energy', 'engineering', 'england', 'entertainment', 'environment', 'epicthread', 'erlang', 'es', 'espanol', 'euro', 'europe', 'evolution', 'facebook', 'fail', 'fakenews', 'fallacy', 'fascinating', 'fashion', 'featurerequest', 'features', 'feminisms', 'fiction', 'finance', 'finance2', 'firefox', 'flash', 'florida', 'floss', 'food', 'foodart', 'foreignpolicy', 'formulaone', 'forum', 'fr', 'france', 'freelance', 'freemusic', 'fsharp', 'fsm', 'functional', 'funny', 'furry', 'futurenews', 'gadgets', 'gambling', 'gaming', 'gardening', 'gay', 'gaynsfw', 'geek', 'gender', 'genetic_algorithms', 'geopolitics', 'geospatial', 'germany', 'geyik', 'git', 'giveaways', 'gnu', 'god', 'gonewild', 'goodoldays', 'google', 'gossip', 'government', 'grammar', 'graphicnovels', 'greece', 'greentea', 'guns', 'hackers', 'hacking', 'hacks', 'haiku', 'happy', 'hardbodies', 'hardware', 'haskell', 'haskell_proposals', 'hip_hop', 'hiphop', 'history', 'hockey', 'homeschool', 'hotmanflesh', 'housing', 'howto', 'hrw', 'hu', 'humor', 'hurts_my_eyes', 'iPhoneDev', 'idea', 'ideas', 'ideasfortheadmins', 'igr', 'impoliteconversation', 'independent', 'india', 'indierock', 'insomnia', 'inspirational', 'intelligent', 'interestingasfuck', 'investing', 'iphone', 'ipv6', 'iran', 'ireland', 'islam', 'it', 'italy', 'ja', 'japan', 'java', 'javascript', 'jobpostings', 'jobs', 'joel', 'joos', 'just4callie', 'justforkids', 'justwow', 'karaoke', 'karma', 'kde', 'ko', 'korea', 'kyonounnsei', 'l33t', 'lamengao', 'language', 'latinoamerica', 'law', 'lectures', 'left4dead', 'lego', 'lexlinguae', 'lgbt', 'lifestyle', 'likereddit', 'linguistics', 'linux', 'lisp', 'lists', 'literature', 'lol', 'lolcats', 'loldogs', 'lonely', 'longtext', 'longvideos', 'lost', 'love', 'lovereddit', 'lullaby', 'lyrics', 'mac', 'macprogramming', 'magicTCG', 'magick', 'management', 'manchester', 'marketing', 'math', 'matheducation', 'mccainsgaffeoftheday', 'media', 'mediareddit', 'medicine', 'meetup', 'memetics', 'men', 'merb', 'meta', 'mexico', 'microsoft', 'milf', 'mises', 'mixes', 'mixtape', 'mobile', 'monocle', 'moonhoax', 'motherapproves', 'motorcycles', 'movies', 'musicians', 'muxtape', 'mypussyhurts', 'myth', 'nachos', 'nanotech', 'nature', 'nederlands', 'neopagan', 'nethack', 'netsec', 'networking', 'newreddits', 'news', 'newspapers', 'newyork', 'newzealand', 'nin', 'nl', 'no', 'nonprofit', 'norge', 'norulesMMA', 'notreallynews', 'nsfw', 'nsfwvideos', 'nsw', 'nuclear', 'nyc', 'obama', 'ocaml', 'occult', 'offbeat', 'offensive', 'ogijun', 'ohwhataworld', 'oldlive', 'olympics', 'onlinegames', 'onlinejournalism', 'onlycode', 'opensource', 'operabrowser', 'oppositeday', 'oregon', 'osx', 'ourex', 'outrage', 'oversightings', 'p2ptech', 'pakistan', 'panda', 'pandorastations', 'parent', 'pcgaming', 'penis', 'perl', 'personals', 'philadelphia', 'philosophy', 'photographers', 'photography', 'photoshop', 'pic', 'pics', 'piercing', 'pittsburgh', 'pl', 'plasma', 'podcasts', 'poetscorner', 'poker', 'politics', 'politicstoo', 'poll', 'polls', 'popper', 'porn', 'potus08', 'productivity', 'profile', 'programming', 'progressive', 'prolog', 'promos', 'propaganda', 'prowrestling', 'pssnaked', 'psychology', 'punk', 'punthreads', 'puzzles', 'pwnage', 'quotes', 'racism', 'rails', 'ralphnader', 'rap', 'rape', 'recipes', 'reddit.com', 'redditAnswers', 'redditanonoymous', 'redditbay', 'redditchan', 'redditcompetition', 'redditdev', 'redheads', 'redsox', 'religion', 'religionseriously', 'religiousdebate', 'request', 'riaa', 'robotics', 'ronpaul', 'rpg', 'ru', 'ruby', 'russia', 'russian', 'samokrutka', 'sandbox', 'sanfrancisco', 'scala', 'scene', 'sceptics', 'schadenfreude', 'scheme', 'science', 'science2', 'scientific', 'scientology', 'scifi', 'scripting', 'sdcc1', 'search', 'secondlife', 'security', 'seduction', 'self', 'selfhelp', 'semanticweb', 'sex', 'shell', 'shoebush', 'shortstories', 'singularity', 'skateboarding', 'skeptic', 'sl', 'smalltalk', 'smart', 'smokefree2009', 'snobs', 'soccer', 'social_bookmarking', 'socialism', 'socialmedia', 'sociology', 'software', 'softwaredevelopment', 'space', 'spammers', 'spanishlanguagenerds', 'spiritual', 'spirituality', 'spoilers', 'sport', 'sports', 'sportscars', 'starcraft', 'startrek', 'startups', 'statistics', 'stocks', 'stories', 'stripclubs', 'subreddit_complaints', 'sustainability', 'sv', 'sysor', 'tacos', 'taoism', 'tattoos', 'tech', 'techbookreviews', 'technology', 'tedtalks', 'teeshirtart', 'telescopes', 'television', 'test', 'testtest', 'texas', 'tf2', 'theology', 'things', 'timetravel', 'todayilearned', 'torrents', 'totosoft', 'tr', 'transit', 'travel', 'triangle', 'trippy', 'tritit', 'trolling', 'trt', 'turkalo', 'types', 'typography', 'ukpolitics', 'undead', 'unhappy', 'unitedkingdom', 'unix', 'urbanplanning', 'usa', 'usability', 'veg', 'vegan', 'vegas', 'vid', 'video', 'videos', 'vids', 'vim', 'virtualization', 'visualization', 'voluptuous', 'voteup', 'wackynews', 'wackyworld', 'wallpapers', 'war', 'warpiggs', 'washingtondc', 'water', 'web_design', 'web_infrastructure', 'webcomics', 'webtools', 'wedding', 'weed', 'wenyude', 'whedon', 'whine', 'wii', 'wikipedia', 'windows', 'windowshots', 'wine', 'wireless', 'women', 'womenofreddit', 'work', 'worldnews', 'worldnews2', 'worldpolitics', 'worstof', 'wow', 'writing', 'xTRUMANx', 'xbox360', 'xkcd', 'yahoo', 'yardsale', 'yourweek', 'youtube', 'yro', 'zen', 'zh', 'zine', 'zombies']\n",
      "\n",
      "4\n",
      "['7mooode', 'arabic', 'arabicblogs', 'd1g']\n",
      "\n",
      "2\n",
      "['3cs', 'portugal']\n",
      "\n",
      "*** SNetClean label propagation communities:\n",
      "\n",
      "883\n",
      "{'Christianity', 'karaoke', 'mccainsgaffeoftheday', 'punk', 'wii', 'olympics', 'futurenews', 'Pizza', 'Weird_Science', 'fail', 'happy', 'Josie', 'guns', 'lyrics', 'askJeph', 'ITnews', 'teeshirtart', 'apple', 'Annoying', 'netsec', 'ZinioBest', 'engineering', 'VoteUpIf', 'FIlm', 'FoodBlog', 'books', 'zombies', 'PalinProblem', 'redditanonoymous', 'gossip', 'yahoo', 'britpolitics', 'bulgaria', 'redditbay', 'OpenEd', 'Android', 'occult', 'dotnet', 'security', 'McCain', 'pakistan', 'FantasticContraption', 'climate', 'redditdev', 'argentina', 'Gothic', 'asia', 'astro', 'testtest', 'Basketball', 'Hunting', 'comicbooks', 'shortstories', 'france', 'ralphnader', 'programming', 'spirituality', 'linux', 'broccoli', 'musicians', 'transit', 'poetscorner', 'videos', 'Fishing', 'PhotoBlog', 'WTF', 'trt', 'wackynews', 'dogs', 'confessions', 'anime', 'germany', 'stripclubs', 'Gifts', 'water', 'russian', 'ipv6', 'p2ptech', 'memetics', 'Pirate', 'dailywtf', 'freemusic', 'webcomics', 'samokrutka', 'torrents', 'Spore', 'cpp', 'lexlinguae', 'telescopes', 'LosAngeles', 'skeptic', 'geopolitics', 'classy', 'MusicVideos', 'Cricket', 'BluesMusic', 'government', 'bestof', 'AsesoresInversiones', 'rape', 'moonhoax', 'Badass', 'cute', 'notreallynews', 'longtext', 'pcgaming', 'Debate', 'Catholicism', 'furry', 'racism', 'lgbt', 'meta', 'tattoos', 'Boobies', 'Astronomy', 'DIY', 'vim', 'artistic', 'BagLovers', 'triangle', 'urbanplanning', 'personals', 'robotics', '2008Olympics', 'schadenfreude', 'matheducation', 'askcheez', 'ExDiggers', 'Physics', 'sportscars', 'blogs', 'Conservative', 'oversightings', 'SinoBeta', 'haskell', 'stocks', 'HowToDIY', 'energy', 'WebGames', 'jobpostings', 'trippy', 'social_bookmarking', 'UpperCanada', 'dostuff', 'nin', 'vids', 'trolling', 'Games', 'propaganda', 'sustainability', 'indierock', 'techbookreviews', 'aviation', 'hackers', 'Anthropology', 'myth', 'Baroque', 'LiberalHippies', 'xkcd', 'language', 'chemistry', 'sociology', 'collapse', 'environment', 'worldnews', 'AmericanEconomy', 'PhilosophyCorner', 'ajax', 'search', 'mexico', 'law', 'pandorastations', 'marketing', 'Fish', 'likereddit', 'fallacy', 'motorcycles', 'rap', 'sports', 'productivity', 'J2EE', 'Switzerland', 'lullaby', 'MMORPG', 'reddit.com', 'mypussyhurts', 'types', 'AnnikRubens', 'WebNews', 'Dietandhealth', 'onlinegames', 'philadelphia', 'korea', 'Buddhism', 'lost', 'impoliteconversation', 'merb', 'Military', 'scripting', 'tacos', 'INTP', 'FinanceNews', 'economy', 'baduk', 'lol', 'Infos', 'starcraft', 'TurkeyBacon', 'travel', 'wenyude', 'nonprofit', 'ZenHabits', 'funny', 'Warcraft', 'bestofcraigslist', 'conspiracy', 'Social__Media', 'riaa', 'outrage', 'floss', 'Internet', 'philosophy', 'nanotech', 'alcohol', 'england', 'MMA', 'InternetMarketing', 'business', 'rpg', 'Guitar', 'cocoa', 'git', 'blogger', 'photographers', 'ocaml', 'latinoamerica', 'code', 'Hardcore', 'gender', 'ResistTyranny', 'breakglass', 'Apocalypse', 'SuicideWatch', 'Graffiti', 'wallpapers', 'forum', 'mac', 'taoism', 'SwampSparrowSucks', 'prolog', 'foreignpolicy', 'igr', 'bicycling', 'literature', 'biology', 'NewAgeReligion', 'wackyworld', 'Breakfast', 'Realty', 'karma', 'sport', 'voluptuous', 'movies', 'TrueHorrorStories', 'Equus', 'java', 'breadpig', 'justforkids', 'dotfiles', 'AnimalRights', 'wine', 'Charitable', 'no', 'Metal', 'porn', '2600', 'DADA', 'hip_hop', 'badmusic', '911truth', 'redditchan', 'xTRUMANx', 'grammar', 'nsfwvideos', 'de', 'd_language', 'Islamofascism', 'war', 'spammers', 'cheats', 'joos', 'newspapers', 'area51', 'GlobalistNews', 'gardening', 'Sexy', 'Amateur', 'unix', 'discussions', '4chan', 'soccer', 'pssnaked', 'monocle', 'sl', 'Kucinich', 'promos', 'redditcompetition', 'Lovecraft', 'science2', 'ChileRemix', 'Twitter', 'Mushrooms', 'ireland', 'Judaism', 'statistics', 'fashion', 'Austin', 'aggieliberal', 'magicTCG', 'Michigan', 'audio', 'space', 'windows', 'agi', 'Bondage', 'iphone', 'Discussion', 'spanishlanguagenerds', 'lovereddit', 'bitch_n_complain', 'Cryptogon', 'Green', 'housing', 'vegas', 'KiNov', 'ko', 'Attenborough', 'skateboarding', 'AmericanHistory', 'SewerHorse', 'Shortfilms', 'Outdoors', 'pic', 'Heavymetal', 'mixtape', 'nl', 'zh', 'braga', 'warpiggs', 'autism', 'texas', 'SocialNews', 'RUI', 'oppositeday', 'microsoft', 'animation', 'django', 'LSD', 'sysor', 'recipes', 'PutinforPresident', 'osx', 'es', 'sceptics', 'Music', 'MediaBias', 'WorldWideNews', 'bugs', 'wireless', 'oldlive', 'hardbodies', 'canada', 'atheism', 'softwaredevelopment', 'PoliticalHumor', 'ForumReddit', '2008is1929', 'bdsm', 'whine', 'sdcc1', 'medicine', 'WomenOfColor', 'Tcl', 'BestGamesEver', 'zine', 'PSP', 'computergraphics', 'dickoftheyear', 'socialism', 'complaints', 'Africa', 'Entrepreneur', 'lamengao', 'Pets', 'mediareddit', 'europe', 'youtube', 'antibacon', 'ArtCrit', 'plasma', 'Stargate', 'PS3', 'men', 'cool', 'networking', 'visualization', 'MoosePatrol', 'chess', 'humor', 'lists', 'Sex_Offender_Issues', 'California', 'Bacon', 'Celtic', 'MusicFail', 'scientific', 'Clojure', 'Cheese', 'bittersweet', 'fsharp', 'actlocally', 'sanfrancisco', 'death_metal', 'windowshots', 'washingtondc', 'Libraries', 'history', 'Vote_up_if', 'HorribleIdea', 'joel', 'politics', 'featurerequest', 'haskell_proposals', 'catswithbacon', 'CommonLaw', 'ru', 'dating', 'USPE12', 'redsox', 'cuilsucks', 'CanadaVotes2008', 'iPhoneDev', 'gaynsfw', 'comics', 'geospatial', 'Fantasy', 'whedon', 'Drugs', 'alaska', 'women', 'TimeTravellers', 'USPE08', 'GreenProducts', 'evolution', 'mobile', 'unhappy', 'fiction', 'Mullets', 'celebrities', 'investing', 'Slut', 'lectures', 'foodart', 'idea', 'nuclear', 'bash', 'Kerala', 'haiku', 'Wordpress', 'web_design', 'religionseriously', 'beer', 'parent', 'formulaone', 'aodag', 'Coffee', 'yro', 'left4dead', 'feminisms', 'compsci', 'firefox', 'economics2', 'EnAmerique', 'Futurism', 'prowrestling', 'photoshop', 'smokefree2009', 'giveaways', 'javascript', 'nsw', 'scifi', 'virtualization', 'god', 'popper', 'drunk', 'photography', 'Omemo', 'Desktop_Wallpaper', 'howto', 'MMJ', 'aynrandreddits', 'bloggerdal', 'goodoldays', 'IntellectualReddit', 'education', 'request', 'manchester', 'athiest', 'celebrity', 'nachos', 'fr', 'darwin', 'AmericanGovernment', 'kde', 'C_Programming', 'hiphop', 'japan', 'undead', 'nature', 'comedy', 'things', 'mises', 'food', 'spoilers', 'BSD', 'macprogramming', 'graphicnovels', 'just4callie', 'FootballCentral', 'hockey', 'contraptions', 'Anarchism', 'craigslist', 'puzzles', 'Omorashi', 'erlang', 'pics', 'ourex', 'codeprojects', 'weed', 'BlackOps', 'newzealand', 'Chinese', 'vegan', 'bollywood', 'Socialize', 'scheme', 'ruby', 'espanol', 'finance2', 'penis', 'JamsBio', 'redditAnswers', 'antiwar', 'askXKCD', 'auto', 'perl', 'boston', 'voteup', 'choppers', 'poll', 'SEO', 'media', 'magick', 'insomnia', 'PHP', 'Quebec', 'TestMySite', 'Cappuccino', 'epicthread', 'opensource', 'gonewild', 'finance', 'sv', 'dvd', 'gambling', 'asm', 'Magic', 'iran', 'tech', 'SuperSwedishGirls', 'ideas', 'jobs', 'gay', 'pl', 'bayarea', 'cycling', 'todayilearned', 'artofpickup', 'self', 'hacks', 'gaming', 'Poetry', 'emacs', 'newreddits', 'meetup', 'science', 'Gunners', 'WikiDashboard', 'fsm', 'spiritual', 'l33t', 'typography', 'greentea', 'worldpolitics', 'work', 'inspirational', 'poker', 'Objectivism', 'news', 'AdultChildren', 'Dr_Horrible', 'Pictures', 'aww', 'Scotland', 'WorldWidePolitics', 'LaTeX', 'doctorwho', 'podcasts', 'secondlife', 'Vegetarianism', 'XYON', 'gnu', 'norulesMMA', 'Iceland', 'xbox360', 'chicago', 'architecture', 'functional', 'onlinejournalism', 'unitedkingdom', 'features', 'writing', 'UFOs', 'NonAustrianEconomics', 'Webmaster', 'hrw', 'GlobalEconomy', 'veg', 'socialmedia', 'redheads', 'Blogging', 'lonely', 'geyik', 'punthreads', 'profile', 'Dissent', 'offensive', 'operabrowser', 'Tasers', 'software', 'Gays', 'nederlands', 'Database', 'love', 'TeamFortress2', 'pittsburgh', 'Atlanta', 'Liberty', 'SEC', 'semanticweb', 'electronics', 'chrome', 'ComputerSecurity', 'app', 'hurts_my_eyes', 'wikipedia', 'religiousdebate', 'smalltalk', 'Python', 'politicstoo', 'interestingasfuck', 'culturalstudies', 'islam', 'WhiteMenGoneWild', 'italy', 'facebook', 'AskReddit', 'Webometrics', 'geek', 'FixedGearBicycle', 'kyonounnsei', 'pwnage', 'Zombie', 'milf', 'euro', 'lego', 'bitteroldmen', 'Jazz', 'panda', 'flash', 'smart', 'neopagan', 'subreddit_complaints', 'cogsci', 'hacking', 'ass', 'webtools', 'encryption', 'ogijun', 'oregon', 'AntiHillary', 'startups', 'activism', 'scala', 'Cooking', 'Cleveland', 'tf2', 'Animals', 'blackhatseo', 'Israel', 'EeePC', 'Fitness', 'Survival', 'Colorado', 'piercing', 'Marijuana', 'norge', 'deutschland', 'LegalTeens', 'shoebush', 'yourweek', 'womenofreddit', 'usa', 'nethack', 'rails', 'lifestyle', 'Ubuntu', 'Conserve', 'worstof', 'computers', 'Capitalism', 'baseball', 'Transhuman', 'Documentaries', 'motherapproves', 'businessnews', 'Charity', 'video', 'sex', 'obama', 'australia', 'Cplusplus', 'fascinating', 'theology', 'ask', 'worldnews2', 'timetravel', 'caregiving', 'Design', 'Jokes', 'ciencia', 'vid', 'Unanimous', 'it', 'florida', 'scene', 'psychology', 'cars', 'ANTISHARIA', 'newyork', 'google', 'egalitarian', 'Entertainment_Gossip', 'MapleLinks', 'Archaeology', 'polls', 'MitchHedberg', 'scientology', 'independent', 'StarWars', 'Pantsless', 'longvideos', 'bitch', 'conspiracies', 'offbeat', 'Brooklyn', 'linguistics', 'singularity', 'entertainment', 'usability', 'ohwhataworld', 'stories', 'MensRights', 'potus08', 'india', 'SonyPS3', 'ASPNET', 'LazyHour', 'lolcats', 'tritit', 'ads', 'shell', 'management', 'progressive', 'ReverseEngineering', 'web_infrastructure', 'genetic_algorithms', 'Paranormal', 'datacompression', 'WeAreTheFilmMakers', 'digg', 'yardsale', 'technology', 'Frugal', 'Libertarian', 'belgium', 'selfhelp', 'intelligent', 'quotes', 'ja', 'gadgets', 'wow', 'mixes', 'test', 'religion', 'bioinformatics', 'culture', 'disability', 'Seattle', 'cannabis', 'tr', 'AmericanPolitics', 'onlycode', 'diabetes', 'zen', 'christmas', 'russia', 'BCCResearch', 'Economics', 'Turkey', 'totosoft', 'agile', 'sandbox', 'Ambientalmente', '_Descary', 'wedding', 'ronpaul', 'nyc', 'hotmanflesh', 'blackculture', 'Art', 'WorldHistory', 'math', 'Marxism', 'blog', 'ukpolitics', 'brasil', 'Health', 'electronicmusic', 'seduction', 'Homebrewing', 'snobs', 'crime', 'Tugimp', 'lisp', 'fakenews', 'freelance', 'Parenting', 'bookclub', 'CARTOON', 'nsfw', 'greece', 'China', 'tedtalks', 'RamaOne', 'arguments', 'Autos', 'ideasfortheadmins', 'YoDawg', 'startrek', 'muxtape', 'hardware', 'justwow', 'browsers', 'Freethought', 'television', 'WeAreTheMusicMakers', 'homeschool', 'awesomereddit', 'eggs', 'loldogs', 'antiterrorism'}\n",
      "\n",
      "6\n",
      "{'dior_lei', 'cimigo', 'Kaede_Rukawa', 'cnbeta', 'colorreddit', '5edwin'}\n",
      "\n",
      "4\n",
      "{'arabic', 'd1g', '7mooode', 'arabicblogs'}\n",
      "\n",
      "2\n",
      "{'hu', 'turkalo'}\n",
      "\n",
      "2\n",
      "{'portugal', '3cs'}\n",
      "\n",
      "2\n",
      "{'Webbook', 'Gamer'}\n"
     ]
    }
   ],
   "source": [
    "print(\"\\n*** SNetClean greedy modularity communities:\")\n",
    "for c in com.greedy_modularity_communities(SNetClean):\n",
    "    print()\n",
    "    print(len(c))\n",
    "    print(c)\n",
    "\n",
    "print(\"\\n*** SNetClean Girvan-Newman communities:\")\n",
    "for t in tuple(sorted(c) for c in next(com.girvan_newman(SNetClean))):\n",
    "    print()\n",
    "    print(len(t))\n",
    "    print(t)\n",
    "\n",
    "print(\"\\n*** SNetClean label propagation communities:\")\n",
    "for l in com.label_propagation_communities(SNetClean):\n",
    "    print()\n",
    "    print(len(l))\n",
    "    print(l)"
   ]
  },
  {
   "cell_type": "code",
   "execution_count": 157,
   "id": "7f42b3f9",
   "metadata": {},
   "outputs": [],
   "source": [
    "def plotDegFrequency(graph, weighted = False, xscale = \"log\", yscale = \"log\"):\n",
    "    if weighted:\n",
    "        degrees = graph.degree(weight = \"weight\")\n",
    "    else:\n",
    "        degrees = graph.degree()\n",
    "    \n",
    "    _, degList = zip(*degrees)\n",
    "    degCounts = Counter(degList)\n",
    "    x, y = zip(*degCounts.items())\n",
    "    \n",
    "    plt.figure(1)\n",
    "    \n",
    "    if weighted:\n",
    "        plt.xlabel(\"weighted degree\")\n",
    "    else:\n",
    "        plt.xlabel(\"degree\")\n",
    "    plt.xscale(xscale)\n",
    "    plt.xlim(1, max(x))\n",
    "    \n",
    "    plt.ylabel(\"frequency\")\n",
    "    plt.yscale(yscale)\n",
    "    plt.ylim(1, max(y))\n",
    "    \n",
    "    plt.scatter(x, y, marker = \".\")\n",
    "    plt.show()"
   ]
  },
  {
   "cell_type": "code",
   "execution_count": 158,
   "id": "7fc19783",
   "metadata": {},
   "outputs": [
    {
     "data": {
      "image/png": "[encoded data removed]",
      "text/plain": [
       "<Figure size 432x288 with 1 Axes>"
      ]
     },
     "metadata": {
      "needs_background": "light"
     },
     "output_type": "display_data"
    }
   ],
   "source": [
    "plotDegFrequency(SNet)"
   ]
  },
  {
   "cell_type": "code",
   "execution_count": 159,
   "id": "3e12631b",
   "metadata": {},
   "outputs": [
    {
     "data": {
      "image/png": "[encoded data removed]",
      "text/plain": [
       "<Figure size 432x288 with 1 Axes>"
      ]
     },
     "metadata": {
      "needs_background": "light"
     },
     "output_type": "display_data"
    }
   ],
   "source": [
    "plotDegFrequency(SNet, weighted = True)"
   ]
  },
  {
   "cell_type": "code",
   "execution_count": 160,
   "id": "356e5018",
   "metadata": {},
   "outputs": [
    {
     "data": {
      "image/png": "[encoded data removed]",
      "text/plain": [
       "<Figure size 432x288 with 1 Axes>"
      ]
     },
     "metadata": {
      "needs_background": "light"
     },
     "output_type": "display_data"
    }
   ],
   "source": [
    "plotDegFrequency(SNetT)"
   ]
  },
  {
   "cell_type": "code",
   "execution_count": 161,
   "id": "38226ae7",
   "metadata": {},
   "outputs": [
    {
     "name": "stderr",
     "output_type": "stream",
     "text": [
      "C:\\Users\\rzlat\\AppData\\Local\\Temp\\ipykernel_9312\\1800936658.py:22: UserWarning: Attempting to set identical bottom == top == 1 results in singular transformations; automatically expanding.\n",
      "  plt.ylim(1, max(y))\n"
     ]
    },
    {
     "data": {
      "image/png": "[encoded data removed]",
      "text/plain": [
       "<Figure size 432x288 with 1 Axes>"
      ]
     },
     "metadata": {
      "needs_background": "light"
     },
     "output_type": "display_data"
    }
   ],
   "source": [
    "plotDegFrequency(SNetT, weighted = True)"
   ]
  },
  {
   "cell_type": "code",
   "execution_count": 162,
   "id": "9e55c793",
   "metadata": {},
   "outputs": [
    {
     "data": {
      "image/png": "[encoded data removed]",
      "text/plain": [
       "<Figure size 432x288 with 1 Axes>"
      ]
     },
     "metadata": {
      "needs_background": "light"
     },
     "output_type": "display_data"
    }
   ],
   "source": [
    "plotDegFrequency(SNetClean)"
   ]
  },
  {
   "cell_type": "code",
   "execution_count": 163,
   "id": "b7f19709",
   "metadata": {},
   "outputs": [
    {
     "data": {
      "image/png": "[encoded data removed]",
      "text/plain": [
       "<Figure size 432x288 with 1 Axes>"
      ]
     },
     "metadata": {
      "needs_background": "light"
     },
     "output_type": "display_data"
    }
   ],
   "source": [
    "plotDegFrequency(SNetClean, weighted = True)"
   ]
  },
  {
   "cell_type": "code",
   "execution_count": 164,
   "id": "d0d24576",
   "metadata": {},
   "outputs": [
    {
     "data": {
      "image/png": "[encoded data removed]",
      "text/plain": [
       "<Figure size 432x288 with 1 Axes>"
      ]
     },
     "metadata": {
      "needs_background": "light"
     },
     "output_type": "display_data"
    },
    {
     "data": {
      "image/png": "[encoded data removed]",
      "text/plain": [
       "<Figure size 432x288 with 1 Axes>"
      ]
     },
     "metadata": {
      "needs_background": "light"
     },
     "output_type": "display_data"
    }
   ],
   "source": [
    "# Random network with size of SNet\n",
    "n = SNet.number_of_nodes()\n",
    "m = SNet.number_of_edges()\n",
    "\n",
    "Gnm = nx.gnm_random_graph(n, m)\n",
    "\n",
    "plotDegFrequency(Gnm, xscale = \"linear\", yscale = \"linear\")\n",
    "plotDegFrequency(Gnm, xscale = \"log\", yscale = \"log\")"
   ]
  },
  {
   "cell_type": "code",
   "execution_count": 165,
   "id": "78e74dee",
   "metadata": {},
   "outputs": [
    {
     "data": {
      "image/png": "[encoded data removed]",
      "text/plain": [
       "<Figure size 432x288 with 1 Axes>"
      ]
     },
     "metadata": {
      "needs_background": "light"
     },
     "output_type": "display_data"
    },
    {
     "data": {
      "image/png": "[encoded data removed]",
      "text/plain": [
       "<Figure size 432x288 with 1 Axes>"
      ]
     },
     "metadata": {
      "needs_background": "light"
     },
     "output_type": "display_data"
    }
   ],
   "source": [
    "# Random network with size of SNetT\n",
    "n = SNetT.number_of_nodes()\n",
    "m = SNetT.number_of_edges()\n",
    "\n",
    "Gnm = nx.gnm_random_graph(n, m)\n",
    "\n",
    "plotDegFrequency(Gnm, xscale = \"linear\", yscale = \"linear\")\n",
    "plotDegFrequency(Gnm, xscale = \"log\", yscale = \"log\")"
   ]
  },
  {
   "cell_type": "code",
   "execution_count": 166,
   "id": "ca6e874e",
   "metadata": {},
   "outputs": [
    {
     "data": {
      "image/png": "[encoded data removed]",
      "text/plain": [
       "<Figure size 432x288 with 1 Axes>"
      ]
     },
     "metadata": {
      "needs_background": "light"
     },
     "output_type": "display_data"
    },
    {
     "data": {
      "image/png": "[encoded data removed]",
      "text/plain": [
       "<Figure size 432x288 with 1 Axes>"
      ]
     },
     "metadata": {
      "needs_background": "light"
     },
     "output_type": "display_data"
    }
   ],
   "source": [
    "# Random network with size of SNetClean\n",
    "n = SNetClean.number_of_nodes()\n",
    "m = SNetClean.number_of_edges()\n",
    "\n",
    "Gnm = nx.gnm_random_graph(n, m)\n",
    "\n",
    "plotDegFrequency(Gnm, xscale = \"linear\", yscale = \"linear\")\n",
    "plotDegFrequency(Gnm, xscale = \"log\", yscale = \"log\")"
   ]
  },
  {
   "cell_type": "code",
   "execution_count": 167,
   "id": "d63d4e9a",
   "metadata": {},
   "outputs": [
    {
     "name": "stdout",
     "output_type": "stream",
     "text": [
      "Max number of edges: 0.0887325932550644\n",
      "Difference in number of nodes is 8, which is change of 0.022335762347488623%\n"
     ]
    },
    {
     "data": {
      "image/png": "[encoded data removed]",
      "text/plain": [
       "<Figure size 432x288 with 1 Axes>"
      ]
     },
     "metadata": {
      "needs_background": "light"
     },
     "output_type": "display_data"
    },
    {
     "data": {
      "image/png": "[encoded data removed]",
      "text/plain": [
       "<Figure size 432x288 with 1 Axes>"
      ]
     },
     "metadata": {
      "needs_background": "light"
     },
     "output_type": "display_data"
    }
   ],
   "source": [
    "# Erdos-Renyi network for SNet\n",
    "n = SNet.number_of_nodes()\n",
    "m = SNet.number_of_edges()\n",
    "p = (2 * float(m)) / (n * (n - 1))\n",
    "print(\"Max number of edges: \" + str(p))\n",
    "\n",
    "ER = nx.erdos_renyi_graph(n, p)\n",
    "\n",
    "deltaM = m - ER.number_of_edges()\n",
    "print(f\"Difference in number of nodes is {deltaM}, which is change of {abs(float(deltaM)) * 100 / m}%\")\n",
    "\n",
    "plotDegFrequency(ER, xscale = \"linear\", yscale = \"linear\")\n",
    "plotDegFrequency(ER, xscale = \"log\", yscale = \"log\")"
   ]
  },
  {
   "cell_type": "code",
   "execution_count": 168,
   "id": "d89a69a2",
   "metadata": {},
   "outputs": [
    {
     "name": "stdout",
     "output_type": "stream",
     "text": [
      "Max number of edges: 1.0\n",
      "Difference in number of nodes is 0, which is change of 0.0%\n"
     ]
    },
    {
     "data": {
      "image/png": "[encoded data removed]",
      "text/plain": [
       "<Figure size 432x288 with 1 Axes>"
      ]
     },
     "metadata": {
      "needs_background": "light"
     },
     "output_type": "display_data"
    },
    {
     "data": {
      "image/png": "[encoded data removed]",
      "text/plain": [
       "<Figure size 432x288 with 1 Axes>"
      ]
     },
     "metadata": {
      "needs_background": "light"
     },
     "output_type": "display_data"
    }
   ],
   "source": [
    "# Erdos-Renyi network for SNetT\n",
    "n = SNetT.number_of_nodes()\n",
    "m = SNetT.number_of_edges()\n",
    "p = (2 * float(m)) / (n * (n - 1))\n",
    "print(\"Max number of edges: \" + str(p))\n",
    "\n",
    "ER = nx.erdos_renyi_graph(n, p)\n",
    "\n",
    "deltaM = m - ER.number_of_edges()\n",
    "print(f\"Difference in number of nodes is {deltaM}, which is change of {abs(float(deltaM)) * 100 / m}%\")\n",
    "\n",
    "plotDegFrequency(ER, xscale = \"linear\", yscale = \"linear\")\n",
    "plotDegFrequency(ER, xscale = \"log\", yscale = \"log\")"
   ]
  },
  {
   "cell_type": "code",
   "execution_count": 169,
   "id": "f724c357",
   "metadata": {},
   "outputs": [
    {
     "name": "stdout",
     "output_type": "stream",
     "text": [
      "Max number of edges: 0.0887325932550644\n",
      "Difference in number of nodes is 28, which is change of 0.07817516821621018%\n"
     ]
    },
    {
     "data": {
      "image/png": "[encoded data removed]",
      "text/plain": [
       "<Figure size 432x288 with 1 Axes>"
      ]
     },
     "metadata": {
      "needs_background": "light"
     },
     "output_type": "display_data"
    },
    {
     "data": {
      "image/png": "[encoded data removed]",
      "text/plain": [
       "<Figure size 432x288 with 1 Axes>"
      ]
     },
     "metadata": {
      "needs_background": "light"
     },
     "output_type": "display_data"
    }
   ],
   "source": [
    "# Erdos-Renyi network for SNetClean\n",
    "n = SNetClean.number_of_nodes()\n",
    "m = SNetClean.number_of_edges()\n",
    "p = (2 * float(m)) / (n * (n - 1))\n",
    "print(\"Max number of edges: \" + str(p))\n",
    "\n",
    "ER = nx.erdos_renyi_graph(n, p)\n",
    "\n",
    "deltaM = m - ER.number_of_edges()\n",
    "print(f\"Difference in number of nodes is {deltaM}, which is change of {abs(float(deltaM)) * 100 / m}%\")\n",
    "\n",
    "plotDegFrequency(ER, xscale = \"linear\", yscale = \"linear\")\n",
    "plotDegFrequency(ER, xscale = \"log\", yscale = \"log\")"
   ]
  },
  {
   "cell_type": "code",
   "execution_count": 170,
   "id": "b356d921",
   "metadata": {},
   "outputs": [
    {
     "data": {
      "image/png": "[encoded data removed]",
      "text/plain": [
       "<Figure size 432x288 with 1 Axes>"
      ]
     },
     "metadata": {
      "needs_background": "light"
     },
     "output_type": "display_data"
    },
    {
     "name": "stdout",
     "output_type": "stream",
     "text": [
      "Calculating best minimal value for power law fit\n",
      "xmin progress: 00%\r",
      "xmin progress: 00%\r",
      "xmin progress: 00%\r",
      "xmin progress: 01%\r",
      "xmin progress: 01%\r",
      "xmin progress: 02%\r",
      "xmin progress: 02%\r",
      "xmin progress: 02%\r",
      "xmin progress: 03%\r",
      "xmin progress: 03%\r",
      "xmin progress: 04%\r",
      "xmin progress: 04%\r",
      "xmin progress: 04%\r",
      "xmin progress: 05%\r",
      "xmin progress: 05%\r",
      "xmin progress: 06%\r",
      "xmin progress: 06%\r",
      "xmin progress: 06%\r",
      "xmin progress: 07%\r",
      "xmin progress: 07%\r",
      "xmin progress: 08%\r",
      "xmin progress: 08%\r",
      "xmin progress: 09%\r",
      "xmin progress: 09%\r",
      "xmin progress: 09%\r",
      "xmin progress: 10%\r",
      "xmin progress: 10%\r",
      "xmin progress: 11%\r",
      "xmin progress: 11%\r",
      "xmin progress: 11%\r",
      "xmin progress: 12%\r",
      "xmin progress: 12%\r",
      "xmin progress: 13%\r",
      "xmin progress: 13%\r",
      "xmin progress: 13%\r",
      "xmin progress: 14%\r",
      "xmin progress: 14%\r",
      "xmin progress: 15%\r",
      "xmin progress: 15%\r",
      "xmin progress: 15%\r",
      "xmin progress: 16%\r",
      "xmin progress: 16%\r",
      "xmin progress: 17%\r",
      "xmin progress: 17%\r",
      "xmin progress: 18%\r",
      "xmin progress: 18%\r",
      "xmin progress: 18%\r",
      "xmin progress: 19%\r",
      "xmin progress: 19%\r",
      "xmin progress: 20%\r",
      "xmin progress: 20%\r",
      "xmin progress: 20%\r",
      "xmin progress: 21%\r",
      "xmin progress: 21%\r",
      "xmin progress: 22%\r",
      "xmin progress: 22%\r",
      "xmin progress: 22%\r",
      "xmin progress: 23%\r",
      "xmin progress: 23%\r",
      "xmin progress: 24%\r",
      "xmin progress: 24%\r",
      "xmin progress: 25%\r",
      "xmin progress: 25%\r",
      "xmin progress: 25%\r",
      "xmin progress: 26%\r",
      "xmin progress: 26%\r",
      "xmin progress: 27%\r",
      "xmin progress: 27%\r",
      "xmin progress: 27%\r",
      "xmin progress: 28%\r",
      "xmin progress: 28%\r",
      "xmin progress: 29%\r",
      "xmin progress: 29%\r",
      "xmin progress: 29%\r",
      "xmin progress: 30%\r",
      "xmin progress: 30%\r",
      "xmin progress: 31%\r",
      "xmin progress: 31%\r",
      "xmin progress: 31%\r",
      "xmin progress: 32%\r",
      "xmin progress: 32%\r",
      "xmin progress: 33%\r",
      "xmin progress: 33%\r",
      "xmin progress: 34%\r",
      "xmin progress: 34%\r",
      "xmin progress: 34%\r",
      "xmin progress: 35%\r",
      "xmin progress: 35%\r",
      "xmin progress: 36%\r",
      "xmin progress: 36%\r",
      "xmin progress: 36%\r",
      "xmin progress: 37%\r",
      "xmin progress: 37%\r",
      "xmin progress: 38%\r",
      "xmin progress: 38%\r",
      "xmin progress: 38%\r",
      "xmin progress: 39%\r",
      "xmin progress: 39%\r",
      "xmin progress: 40%\r",
      "xmin progress: 40%\r",
      "xmin progress: 40%\r",
      "xmin progress: 41%\r",
      "xmin progress: 41%\r",
      "xmin progress: 42%\r",
      "xmin progress: 42%\r",
      "xmin progress: 43%\r",
      "xmin progress: 43%\r",
      "xmin progress: 43%\r",
      "xmin progress: 44%\r",
      "xmin progress: 44%\r",
      "xmin progress: 45%\r",
      "xmin progress: 45%\r",
      "xmin progress: 45%\r",
      "xmin progress: 46%\r",
      "xmin progress: 46%\r",
      "xmin progress: 47%\r",
      "xmin progress: 47%\r",
      "xmin progress: 47%\r",
      "xmin progress: 48%\r",
      "xmin progress: 48%\r",
      "xmin progress: 49%\r",
      "xmin progress: 49%\r",
      "xmin progress: 50%\r",
      "xmin progress: 50%\r",
      "xmin progress: 50%\r",
      "xmin progress: 51%\r",
      "xmin progress: 51%\r",
      "xmin progress: 52%\r",
      "xmin progress: 52%\r",
      "xmin progress: 52%\r",
      "xmin progress: 53%\r",
      "xmin progress: 53%\r",
      "xmin progress: 54%\r",
      "xmin progress: 54%\r",
      "xmin progress: 54%\r",
      "xmin progress: 55%\r",
      "xmin progress: 55%\r",
      "xmin progress: 56%\r",
      "xmin progress: 56%\r",
      "xmin progress: 56%\r",
      "xmin progress: 57%\r",
      "xmin progress: 57%\r",
      "xmin progress: 58%\r",
      "xmin progress: 58%\r",
      "xmin progress: 59%\r",
      "xmin progress: 59%\r",
      "xmin progress: 59%\r",
      "xmin progress: 60%\r",
      "xmin progress: 60%\r",
      "xmin progress: 61%\r",
      "xmin progress: 61%\r",
      "xmin progress: 61%\r",
      "xmin progress: 62%\r",
      "xmin progress: 62%\r",
      "xmin progress: 63%\r",
      "xmin progress: 63%\r",
      "xmin progress: 63%\r",
      "xmin progress: 64%\r",
      "xmin progress: 64%\r",
      "xmin progress: 65%\r",
      "xmin progress: 65%\r",
      "xmin progress: 65%\r",
      "xmin progress: 66%\r",
      "xmin progress: 66%\r",
      "xmin progress: 67%\r",
      "xmin progress: 67%\r",
      "xmin progress: 68%\r",
      "xmin progress: 68%\r",
      "xmin progress: 68%\r",
      "xmin progress: 69%\r",
      "xmin progress: 69%\r",
      "xmin progress: 70%\r",
      "xmin progress: 70%\r",
      "xmin progress: 70%\r",
      "xmin progress: 71%\r",
      "xmin progress: 71%\r",
      "xmin progress: 72%\r",
      "xmin progress: 72%\r",
      "xmin progress: 72%\r",
      "xmin progress: 73%\r",
      "xmin progress: 73%\r",
      "xmin progress: 74%\r",
      "xmin progress: 74%\r",
      "xmin progress: 75%\r",
      "xmin progress: 75%\r",
      "xmin progress: 75%\r",
      "xmin progress: 76%\r",
      "xmin progress: 76%\r",
      "xmin progress: 77%\r",
      "xmin progress: 77%\r",
      "xmin progress: 77%\r",
      "xmin progress: 78%\r",
      "xmin progress: 78%\r",
      "xmin progress: 79%\r",
      "xmin progress: 79%\r",
      "xmin progress: 79%\r",
      "xmin progress: 80%\r",
      "xmin progress: 80%\r",
      "xmin progress: 81%\r",
      "xmin progress: 81%\r",
      "xmin progress: 81%\r",
      "xmin progress: 82%\r",
      "xmin progress: 82%\r",
      "xmin progress: 83%\r",
      "xmin progress: 83%\r",
      "xmin progress: 84%\r",
      "xmin progress: 84%\r",
      "xmin progress: 84%\r",
      "xmin progress: 85%\r",
      "xmin progress: 85%\r",
      "xmin progress: 86%\r",
      "xmin progress: 86%\r",
      "xmin progress: 86%\r",
      "xmin progress: 87%\r",
      "xmin progress: 87%\r",
      "xmin progress: 88%\r",
      "xmin progress: 88%\r",
      "xmin progress: 88%\r",
      "xmin progress: 89%\r",
      "xmin progress: 89%\r",
      "xmin progress: 90%\r",
      "xmin progress: 90%\r",
      "xmin progress: 90%\r",
      "xmin progress: 91%\r",
      "xmin progress: 91%\r",
      "xmin progress: 92%\r",
      "xmin progress: 92%\r",
      "xmin progress: 93%\r",
      "xmin progress: 93%\r",
      "xmin progress: 93%\r",
      "xmin progress: 94%\r",
      "xmin progress: 94%\r",
      "xmin progress: 95%\r",
      "xmin progress: 95%\r",
      "xmin progress: 95%\r",
      "xmin progress: 96%\r",
      "xmin progress: 96%\r",
      "xmin progress: 97%\r",
      "xmin progress: 97%\r",
      "xmin progress: 97%\r",
      "xmin progress: 98%\r",
      "xmin progress: 98%\r",
      "xmin progress: 99%\r",
      "xmin progress: 99%\r",
      "3.7753962436316573\n",
      "309.0\n",
      "0.3613258144986748\n",
      "Loglikelihood ratio: -2.3395251901702485\n",
      "Exponential better than power law\n",
      "Statistical significance: 0.10338597721221364\n",
      "Loglikelihood ratio: -2.181778122686975\n",
      "Truncated PL better than power law\n",
      "Statistical significance: 0.036715582901760024\n"
     ]
    },
    {
     "name": "stderr",
     "output_type": "stream",
     "text": [
      "Assuming nested distributions\n"
     ]
    }
   ],
   "source": [
    "# Power Law for SNet\n",
    "degreeSequence = sorted([d for n, d in SNet.degree()], reverse = True)\n",
    "degreeCount = Counter(degreeSequence)\n",
    "deg, cnt = zip(*degreeCount.items())\n",
    "\n",
    "maxDeg = max(deg)\n",
    "\n",
    "values, base = np.histogram(deg, bins = maxDeg)\n",
    "\n",
    "cumulative = np.cumsum(values)\n",
    "\n",
    "plt.plot(base[:-1], [float(x) / len(SNet.nodes()) for x in len(SNet.nodes()) - cumulative], c = \"blue\")\n",
    "\n",
    "plt.show()\n",
    "\n",
    "results = pl.Fit(degreeSequence)\n",
    "\n",
    "#print(results.supported_distributions)\n",
    "\n",
    "print(results.power_law.alpha)\n",
    "print(results.power_law.xmin)\n",
    "print(results.power_law.sigma)\n",
    "R, p = results.distribution_compare(\"power_law\", \"exponential\")\n",
    "print(f\"Loglikelihood ratio: {R}\")\n",
    "print(\"Exponential better than power law\" if R < 0 else \"Power law better than exponential\")\n",
    "print(f\"Statistical significance: {p}\")\n",
    "R, p = results.distribution_compare(\"power_law\", \"truncated_power_law\")\n",
    "print(f\"Loglikelihood ratio: {R}\")\n",
    "print(\"Truncated PL better than power law\" if R < 0 else \"Power law better than truncated PL\")\n",
    "print(f\"Statistical significance: {p}\")"
   ]
  },
  {
   "cell_type": "code",
   "execution_count": 171,
   "id": "dfebeaf7",
   "metadata": {},
   "outputs": [
    {
     "data": {
      "image/png": "[encoded data removed]",
      "text/plain": [
       "<Figure size 432x288 with 1 Axes>"
      ]
     },
     "metadata": {
      "needs_background": "light"
     },
     "output_type": "display_data"
    },
    {
     "name": "stdout",
     "output_type": "stream",
     "text": [
      "Calculating best minimal value for power law fit\n",
      "nan\n",
      "nan\n",
      "nan\n",
      "Loglikelihood ratio: 0\n",
      "Power law better than exponential\n",
      "Statistical significance: 1\n",
      "Loglikelihood ratio: 0\n",
      "Power law better than truncated PL\n",
      "Statistical significance: 1\n"
     ]
    },
    {
     "name": "stderr",
     "output_type": "stream",
     "text": [
      "Less than 2 unique data values left after xmin and xmax options! Cannot fit. Returning nans.\n",
      "D:\\Anaconda\\lib\\site-packages\\powerlaw.py:1151: RuntimeWarning: invalid value encountered in double_scalars\n",
      "  self.alpha = 1 + (self.n / sum(log(data/self.xmin)))\n",
      "D:\\Anaconda\\lib\\site-packages\\powerlaw.py:1170: RuntimeWarning: invalid value encountered in double_scalars\n",
      "  return 1 + len(data)/sum(log(data / (self.xmin)))\n",
      "Not enough data. Returning nan\n",
      "Not enough data. Returning nan\n",
      "C:\\Users\\rzlat\\AppData\\Roaming\\Python\\Python39\\site-packages\\numpy\\core\\fromnumeric.py:3474: RuntimeWarning: Mean of empty slice.\n",
      "  return _methods._mean(a, axis=axis, dtype=dtype,\n",
      "C:\\Users\\rzlat\\AppData\\Roaming\\Python\\Python39\\site-packages\\numpy\\core\\_methods.py:189: RuntimeWarning: invalid value encountered in double_scalars\n",
      "  ret = ret.dtype.type(ret / rcount)\n",
      "No valid fits found.\n",
      "Not enough data. Returning nan\n",
      "Assuming nested distributions\n",
      "D:\\Anaconda\\lib\\site-packages\\powerlaw.py:1383: RuntimeWarning: invalid value encountered in double_scalars\n",
      "  alpha = 1 + len(data)/sum( log( data / (self.xmin) ))\n",
      "No valid fits found.\n",
      "Not enough data. Returning nan\n"
     ]
    }
   ],
   "source": [
    "# Power Law for SNetT\n",
    "degreeSequence = sorted([d for n, d in SNetT.degree()], reverse = True)\n",
    "degreeCount = Counter(degreeSequence)\n",
    "deg, cnt = zip(*degreeCount.items())\n",
    "\n",
    "maxDeg = max(deg)\n",
    "\n",
    "values, base = np.histogram(deg, bins = maxDeg)\n",
    "\n",
    "cumulative = np.cumsum(values)\n",
    "\n",
    "plt.plot(base[:-1], [float(x) / len(SNetT.nodes()) for x in len(SNetT.nodes()) - cumulative], c = \"blue\")\n",
    "\n",
    "plt.show()\n",
    "\n",
    "results = pl.Fit(degreeSequence)\n",
    "\n",
    "#print(results.supported_distributions)\n",
    "\n",
    "print(results.power_law.alpha)\n",
    "print(results.power_law.xmin)\n",
    "print(results.power_law.sigma)\n",
    "R, p = results.distribution_compare(\"power_law\", \"exponential\")\n",
    "print(f\"Loglikelihood ratio: {R}\")\n",
    "print(\"Exponential better than power law\" if R < 0 else \"Power law better than exponential\")\n",
    "print(f\"Statistical significance: {p}\")\n",
    "R, p = results.distribution_compare(\"power_law\", \"truncated_power_law\")\n",
    "print(f\"Loglikelihood ratio: {R}\")\n",
    "print(\"Truncated PL better than power law\" if R < 0 else \"Power law better than truncated PL\")\n",
    "print(f\"Statistical significance: {p}\")"
   ]
  },
  {
   "cell_type": "code",
   "execution_count": 172,
   "id": "6c1478d0",
   "metadata": {},
   "outputs": [
    {
     "data": {
      "image/png": "[encoded data removed]",
      "text/plain": [
       "<Figure size 432x288 with 1 Axes>"
      ]
     },
     "metadata": {
      "needs_background": "light"
     },
     "output_type": "display_data"
    },
    {
     "name": "stdout",
     "output_type": "stream",
     "text": [
      "Calculating best minimal value for power law fit\n",
      "3.7753962436316573\n",
      "309.0\n",
      "0.3613258144986748\n",
      "Loglikelihood ratio: -2.3395251901702485\n",
      "Exponential better than power law\n",
      "Statistical significance: 0.10338597721221364\n",
      "Loglikelihood ratio: -2.181778122686975\n",
      "Truncated PL better than power law\n",
      "Statistical significance: 0.036715582901760024\n"
     ]
    },
    {
     "name": "stderr",
     "output_type": "stream",
     "text": [
      "Assuming nested distributions\n"
     ]
    }
   ],
   "source": [
    "# Power Law for SNetClean\n",
    "degreeSequence = sorted([d for n, d in SNetClean.degree()], reverse = True)\n",
    "degreeCount = Counter(degreeSequence)\n",
    "deg, cnt = zip(*degreeCount.items())\n",
    "\n",
    "maxDeg = max(deg)\n",
    "\n",
    "values, base = np.histogram(deg, bins = maxDeg)\n",
    "\n",
    "cumulative = np.cumsum(values)\n",
    "\n",
    "plt.plot(base[:-1], [float(x) / len(SNetClean.nodes()) for x in len(SNetClean.nodes()) - cumulative], c = \"blue\")\n",
    "\n",
    "plt.show()\n",
    "\n",
    "results = pl.Fit(degreeSequence)\n",
    "\n",
    "#print(results.supported_distributions)\n",
    "\n",
    "print(results.power_law.alpha)\n",
    "print(results.power_law.xmin)\n",
    "print(results.power_law.sigma)\n",
    "R, p = results.distribution_compare(\"power_law\", \"exponential\")\n",
    "print(f\"Loglikelihood ratio: {R}\")\n",
    "print(\"Exponential better than power law\" if R < 0 else \"Power law better than exponential\")\n",
    "print(f\"Statistical significance: {p}\")\n",
    "R, p = results.distribution_compare(\"power_law\", \"truncated_power_law\")\n",
    "print(f\"Loglikelihood ratio: {R}\")\n",
    "print(\"Truncated PL better than power law\" if R < 0 else \"Power law better than truncated PL\")\n",
    "print(f\"Statistical significance: {p}\")"
   ]
  },
  {
   "cell_type": "code",
   "execution_count": 173,
   "id": "dac649f6",
   "metadata": {},
   "outputs": [
    {
     "name": "stdout",
     "output_type": "stream",
     "text": [
      "-0.5865914891631978\n",
      "-0.007596196763209406\n",
      "Non-similar\n"
     ]
    }
   ],
   "source": [
    "# Assortativity for SNet\n",
    "r1 = nx.degree_assortativity_coefficient(SNet)\n",
    "r2 = nx.degree_assortativity_coefficient(SNet, weight = \"weight\")\n",
    "\n",
    "print(r1)\n",
    "print(r2)\n",
    "print(\"Non-similar\" if r1 < 0 else \"Similar\")"
   ]
  },
  {
   "cell_type": "code",
   "execution_count": 174,
   "id": "0df825da",
   "metadata": {},
   "outputs": [
    {
     "name": "stdout",
     "output_type": "stream",
     "text": [
      "nan\n",
      "0.00010159530135191904\n",
      "Similar\n"
     ]
    },
    {
     "name": "stderr",
     "output_type": "stream",
     "text": [
      "C:\\Users\\rzlat\\AppData\\Roaming\\Python\\Python39\\site-packages\\networkx\\algorithms\\assortativity\\correlation.py:298: RuntimeWarning: invalid value encountered in double_scalars\n",
      "  return (xy * (M - ab)).sum() / np.sqrt(vara * varb)\n"
     ]
    }
   ],
   "source": [
    "# Assortativity for SNetT\n",
    "r1 = nx.degree_assortativity_coefficient(SNetT)\n",
    "r2 = nx.degree_assortativity_coefficient(SNetT, weight = \"weight\")\n",
    "\n",
    "print(r1)\n",
    "print(r2)\n",
    "print(\"Non-similar\" if r1 < 0 else \"Similar\")"
   ]
  },
  {
   "cell_type": "code",
   "execution_count": 175,
   "id": "b09836a6",
   "metadata": {},
   "outputs": [
    {
     "name": "stdout",
     "output_type": "stream",
     "text": [
      "-0.5865914891631978\n",
      "-0.007596196763209406\n",
      "Non-similar\n"
     ]
    }
   ],
   "source": [
    "# Assortativity for SNetT\n",
    "r1 = nx.degree_assortativity_coefficient(SNetClean)\n",
    "r2 = nx.degree_assortativity_coefficient(SNetClean, weight = \"weight\")\n",
    "\n",
    "print(r1)\n",
    "print(r2)\n",
    "print(\"Non-similar\" if r1 < 0 else \"Similar\")"
   ]
  },
  {
   "cell_type": "code",
   "execution_count": 176,
   "id": "b8b64e34",
   "metadata": {},
   "outputs": [
    {
     "name": "stdout",
     "output_type": "stream",
     "text": [
      "Max local cc: 0.003324369581063895\n",
      "Average cc: 0.8449317408549895\n",
      "Local clustering coefficients that are nonzero: \n",
      "               id        cc\n",
      "88         arabic  0.000038\n",
      "636         Infos  0.000089\n",
      "676    ChileRemix  0.000150\n",
      "217      dior_lei  0.000184\n",
      "48   Kaede_Rukawa  0.000218\n",
      "..            ...       ...\n",
      "376    geospatial  0.002687\n",
      "283         hacks  0.002783\n",
      "668  philadelphia  0.003035\n",
      "478            sv  0.003125\n",
      "82     formulaone  0.003324\n",
      "\n",
      "[831 rows x 2 columns]\n"
     ]
    }
   ],
   "source": [
    "# Clustering coefficient for SNet\n",
    "subreddit, clusteringCoef = zip(*nx.clustering(SNet, weight = \"weight\").items())\n",
    "\n",
    "nonzero = [(sub, cc) for sub, cc in zip(subreddit, clusteringCoef) if cc > 0]\n",
    "\n",
    "df = pd.DataFrame(nonzero, columns = [\"id\", \"cc\"])\n",
    "df.sort_values(\"cc\", inplace = True)\n",
    "\n",
    "maxLocalClusteringCoef = max(clusteringCoef)\n",
    "avgClusteringCoef = nx.average_clustering(SNet)\n",
    "\n",
    "print(f\"Max local cc: {maxLocalClusteringCoef}\")\n",
    "print(f\"Average cc: {avgClusteringCoef}\")\n",
    "print(\"Local clustering coefficients that are nonzero: \")\n",
    "print(df)"
   ]
  },
  {
   "cell_type": "code",
   "execution_count": 177,
   "id": "51767255",
   "metadata": {},
   "outputs": [
    {
     "name": "stdout",
     "output_type": "stream",
     "text": [
      "Max local cc: 0.14465726073078275\n",
      "Average cc: 0.8449317408549895\n",
      "Local clustering coefficients that are nonzero: \n",
      "               id        cc\n",
      "32           joel  0.006683\n",
      "38          ideas  0.006698\n",
      "34           guns  0.014702\n",
      "36       software  0.014724\n",
      "35    photography  0.021563\n",
      "26         canada  0.021892\n",
      "37        history  0.023549\n",
      "11         netsec  0.027870\n",
      "27           math  0.028541\n",
      "12     philosophy  0.030092\n",
      "31         cogsci  0.032778\n",
      "33         Health  0.034204\n",
      "29          scifi  0.034427\n",
      "23           news  0.040697\n",
      "17          linux  0.041054\n",
      "30         bestof  0.044059\n",
      "6           obama  0.052194\n",
      "18           geek  0.059540\n",
      "24    environment  0.060554\n",
      "21        gadgets  0.061357\n",
      "13         videos  0.062750\n",
      "22           nsfw  0.065021\n",
      "28      Economics  0.065415\n",
      "20         comics  0.068128\n",
      "10      AskReddit  0.068848\n",
      "25        atheism  0.071358\n",
      "19         gaming  0.083993\n",
      "14        offbeat  0.086100\n",
      "4        business  0.102201\n",
      "3     programming  0.103866\n",
      "16  entertainment  0.111189\n",
      "2       worldnews  0.114678\n",
      "9             WTF  0.114919\n",
      "8      technology  0.116599\n",
      "7         science  0.119656\n",
      "15          funny  0.120469\n",
      "1            pics  0.123896\n",
      "5        politics  0.127979\n",
      "0      reddit.com  0.144657\n"
     ]
    }
   ],
   "source": [
    "# Clustering coefficient for SNetT\n",
    "subreddit, clusteringCoef = zip(*nx.clustering(SNetT, weight = \"weight\").items())\n",
    "\n",
    "nonzero = [(sub, cc) for sub, cc in zip(subreddit, clusteringCoef) if cc > 0]\n",
    "\n",
    "df = pd.DataFrame(nonzero, columns = [\"id\", \"cc\"])\n",
    "df.sort_values(\"cc\", inplace = True)\n",
    "\n",
    "maxLocalClusteringCoef = max(clusteringCoef)\n",
    "avgClusteringCoef = nx.average_clustering(SNet)\n",
    "\n",
    "print(f\"Max local cc: {maxLocalClusteringCoef}\")\n",
    "print(f\"Average cc: {avgClusteringCoef}\")\n",
    "print(\"Local clustering coefficients that are nonzero: \")\n",
    "print(df)"
   ]
  },
  {
   "cell_type": "code",
   "execution_count": 178,
   "id": "904dd2d9",
   "metadata": {},
   "outputs": [
    {
     "name": "stdout",
     "output_type": "stream",
     "text": [
      "Max local cc: 0.003324369581063895\n",
      "Average cc: 0.8449317408549895\n",
      "Local clustering coefficients that are nonzero: \n",
      "               id        cc\n",
      "88         arabic  0.000038\n",
      "636         Infos  0.000089\n",
      "676    ChileRemix  0.000150\n",
      "217      dior_lei  0.000184\n",
      "48   Kaede_Rukawa  0.000218\n",
      "..            ...       ...\n",
      "376    geospatial  0.002687\n",
      "283         hacks  0.002783\n",
      "668  philadelphia  0.003035\n",
      "478            sv  0.003125\n",
      "82     formulaone  0.003324\n",
      "\n",
      "[831 rows x 2 columns]\n"
     ]
    }
   ],
   "source": [
    "# Clustering coefficient for SNetClean\n",
    "subreddit, clusteringCoef = zip(*nx.clustering(SNetClean, weight = \"weight\").items())\n",
    "\n",
    "nonzero = [(sub, cc) for sub, cc in zip(subreddit, clusteringCoef) if cc > 0]\n",
    "\n",
    "df = pd.DataFrame(nonzero, columns = [\"id\", \"cc\"])\n",
    "df.sort_values(\"cc\", inplace = True)\n",
    "\n",
    "maxLocalClusteringCoef = max(clusteringCoef)\n",
    "avgClusteringCoef = nx.average_clustering(SNet)\n",
    "\n",
    "print(f\"Max local cc: {maxLocalClusteringCoef}\")\n",
    "print(f\"Average cc: {avgClusteringCoef}\")\n",
    "print(\"Local clustering coefficients that are nonzero: \")\n",
    "print(df)"
   ]
  },
  {
   "cell_type": "code",
   "execution_count": 192,
   "id": "4cfafbf8",
   "metadata": {},
   "outputs": [
    {
     "name": "stdout",
     "output_type": "stream",
     "text": [
      "\n",
      "SNet:\n",
      "[897, 2]\n",
      "\n",
      "SNetT:\n",
      "[39]\n",
      "\n",
      "SNetClean:\n",
      "[897, 2]\n"
     ]
    }
   ],
   "source": [
    "componentSizeList = [len(c) for c in sorted(nx.connected_components(SNet), key=len, reverse=True)]\n",
    "print(\"\\nSNet:\")\n",
    "print(componentSizeList)\n",
    "componentSizeList = [len(c) for c in sorted(nx.connected_components(SNetT), key=len, reverse=True)]\n",
    "print(\"\\nSNetT:\")\n",
    "print(componentSizeList)\n",
    "componentSizeList = [len(c) for c in sorted(nx.connected_components(SNetClean), key=len, reverse=True)]\n",
    "print(\"\\nSNetClean:\")\n",
    "print(componentSizeList)"
   ]
  },
  {
   "cell_type": "code",
   "execution_count": 180,
   "id": "5641a9bc",
   "metadata": {},
   "outputs": [
    {
     "name": "stderr",
     "output_type": "stream",
     "text": [
      "C:\\Users\\rzlat\\AppData\\Roaming\\Python\\Python39\\site-packages\\networkx\\linalg\\spectrum.py:110: FutureWarning: adjacency_matrix will return a scipy.sparse array instead of a matrix in Networkx 3.0.\n",
      "  return sp.linalg.eigvals(nx.adjacency_matrix(G, weight=weight).todense())\n"
     ]
    },
    {
     "name": "stdout",
     "output_type": "stream",
     "text": [
      "(5.451949452177373e-06+0j)\n",
      "                            KC\n",
      "lyrics      0.031461+0.000000j\n",
      "ITnews      0.031485+0.000000j\n",
      "pakistan    0.031474+0.000000j\n",
      "freemusic   0.031664+0.000000j\n",
      "skeptic     0.031692+0.000000j\n",
      "government  0.033677+0.000000j\n",
      "furry       0.031609+0.000000j\n",
      "meta        0.031704+0.000000j\n",
      "vim         0.031473+0.000000j\n",
      "askcheez    0.031524+0.000000j\n"
     ]
    },
    {
     "name": "stderr",
     "output_type": "stream",
     "text": [
      "C:\\Users\\rzlat\\AppData\\Roaming\\Python\\Python39\\site-packages\\networkx\\algorithms\\centrality\\katz.py:184: ComplexWarning: Casting complex values to real discards the imaginary part\n",
      "  s = 1.0 / math.hypot(*x.values())\n"
     ]
    }
   ],
   "source": [
    "# Katz centrality for SNet\n",
    "lambdaMax = max(nx.adjacency_spectrum(SNet))\n",
    "print(1 / lambdaMax)\n",
    "\n",
    "katzC = nx.katz_centrality(SNet, alpha = 1 / lambdaMax, beta = 1.0, max_iter=1000, tol=1, nstart=None, normalized=True, weight='weight')\n",
    "katzDF = pd.DataFrame.from_dict(katzC, orient = \"index\", columns=['KC'])\n",
    "print(katzDF.head(10))"
   ]
  },
  {
   "cell_type": "code",
   "execution_count": 181,
   "id": "3f2d70c0",
   "metadata": {},
   "outputs": [
    {
     "name": "stdout",
     "output_type": "stream",
     "text": [
      "(5.566358978068013e-06+0j)\n",
      "                               KC\n",
      "reddit.com     0.271691+0.000000j\n",
      "pics           0.230778+0.000000j\n",
      "worldnews      0.214988+0.000000j\n",
      "programming    0.197501+0.000000j\n",
      "business       0.195631+0.000000j\n",
      "politics       0.239206+0.000000j\n",
      "obama          0.130919+0.000000j\n",
      "science        0.222593+0.000000j\n",
      "technology     0.217789+0.000000j\n",
      "WTF            0.215078+0.000000j\n",
      "AskReddit      0.147381+0.000000j\n",
      "netsec         0.110260+0.000000j\n",
      "philosophy     0.111641+0.000000j\n",
      "videos         0.141139+0.000000j\n",
      "offbeat        0.169450+0.000000j\n",
      "funny          0.224869+0.000000j\n",
      "entertainment  0.209341+0.000000j\n",
      "linux          0.120356+0.000000j\n",
      "geek           0.137347+0.000000j\n",
      "gaming         0.167622+0.000000j\n",
      "comics         0.147344+0.000000j\n",
      "gadgets        0.139565+0.000000j\n",
      "nsfw           0.144378+0.000000j\n",
      "news           0.119765+0.000000j\n",
      "environment    0.138771+0.000000j\n",
      "atheism        0.151549+0.000000j\n",
      "canada         0.106524+0.000000j\n",
      "math           0.110657+0.000000j\n",
      "Economics      0.144561+0.000000j\n",
      "scifi          0.114766+0.000000j\n",
      "bestof         0.122573+0.000000j\n",
      "cogsci         0.113521+0.000000j\n",
      "joel           0.099551+0.000000j\n",
      "Health         0.114667+0.000000j\n",
      "guns           0.102643+0.000000j\n",
      "photography    0.106231+0.000000j\n",
      "software       0.102651+0.000000j\n",
      "history        0.107408+0.000000j\n",
      "ideas          0.099448+0.000000j\n"
     ]
    },
    {
     "name": "stderr",
     "output_type": "stream",
     "text": [
      "C:\\Users\\rzlat\\AppData\\Roaming\\Python\\Python39\\site-packages\\networkx\\linalg\\spectrum.py:110: FutureWarning: adjacency_matrix will return a scipy.sparse array instead of a matrix in Networkx 3.0.\n",
      "  return sp.linalg.eigvals(nx.adjacency_matrix(G, weight=weight).todense())\n",
      "C:\\Users\\rzlat\\AppData\\Roaming\\Python\\Python39\\site-packages\\networkx\\algorithms\\centrality\\katz.py:184: ComplexWarning: Casting complex values to real discards the imaginary part\n",
      "  s = 1.0 / math.hypot(*x.values())\n"
     ]
    }
   ],
   "source": [
    "# Katz centrality for SNetT\n",
    "lambdaMax = max(nx.adjacency_spectrum(SNetT))\n",
    "print(1 / lambdaMax)\n",
    "\n",
    "katzC = nx.katz_centrality(SNetT, alpha = 1 / lambdaMax, beta = 1.0, max_iter=1000, tol=1, nstart=None, normalized=True, weight='weight')\n",
    "katzDF = pd.DataFrame.from_dict(katzC, orient = \"index\", columns=['KC'])\n",
    "print(katzDF)"
   ]
  },
  {
   "cell_type": "code",
   "execution_count": 182,
   "id": "d3cd6a0b",
   "metadata": {},
   "outputs": [
    {
     "name": "stderr",
     "output_type": "stream",
     "text": [
      "C:\\Users\\rzlat\\AppData\\Roaming\\Python\\Python39\\site-packages\\networkx\\linalg\\spectrum.py:110: FutureWarning: adjacency_matrix will return a scipy.sparse array instead of a matrix in Networkx 3.0.\n",
      "  return sp.linalg.eigvals(nx.adjacency_matrix(G, weight=weight).todense())\n"
     ]
    },
    {
     "name": "stdout",
     "output_type": "stream",
     "text": [
      "(5.451949452177373e-06+0j)\n",
      "                            KC\n",
      "lyrics      0.031461+0.000000j\n",
      "ITnews      0.031485+0.000000j\n",
      "pakistan    0.031474+0.000000j\n",
      "freemusic   0.031664+0.000000j\n",
      "skeptic     0.031692+0.000000j\n",
      "government  0.033677+0.000000j\n",
      "furry       0.031609+0.000000j\n",
      "meta        0.031704+0.000000j\n",
      "vim         0.031473+0.000000j\n",
      "askcheez    0.031524+0.000000j\n"
     ]
    },
    {
     "name": "stderr",
     "output_type": "stream",
     "text": [
      "C:\\Users\\rzlat\\AppData\\Roaming\\Python\\Python39\\site-packages\\networkx\\algorithms\\centrality\\katz.py:184: ComplexWarning: Casting complex values to real discards the imaginary part\n",
      "  s = 1.0 / math.hypot(*x.values())\n"
     ]
    }
   ],
   "source": [
    "# Katz centrality for SNetClean\n",
    "lambdaMax = max(nx.adjacency_spectrum(SNetClean))\n",
    "print(1 / lambdaMax)\n",
    "\n",
    "katzC = nx.katz_centrality(SNetClean, alpha = 1 / lambdaMax, beta = 1.0, max_iter=1000, tol=1, nstart=None, normalized=True, weight='weight')\n",
    "katzDF = pd.DataFrame.from_dict(katzC, orient = \"index\", columns=['KC'])\n",
    "print(katzDF.head(10))"
   ]
  },
  {
   "cell_type": "code",
   "execution_count": 183,
   "id": "de74875d",
   "metadata": {},
   "outputs": [
    {
     "name": "stdout",
     "output_type": "stream",
     "text": [
      "0.4168800307939218\n"
     ]
    }
   ],
   "source": [
    "# Transitivity for SNet\n",
    "print(nx.transitivity(SNet))"
   ]
  },
  {
   "cell_type": "code",
   "execution_count": 184,
   "id": "debed504",
   "metadata": {},
   "outputs": [
    {
     "name": "stdout",
     "output_type": "stream",
     "text": [
      "1.0\n"
     ]
    }
   ],
   "source": [
    "# Transitivity for SNetT\n",
    "print(nx.transitivity(SNetT))"
   ]
  },
  {
   "cell_type": "code",
   "execution_count": 185,
   "id": "e834b618",
   "metadata": {},
   "outputs": [
    {
     "name": "stdout",
     "output_type": "stream",
     "text": [
      "0.4168800307939218\n"
     ]
    }
   ],
   "source": [
    "# Transitivity for SNetClean\n",
    "print(nx.transitivity(SNetClean))"
   ]
  },
  {
   "cell_type": "code",
   "execution_count": 186,
   "id": "a9784843",
   "metadata": {},
   "outputs": [
    {
     "name": "stdout",
     "output_type": "stream",
     "text": [
      "1.002020202020202\n",
      "0.09469573279875099\n",
      "\n",
      "0.0946957472278433\n",
      "\n",
      "0.00013449492586383986\n",
      "\n",
      "0.07905750000020792\n"
     ]
    }
   ],
   "source": [
    "# Louvain communities for SNet\n",
    "maxMod = -100\n",
    "maxRes = 0\n",
    "\n",
    "for i in np.linspace(0.1, 2, 100):\n",
    "    coms = com.louvain_communities(SNet, weight='weight', resolution=i, threshold=1e-07)\n",
    "    mod = com.modularity(SNet, coms)\n",
    "    if mod > maxMod:\n",
    "        maxMod = mod\n",
    "        maxRes = i\n",
    "    del coms\n",
    "\n",
    "print(maxRes)\n",
    "print(maxMod)\n",
    "print()\n",
    "print(com.modularity(SNet, com.louvain_communities(SNet, \n",
    "                                                   weight='weight', \n",
    "                                                   resolution=1, \n",
    "                                                   threshold=1e-07)))\n",
    "print()\n",
    "print(com.modularity(SNet, com.louvain_communities(SNet, \n",
    "                                                   weight='weight', \n",
    "                                                   resolution=0.5, \n",
    "                                                   threshold=1e-07)))\n",
    "print()\n",
    "print(com.modularity(SNet, com.louvain_communities(SNet, \n",
    "                                                   weight='weight', \n",
    "                                                   resolution=1.2, \n",
    "                                                   threshold=1e-07)))"
   ]
  },
  {
   "cell_type": "code",
   "execution_count": 187,
   "id": "47405191",
   "metadata": {},
   "outputs": [],
   "source": [
    "# Louvain communities for SNetT\n",
    "#maxMod = -100\n",
    "#maxRes = 0\n",
    "\n",
    "#for i in np.linspace(0.1, 2, 100):\n",
    "#    coms = com.louvain_communities(SNetT, weight='weight', resolution=i, threshold=1e-07)\n",
    "#    mod = com.modularity(SNetT, coms)\n",
    "#    if mod > maxMod:\n",
    "#        maxMod = mod\n",
    "#        maxRes = i\n",
    "#    del coms\n",
    "\n",
    "#print(maxRes)\n",
    "#print(maxMod)\n",
    "#print()\n",
    "#print(com.modularity(SNet, com.louvain_communities(SNetT, \n",
    "#                                                   weight='weight', \n",
    "#                                                   resolution=1, \n",
    "#                                                   threshold=1e-07)))\n",
    "#print()\n",
    "#print(com.modularity(SNet, com.louvain_communities(SNetT, \n",
    "#                                                   weight='weight', \n",
    "#                                                   resolution=0.5, \n",
    "#                                                   threshold=1e-07)))\n",
    "#print()\n",
    "#print(com.modularity(SNet, com.louvain_communities(SNetT, \n",
    "#                                                   weight='weight', \n",
    "#                                                   resolution=1.2, \n",
    "#                                                   threshold=1e-07)))"
   ]
  },
  {
   "cell_type": "code",
   "execution_count": 188,
   "id": "393a66a5",
   "metadata": {},
   "outputs": [
    {
     "name": "stdout",
     "output_type": "stream",
     "text": [
      "0.9828282828282827\n",
      "0.09469587179738041\n",
      "\n",
      "0.0946957472278433\n",
      "\n",
      "0.0001401693774824207\n",
      "\n",
      "0.079362321163775\n"
     ]
    }
   ],
   "source": [
    "# Louvain communities for SNetClean\n",
    "maxMod = -100\n",
    "maxRes = 0\n",
    "\n",
    "for i in np.linspace(0.1, 2, 100):\n",
    "    coms = com.louvain_communities(SNetClean, weight='weight', resolution=i, threshold=1e-07)\n",
    "    mod = com.modularity(SNetClean, coms)\n",
    "    if mod > maxMod:\n",
    "        maxMod = mod\n",
    "        maxRes = i\n",
    "    del coms\n",
    "\n",
    "print(maxRes)\n",
    "print(maxMod)\n",
    "print()\n",
    "print(com.modularity(SNet, com.louvain_communities(SNetClean, \n",
    "                                                   weight='weight', \n",
    "                                                   resolution=1, \n",
    "                                                   threshold=1e-07)))\n",
    "print()\n",
    "print(com.modularity(SNet, com.louvain_communities(SNetClean, \n",
    "                                                   weight='weight', \n",
    "                                                   resolution=0.5, \n",
    "                                                   threshold=1e-07)))\n",
    "print()\n",
    "print(com.modularity(SNet, com.louvain_communities(SNetClean, \n",
    "                                                   weight='weight', \n",
    "                                                   resolution=1.2, \n",
    "                                                   threshold=1e-07)))"
   ]
  },
  {
   "cell_type": "code",
   "execution_count": null,
   "id": "536e39ee",
   "metadata": {},
   "outputs": [],
   "source": []
  },
  {
   "cell_type": "code",
   "execution_count": null,
   "id": "d35210ef",
   "metadata": {},
   "outputs": [],
   "source": []
  }
 ],
 "metadata": {
  "kernelspec": {
   "display_name": "Python 3 (ipykernel)",
   "language": "python",
   "name": "python3"
  },
  "language_info": {
   "codemirror_mode": {
    "name": "ipython",
    "version": 3
   },
   "file_extension": ".py",
   "mimetype": "text/x-python",
   "name": "python",
   "nbconvert_exporter": "python",
   "pygments_lexer": "ipython3",
   "version": "3.9.12"
  }
 },
 "nbformat": 4,
 "nbformat_minor": 5
}
